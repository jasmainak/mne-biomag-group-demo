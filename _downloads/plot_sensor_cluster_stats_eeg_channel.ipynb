{
  "cells": [
    {
      "cell_type": "code",
      "execution_count": null,
      "metadata": {
        "collapsed": false
      },
      "outputs": [],
      "source": [
        "%matplotlib inline"
      ]
    },
    {
      "cell_type": "markdown",
      "metadata": {},
      "source": [
        "\n# Temporal clustering on a single channel\n\n\nRun a non-parametric cluster stats on sensor EEG070\non the contrast faces vs. scrambled.\n\n"
      ]
    },
    {
      "cell_type": "code",
      "execution_count": null,
      "metadata": {
        "collapsed": false
      },
      "outputs": [],
      "source": [
        "import os.path as op\nimport sys\n\nimport numpy as np\nfrom scipy import stats\nimport matplotlib.pyplot as plt\n\nimport mne\nfrom mne.stats import permutation_cluster_1samp_test\n\nsys.path.append(op.join('..', '..', 'processing'))\nfrom library.config import (meg_dir, l_freq, N_JOBS, set_matplotlib_defaults,\n                            exclude_subjects, annot_kwargs, random_state)  # noqa: E402"
      ]
    },
    {
      "cell_type": "markdown",
      "metadata": {},
      "source": [
        "Read all the data\n\n"
      ]
    },
    {
      "cell_type": "code",
      "execution_count": null,
      "metadata": {
        "collapsed": false
      },
      "outputs": [],
      "source": [
        "contrasts = list()\n\nfor subject_id in range(1, 20):\n    if subject_id in exclude_subjects:\n        continue\n    subject = \"sub%03d\" % subject_id\n    print(\"processing subject: %s\" % subject)\n    data_path = op.join(meg_dir, subject)\n    contrast = mne.read_evokeds(op.join(data_path, '%s_highpass-%sHz-ave.fif'\n                                        % (subject, l_freq)),\n                                condition='contrast')\n    contrast.apply_baseline((-0.2, 0.0)).crop(None, 0.8)\n    contrast.pick_types(meg=False, eeg=True)\n    contrasts.append(contrast)\n\ncontrast = mne.combine_evoked(contrasts, 'equal')\n\nchannel = 'EEG065'\nidx = contrast.ch_names.index(channel)\nmne.viz.plot_compare_evokeds(contrast, [idx], show_sensors=4,\n                             truncate_xaxis=False)"
      ]
    },
    {
      "cell_type": "markdown",
      "metadata": {},
      "source": [
        "Assemble the data and run the cluster stats on channel data\n\n"
      ]
    },
    {
      "cell_type": "code",
      "execution_count": null,
      "metadata": {
        "collapsed": false
      },
      "outputs": [],
      "source": [
        "data = np.array([c.data[idx] for c in contrasts])\n\nn_permutations = 1000  # number of permutations to run\n\n# set initial threshold\np_initial = 0.001\n\n# set family-wise p-value\np_thresh = 0.01\n\nconnectivity = None\ntail = 0.  # for two sided test\n\n# set cluster threshold\nn_samples = len(data)\nthreshold = -stats.t.ppf(p_initial / (1 + (tail == 0)), n_samples - 1)\nif np.sign(tail) < 0:\n    threshold = -threshold\n\ncluster_stats = permutation_cluster_1samp_test(\n    data, threshold=threshold, n_jobs=N_JOBS, verbose=True, tail=tail,\n    step_down_p=0.05, connectivity=connectivity,\n    n_permutations=n_permutations, seed=random_state)\n\nT_obs, clusters, cluster_p_values, _ = cluster_stats"
      ]
    },
    {
      "cell_type": "markdown",
      "metadata": {},
      "source": [
        "Visualize results\n\n"
      ]
    },
    {
      "cell_type": "code",
      "execution_count": null,
      "metadata": {
        "collapsed": false
      },
      "outputs": [],
      "source": [
        "set_matplotlib_defaults()\n\ntimes = 1e3 * contrast.times\n\nfig, axes = plt.subplots(2, sharex=True, figsize=(3.3, 2.5))\nax = axes[0]\nax.plot(times, 1e6 * data.mean(axis=0), label=\"ERP Contrast\")\nax.set(title='Channel : ' + channel, ylabel=\"EEG (uV)\", ylim=[-5, 2.5])\nax.legend()\nax.annotate('A', (-0.16, 1.15), **annot_kwargs)\n\nax = axes[1]\nfor i_c, c in enumerate(clusters):\n    c = c[0]\n    if cluster_p_values[i_c] < p_thresh:\n        h1 = ax.axvspan(times[c.start], times[c.stop - 1],\n                        color='r', alpha=0.3)\nhf = ax.plot(times, T_obs, 'g')\nax.legend((h1,), (u'p < %s' % p_thresh,), loc='upper right', ncol=1)\nax.set(xlabel=\"time (ms)\", ylabel=\"T-values\",\n       ylim=[-10., 10.], xlim=contrast.times[[0, -1]] * 1000)\nfig.tight_layout(pad=0.5)\nfig.savefig(op.join('..', 'figures', 'sensorstat_highpass-%sHz.pdf'\n                    % (l_freq,)), bbox_to_inches='tight')\nplt.show()"
      ]
    }
  ],
  "metadata": {
    "kernelspec": {
      "display_name": "Python 3",
      "language": "python",
      "name": "python3"
    },
    "language_info": {
      "codemirror_mode": {
        "name": "ipython",
        "version": 3
      },
      "file_extension": ".py",
      "mimetype": "text/x-python",
      "name": "python",
      "nbconvert_exporter": "python",
      "pygments_lexer": "ipython3",
      "version": "3.6.1"
    }
  },
  "nbformat": 4,
  "nbformat_minor": 0
}