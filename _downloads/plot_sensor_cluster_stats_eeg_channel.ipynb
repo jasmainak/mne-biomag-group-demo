{
  "nbformat_minor": 0, 
  "nbformat": 4, 
  "cells": [
    {
      "execution_count": null, 
      "cell_type": "code", 
      "source": [
        "%matplotlib inline"
      ], 
      "outputs": [], 
      "metadata": {
        "collapsed": false
      }
    }, 
    {
      "source": [
        "\n# Non-parametric statistics on one EEG sensor\n\n\nRun a non-parametric cluster stats on sensor EEG070\non the contrast faces vs. scrambled.\n\n"
      ], 
      "cell_type": "markdown", 
      "metadata": {}
    }, 
    {
      "execution_count": null, 
      "cell_type": "code", 
      "source": [
        "import os.path as op\nimport numpy as np\nfrom scipy import stats\nimport matplotlib.pyplot as plt\n\nimport mne\nfrom mne.stats import permutation_cluster_1samp_test\n\nfrom library.config import meg_dir, N_JOBS\n\nexclude = [1, 5, 16]  # Excluded subjects"
      ], 
      "outputs": [], 
      "metadata": {
        "collapsed": false
      }
    }, 
    {
      "source": [
        "Read all the data\n\n"
      ], 
      "cell_type": "markdown", 
      "metadata": {}
    }, 
    {
      "execution_count": null, 
      "cell_type": "code", 
      "source": [
        "contrasts = list()\n\nfor subject_id in range(1, 20):\n    if subject_id in exclude:\n        continue\n    subject = \"sub%03d\" % subject_id\n    print(\"processing subject: %s\" % subject)\n    data_path = op.join(meg_dir, subject)\n    contrast = mne.read_evokeds(op.join(data_path, '%s-ave.fif' % subject),\n                                condition='contrast')\n    contrast.pick_types(meg=False, eeg=True)\n    contrast.apply_baseline((-0.2, 0.0))\n    contrasts.append(contrast)\n\ncontrast = mne.combine_evoked(contrasts, 'equal')\n\nchannel = 'EEG065'\nidx = contrast.ch_names.index(channel)\nmne.viz.plot_compare_evokeds(contrast, [idx])"
      ], 
      "outputs": [], 
      "metadata": {
        "collapsed": false
      }
    }, 
    {
      "source": [
        "Assemble the data and run the cluster stats on channel data\n\n"
      ], 
      "cell_type": "markdown", 
      "metadata": {}
    }, 
    {
      "execution_count": null, 
      "cell_type": "code", 
      "source": [
        "data = np.array([c.data[idx] for c in contrasts])\n\nn_permutations = 1000  # number of permutations to run\n\n# set family-wise p-value\np_accept = 0.001\n\nconnectivity = None\ntail = 0.  # for two sided test\n\n# set cluster threshold\nppf = stats.t.ppf\np_thresh = p_accept / (1 + (tail == 0))\nn_samples = len(data)\nthreshold = -ppf(p_thresh, n_samples - 1)\nif np.sign(tail) < 0:\n    threshold = -threshold\n\ncluster_stats = permutation_cluster_1samp_test(\n    data, threshold=threshold, n_jobs=N_JOBS, verbose=True, tail=tail,\n    step_down_p=0.05, connectivity=connectivity,\n    n_permutations=n_permutations)\n\nT_obs, clusters, cluster_p_values, _ = cluster_stats"
      ], 
      "outputs": [], 
      "metadata": {
        "collapsed": false
      }
    }, 
    {
      "source": [
        "Visualize results\n\n"
      ], 
      "cell_type": "markdown", 
      "metadata": {}
    }, 
    {
      "execution_count": null, 
      "cell_type": "code", 
      "source": [
        "from library.config import set_matplotlib_defaults\nset_matplotlib_defaults(plt)\n\ntimes = 1e3 * contrast.times\n\nplt.close('all')\nplt.subplot(211)\nplt.title('Channel : ' + channel)\nplt.plot(times, 1e6 * data.mean(axis=0), label=\"ERP Contrast\")\nplt.ylabel(\"EEG (uV)\")\nplt.ylim([-5, 2.5])\nplt.legend()\nplt.subplot(212)\nfor i_c, c in enumerate(clusters):\n    c = c[0]\n    if cluster_p_values[i_c] <= p_accept:\n        h1 = plt.axvspan(times[c.start], times[c.stop - 1],\n                         color='r', alpha=0.3)\n    else:\n        h0 = plt.axvspan(times[c.start], times[c.stop - 1],\n                         color=(0.3, 0.3, 0.3), alpha=0.3)\nhf = plt.plot(times, T_obs, 'g')\nplt.legend((h0, h1),\n           ('cluster p-value > %s' % p_accept,\n            'cluster p-value < %s' % p_accept),\n           loc='best', ncol=1, fontsize=14)\nplt.xlabel(\"time (ms)\")\nplt.ylabel(\"T-values\")\nplt.ylim([-10., 10.])\nplt.xlim([-200, 800])\nplt.tight_layout()\nplt.show()\nplt.savefig('sensorstat.pdf', bbox_to_inches='tight')"
      ], 
      "outputs": [], 
      "metadata": {
        "collapsed": false
      }
    }
  ], 
  "metadata": {
    "kernelspec": {
      "display_name": "Python 2", 
      "name": "python2", 
      "language": "python"
    }, 
    "language_info": {
      "mimetype": "text/x-python", 
      "nbconvert_exporter": "python", 
      "name": "python", 
      "file_extension": ".py", 
      "version": "2.7.12", 
      "pygments_lexer": "ipython2", 
      "codemirror_mode": {
        "version": 2, 
        "name": "ipython"
      }
    }
  }
}