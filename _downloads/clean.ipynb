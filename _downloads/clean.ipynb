{
  "cells": [
    {
      "cell_type": "code",
      "execution_count": null,
      "metadata": {
        "collapsed": false
      },
      "outputs": [],
      "source": [
        "%matplotlib inline"
      ]
    },
    {
      "cell_type": "markdown",
      "metadata": {},
      "source": [
        "\n# Clean\n\n\nAuxiliary file for Make\n\n"
      ]
    },
    {
      "cell_type": "code",
      "execution_count": null,
      "metadata": {
        "collapsed": false
      },
      "outputs": [],
      "source": [
        "import shutil\nimport os\nimport os.path as op\nfrom library.config import meg_dir\n\nshutil.rmtree(meg_dir, ignore_errors=True)\nos.mkdir(meg_dir)\nfor subject_id in range(1, 20):\n    subject = \"sub%03d\" % subject_id\n    this_dir = op.join(meg_dir, subject)\n    print('Creating %s' % this_dir)\n    os.mkdir(op.join(meg_dir, subject))"
      ]
    }
  ],
  "metadata": {
    "kernelspec": {
      "display_name": "Python 3",
      "language": "python",
      "name": "python3"
    },
    "language_info": {
      "codemirror_mode": {
        "name": "ipython",
        "version": 3
      },
      "file_extension": ".py",
      "mimetype": "text/x-python",
      "name": "python",
      "nbconvert_exporter": "python",
      "pygments_lexer": "ipython3",
      "version": "3.6.1"
    }
  },
  "nbformat": 4,
  "nbformat_minor": 0
}