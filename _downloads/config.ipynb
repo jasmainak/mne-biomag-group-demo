{
  "cells": [
    {
      "cell_type": "code",
      "execution_count": null,
      "metadata": {
        "collapsed": false
      },
      "outputs": [],
      "source": [
        "%matplotlib inline"
      ]
    },
    {
      "cell_type": "markdown",
      "metadata": {},
      "source": [
        "\n# Config file\n\n\nConfiguration parameters for the study. This should be in a folder called\n``library/`` inside the ``processing/`` directory.\n\n"
      ]
    },
    {
      "cell_type": "code",
      "execution_count": null,
      "metadata": {
        "collapsed": false
      },
      "outputs": [],
      "source": [
        "from distutils.version import LooseVersion\nimport os\nimport numpy as np"
      ]
    },
    {
      "cell_type": "markdown",
      "metadata": {},
      "source": [
        "Let's set the path where the data is downloaded and stored.\n\n"
      ]
    },
    {
      "cell_type": "code",
      "execution_count": null,
      "metadata": {
        "collapsed": false
      },
      "outputs": [],
      "source": [
        "user = os.environ['USER']\nif user == 'gramfort':\n    study_path = '/tsi/doctorants/data_gramfort/dgw_faces'\n    N_JOBS = 8\nelif user == 'mjas':\n    study_path = '/tsi/doctorants/data_gramfort/dgw_faces_reproduce'\n    N_JOBS = 1\nelif user == 'jleppakangas':\n    study_path = '/tsi/doctorants/data_gramfort/dgw_faces'\n    N_JOBS = 8\nelif user == 'alex':\n    study_path = '/Users/alex/work/data/mne-biomag-group-demo/'\n    N_JOBS = 1\nelif user == 'larsoner':\n    study_path = os.path.join(os.path.dirname(__file__), '..', '..', '..')\n    N_JOBS = 4\nelse:\n    study_path = os.path.join(os.path.dirname(__file__), '..', '..', '..')\n    N_JOBS = 1"
      ]
    },
    {
      "cell_type": "markdown",
      "metadata": {},
      "source": [
        "The ``subjects_dir`` and ``meg_dir`` for reading anatomical and MEG files.\n\n"
      ]
    },
    {
      "cell_type": "code",
      "execution_count": null,
      "metadata": {
        "collapsed": false
      },
      "outputs": [],
      "source": [
        "subjects_dir = os.path.join(study_path, 'subjects')\nmeg_dir = os.path.join(study_path, 'MEG')\n\nos.environ[\"SUBJECTS_DIR\"] = subjects_dir\n\nspacing = 'oct6'\nmindist = 5"
      ]
    },
    {
      "cell_type": "markdown",
      "metadata": {},
      "source": [
        "Some mapping betwen filenames for bad sensors and subjects\n\n"
      ]
    },
    {
      "cell_type": "code",
      "execution_count": null,
      "metadata": {
        "collapsed": false
      },
      "outputs": [],
      "source": [
        "map_subjects = {1: 'subject_01', 2: 'subject_02', 3: 'subject_03',\n                4: 'subject_05', 5: 'subject_06', 6: 'subject_08',\n                7: 'subject_09', 8: 'subject_10', 9: 'subject_11',\n                10: 'subject_12', 11: 'subject_14', 12: 'subject_15',\n                13: 'subject_16', 14: 'subject_17', 15: 'subject_18',\n                16: 'subject_19', 17: 'subject_23', 18: 'subject_24',\n                19: 'subject_25'}\n\n\nif not os.path.isdir(study_path):\n    os.mkdir(study_path)\n\nif not os.path.isdir(subjects_dir):\n    os.mkdir(subjects_dir)"
      ]
    },
    {
      "cell_type": "markdown",
      "metadata": {},
      "source": [
        "Subjects that are known to be bad from the publication\n\n"
      ]
    },
    {
      "cell_type": "code",
      "execution_count": null,
      "metadata": {
        "collapsed": false
      },
      "outputs": [],
      "source": [
        "exclude_subjects = [1, 5, 16]  # Excluded subjects"
      ]
    },
    {
      "cell_type": "markdown",
      "metadata": {},
      "source": [
        "The `cross talk file <https://github.com/mne-tools/mne-biomag-group-demo/blob/master/scripts/results/library/ct_sparse.fif>`_\nand `calibration file <https://github.com/mne-tools/mne-biomag-group-demo/blob/master/scripts/results/library/sss_cal.dat>`_\nare placed in the same folder.\n\n"
      ]
    },
    {
      "cell_type": "code",
      "execution_count": null,
      "metadata": {
        "collapsed": false
      },
      "outputs": [],
      "source": [
        "ctc = os.path.join(os.path.dirname(__file__), 'ct_sparse.fif')\ncal = os.path.join(os.path.dirname(__file__), 'sss_cal.dat')\n\nylim = {'eeg': [-10, 10], 'mag': [-300, 300], 'grad': [-80, 80]}\n\n\ndef set_matplotlib_defaults():\n    import matplotlib.pyplot as plt\n    fontsize = 8\n    params = {'axes.labelsize': fontsize,\n              'legend.fontsize': fontsize,\n              'xtick.labelsize': fontsize,\n              'ytick.labelsize': fontsize,\n              'axes.titlesize': fontsize + 2,\n              'figure.max_open_warning': 200,\n              'axes.spines.top': False,\n              'axes.spines.right': False,\n              'axes.grid': True,\n              'lines.linewidth': 1,\n              }\n    import matplotlib\n    if LooseVersion(matplotlib.__version__) >= '2':\n        params['font.size'] = fontsize\n    else:\n        params['text.fontsize'] = fontsize\n    plt.rcParams.update(params)\n\n\nannot_kwargs = dict(fontsize=12, fontweight='bold',\n                    xycoords=\"axes fraction\", ha='right', va='center')\nl_freq = None\n\ntmin = -0.2\ntmax = 2.9  # min duration between onsets: (400 fix + 800 stim + 1700 ISI) ms\nreject_tmax = 0.8  # duration we really care about\nrandom_state = 42\n\nsmooth = 10\n\nfsaverage_vertices = [np.arange(10242), np.arange(10242)]"
      ]
    }
  ],
  "metadata": {
    "kernelspec": {
      "display_name": "Python 3",
      "language": "python",
      "name": "python3"
    },
    "language_info": {
      "codemirror_mode": {
        "name": "ipython",
        "version": 3
      },
      "file_extension": ".py",
      "mimetype": "text/x-python",
      "name": "python",
      "nbconvert_exporter": "python",
      "pygments_lexer": "ipython3",
      "version": "3.6.1"
    }
  },
  "nbformat": 4,
  "nbformat_minor": 0
}