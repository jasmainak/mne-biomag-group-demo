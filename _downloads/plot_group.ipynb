{
  "cells": [
    {
      "cell_type": "code",
      "execution_count": null,
      "metadata": {
        "collapsed": false
      },
      "outputs": [],
      "source": [
        "%matplotlib inline"
      ]
    },
    {
      "cell_type": "markdown",
      "metadata": {},
      "source": [
        "\n# Group grand averages\n\n\nGrand-average group contrasts for sensor space, dSPM, and LCMV.\n\n"
      ]
    },
    {
      "cell_type": "code",
      "execution_count": null,
      "metadata": {
        "collapsed": false
      },
      "outputs": [],
      "source": [
        "# sphinx_gallery_thumbnail_number = 1\n\nimport os.path as op\nimport sys\n\nimport matplotlib.pyplot as plt\n\nimport mne\n\nsys.path.append(op.join('..', '..', 'processing'))\nfrom library.config import (meg_dir, subjects_dir, set_matplotlib_defaults,\n                            l_freq, tmax, annot_kwargs)  # noqa: E402\n\nevokeds = mne.read_evokeds(op.join(meg_dir,\n                           'grand_average_highpass-%sHz-ave.fif' % l_freq))[:3]"
      ]
    },
    {
      "cell_type": "markdown",
      "metadata": {},
      "source": [
        "Sensor-space. See `sphx_glr_auto_scripts_11-group_average_sensors.py`\nWe use the same sensor EEG065 as in Wakeman et al.\n\n"
      ]
    },
    {
      "cell_type": "code",
      "execution_count": null,
      "metadata": {
        "collapsed": false
      },
      "outputs": [],
      "source": [
        "idx = evokeds[0].ch_names.index('EEG065')\nassert evokeds[1].ch_names[idx] == 'EEG065'\nassert evokeds[2].ch_names[idx] == 'EEG065'\nmapping = {'Famous': evokeds[0], 'Scrambled': evokeds[1],\n           'Unfamiliar': evokeds[2]}"
      ]
    },
    {
      "cell_type": "markdown",
      "metadata": {},
      "source": [
        "Let us apply baseline correction now. Here we are dealing with a single\nsensor\n\n"
      ]
    },
    {
      "cell_type": "code",
      "execution_count": null,
      "metadata": {
        "collapsed": false
      },
      "outputs": [],
      "source": [
        "for evoked in evokeds:\n    evoked.apply_baseline(baseline=(-100, 0))"
      ]
    },
    {
      "cell_type": "markdown",
      "metadata": {},
      "source": [
        "We could have used the one-line MNE function for the comparison.\n\n"
      ]
    },
    {
      "cell_type": "code",
      "execution_count": null,
      "metadata": {
        "collapsed": false
      },
      "outputs": [],
      "source": [
        "# mne.viz.plot_compare_evokeds(mapping, [idx],\n#                              title='EEG065 (Baseline from -200ms to 0ms)',)"
      ]
    },
    {
      "cell_type": "markdown",
      "metadata": {},
      "source": [
        "But here we prefer a slightly more involved plotting script to make a\npublication ready graph.\n\n"
      ]
    },
    {
      "cell_type": "code",
      "execution_count": null,
      "metadata": {
        "collapsed": false
      },
      "outputs": [],
      "source": [
        "set_matplotlib_defaults()\n\nfig, ax = plt.subplots(1, figsize=(3.3, 2.3))\nscale = 1e6\nax.plot(evoked.times * 1000, mapping['Scrambled'].data[idx] * scale,\n        'r', label='Scrambled')\nax.plot(evoked.times * 1000, mapping['Unfamiliar'].data[idx] * scale,\n        'g', label='Unfamiliar')\nax.plot(evoked.times * 1000, mapping['Famous'].data[idx] * scale, 'b',\n        label='Famous')\nax.grid(True)\nax.set(xlim=[-100, 1000 * tmax], xlabel='Time (in ms after stimulus onset)',\n       ylim=[-12.5, 5], ylabel=u'Potential difference (\u03bcV)')\nax.axvline(800, ls='--', color='k')\nif l_freq == 1:\n    ax.legend(loc='lower right')\nax.annotate('A' if l_freq is None else 'B', (-0.2, 1), **annot_kwargs)\nfig.tight_layout(pad=0.5)\nfig.savefig(op.join('..', 'figures',\n                    'grand_average_highpass-%sHz.pdf' % l_freq))\nplt.show()"
      ]
    },
    {
      "cell_type": "markdown",
      "metadata": {},
      "source": [
        "Source-space. See `sphx_glr_auto_scripts_14-group_average_source.py`\n\n"
      ]
    },
    {
      "cell_type": "code",
      "execution_count": null,
      "metadata": {
        "collapsed": false
      },
      "outputs": [],
      "source": [
        "fname = op.join(meg_dir, 'contrast-average_highpass-%sHz' % (l_freq,))\nstc = mne.read_source_estimate(fname, subject='fsaverage').magnitude()\nlims = (1, 3, 5) if l_freq is None else (0.5, 1.5, 2.5)\nbrain_dspm = stc.plot(\n    views=['ven'], hemi='both', subject='fsaverage', subjects_dir=subjects_dir,\n    initial_time=0.17, time_unit='s', figure=1, background='w',\n    clim=dict(kind='value', lims=lims), foreground='k')\nbrain_dspm.save_image(op.join('..', 'figures',\n                              'dspm-ave_highpass-%sHz.png' % (l_freq,)))"
      ]
    },
    {
      "cell_type": "markdown",
      "metadata": {},
      "source": [
        "LCMV beamformer\n\n"
      ]
    },
    {
      "cell_type": "code",
      "execution_count": null,
      "metadata": {
        "collapsed": false
      },
      "outputs": [],
      "source": [
        "fname = op.join(meg_dir, 'contrast-average-lcmv_highpass-%sHz' % (l_freq,))\nstc = mne.read_source_estimate(fname, subject='fsaverage')\nlims = (0.015, 0.03, 0.045) if l_freq is None else (0.01, 0.02, 0.03)\nbrain_lcmv = stc.plot(\n    views=['ven'], hemi='both', subject='fsaverage', subjects_dir=subjects_dir,\n    initial_time=0.17, time_unit='s', figure=2, background='w',\n    clim=dict(kind='value', lims=lims), foreground='k')\nbrain_lcmv.save_image(op.join('..', 'figures',\n                              'lcmv-ave_highpass-%sHz.png' % (l_freq,)))"
      ]
    }
  ],
  "metadata": {
    "kernelspec": {
      "display_name": "Python 3",
      "language": "python",
      "name": "python3"
    },
    "language_info": {
      "codemirror_mode": {
        "name": "ipython",
        "version": 3
      },
      "file_extension": ".py",
      "mimetype": "text/x-python",
      "name": "python",
      "nbconvert_exporter": "python",
      "pygments_lexer": "ipython3",
      "version": "3.6.1"
    }
  },
  "nbformat": 4,
  "nbformat_minor": 0
}