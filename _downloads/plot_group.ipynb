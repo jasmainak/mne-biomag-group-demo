{
  "nbformat_minor": 0, 
  "nbformat": 4, 
  "cells": [
    {
      "execution_count": null, 
      "cell_type": "code", 
      "source": [
        "%matplotlib inline"
      ], 
      "outputs": [], 
      "metadata": {
        "collapsed": false
      }
    }, 
    {
      "source": [
        "\n# Group analysis\n\n\nRun the group analysis.\n\n"
      ], 
      "cell_type": "markdown", 
      "metadata": {}
    }, 
    {
      "execution_count": null, 
      "cell_type": "code", 
      "source": [
        "import os.path as op\n\nimport matplotlib.pyplot as plt\nimport mne\n\nfrom library.config import (meg_dir, subjects_dir, set_matplotlib_defaults,\n                            l_freq)\n\nevokeds = mne.read_evokeds(op.join(meg_dir,\n                           'grand_average_highpass-%sHz-ave.fif' % l_freq))[:3]"
      ], 
      "outputs": [], 
      "metadata": {
        "collapsed": false
      }
    }, 
    {
      "source": [
        "Sensor-space. See `sphx_glr_auto_scripts_09-group_average_sensors.py`\nWe use the same sensor EEG065 as in Wakeman et al.\n\n"
      ], 
      "cell_type": "markdown", 
      "metadata": {}
    }, 
    {
      "execution_count": null, 
      "cell_type": "code", 
      "source": [
        "idx = evokeds[0].ch_names.index('EEG065')\nassert evokeds[1].ch_names[idx] == 'EEG065'\nassert evokeds[2].ch_names[idx] == 'EEG065'\nmapping = {'Famous': evokeds[0], 'Scrambled': evokeds[1],\n           'Unfamiliar': evokeds[2]}"
      ], 
      "outputs": [], 
      "metadata": {
        "collapsed": false
      }
    }, 
    {
      "source": [
        "Let us apply baseline correction now. Here we are dealing with a single\nsensor\n\n"
      ], 
      "cell_type": "markdown", 
      "metadata": {}
    }, 
    {
      "execution_count": null, 
      "cell_type": "code", 
      "source": [
        "for evoked in evokeds:\n    evoked.apply_baseline(baseline=(-100, 0))"
      ], 
      "outputs": [], 
      "metadata": {
        "collapsed": false
      }
    }, 
    {
      "source": [
        "We could have used the one-line MNE function for the comparison.\n\n"
      ], 
      "cell_type": "markdown", 
      "metadata": {}
    }, 
    {
      "execution_count": null, 
      "cell_type": "code", 
      "source": [
        "# mne.viz.plot_compare_evokeds(mapping, [idx],\n#                              title='EEG065 (Baseline from -200ms to 0ms)',)"
      ], 
      "outputs": [], 
      "metadata": {
        "collapsed": false
      }
    }, 
    {
      "source": [
        "But here we prefer a slightly more involved plotting script to make a\npublication ready graph.\n\n"
      ], 
      "cell_type": "markdown", 
      "metadata": {}
    }, 
    {
      "execution_count": null, 
      "cell_type": "code", 
      "source": [
        "set_matplotlib_defaults(plt)\n\nscale = 1e6\nplt.figure(figsize=(7, 5))\nplt.plot(evoked.times * 1000, mapping['Scrambled'].data[idx] * scale,\n         'r', linewidth=2, label='Scrambled')\nplt.plot(evoked.times * 1000, mapping['Unfamiliar'].data[idx] * scale,\n         'g', linewidth=2, label='Unfamiliar')\nplt.plot(evoked.times * 1000, mapping['Famous'].data[idx] * scale, 'b',\n         linewidth=2, label='Famous')\nplt.grid(True)\nplt.xlim([-100, 800])\nax = plt.gca()\nplt.xlabel('Time (in ms after stimulus onset)')\nplt.ylabel(r'Potential difference ($\\mu$V)')\nplt.legend()\nplt.tight_layout()\nplt.show()\nplt.savefig('grand_average_highpass-%sHz.pdf' % l_freq)"
      ], 
      "outputs": [], 
      "metadata": {
        "collapsed": false
      }
    }, 
    {
      "source": [
        "Source-space. See `sphx_glr_auto_scripts_14-group_average_source.py`\n\n"
      ], 
      "cell_type": "markdown", 
      "metadata": {}
    }, 
    {
      "execution_count": null, 
      "cell_type": "code", 
      "source": [
        "fname = op.join(meg_dir, 'contrast-average')\nstc = mne.read_source_estimate(fname, subject='fsaverage')\n\nbrain = stc.plot(views=['ven'], hemi='both', subject='fsaverage',\n                 subjects_dir=subjects_dir, initial_time=0.17, time_unit='s',\n                 clim={'lims': [99.75, 99.88, 99.98]})"
      ], 
      "outputs": [], 
      "metadata": {
        "collapsed": false
      }
    }, 
    {
      "source": [
        "LCMV beamformer\n\n"
      ], 
      "cell_type": "markdown", 
      "metadata": {}
    }, 
    {
      "execution_count": null, 
      "cell_type": "code", 
      "source": [
        "fname = op.join(meg_dir, 'contrast-average-lcmv')\nstc = mne.read_source_estimate(fname, subject='fsaverage')\n\nbrain = stc.plot(views=['ven'], hemi='both', subject='fsaverage',\n                 subjects_dir=subjects_dir, initial_time=0.17, time_unit='s',\n                 clim={'lims': [99.75, 99.88, 99.98]})"
      ], 
      "outputs": [], 
      "metadata": {
        "collapsed": false
      }
    }
  ], 
  "metadata": {
    "kernelspec": {
      "display_name": "Python 2", 
      "name": "python2", 
      "language": "python"
    }, 
    "language_info": {
      "mimetype": "text/x-python", 
      "nbconvert_exporter": "python", 
      "name": "python", 
      "file_extension": ".py", 
      "version": "2.7.12", 
      "pygments_lexer": "ipython2", 
      "codemirror_mode": {
        "version": 2, 
        "name": "ipython"
      }
    }
  }
}