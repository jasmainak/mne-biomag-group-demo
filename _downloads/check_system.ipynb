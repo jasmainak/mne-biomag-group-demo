{
  "cells": [
    {
      "cell_type": "code",
      "execution_count": null,
      "metadata": {
        "collapsed": false
      },
      "outputs": [],
      "source": [
        "%matplotlib inline"
      ]
    },
    {
      "cell_type": "markdown",
      "metadata": {},
      "source": [
        "\n# Check dependencies\n\n\nCheck if dependencies are present\n\n"
      ]
    },
    {
      "cell_type": "code",
      "execution_count": null,
      "metadata": {
        "collapsed": false
      },
      "outputs": [],
      "source": [
        "import os\nimport warnings\n\ntry:\n    import mne  # noqa\nexcept:\n    raise ValueError('mne is not installed.')\n\ntry:\n    import nibabel  # noqa\nexcept:\n    raise ValueError('nibabel is not installed.')\n\ntry:\n    import autoreject  # noqa\nexcept:\n    raise ValueError('autoreject is not installed.')\n\ntry:\n    import sklearn  # noqa\nexcept:\n    raise ValueError('sklearn is not installed.')\n\nmne.sys_info()\n\nFREESURFER_HOME = os.environ.get(\"FREESURFER_HOME\", None)\nif FREESURFER_HOME is None:\n    raise ValueError('freesurfer is not available on your system.')\nelse:\n    print(\"FREESURFER_HOME: %s\" % FREESURFER_HOME)\n\nOMP_NUM_THREADS = os.environ.get(\"OMP_NUM_THREADS\", None)\nif OMP_NUM_THREADS is None:\n    warnings.warn('OMP_NUM_THREADS is not set. We recommend you set it to '\n                  '2 or 4 depending on your system.')\nelse:\n    print(\"OMP_NUM_THREADS: %s\" % OMP_NUM_THREADS)\n\n# For building the doc:\n\ntry:\n    import sphinx_gallery  # noqa\n    print(\"sphinx_gallery: %s\" % sphinx_gallery.__version__)\nexcept:\n    raise ValueError('sphinx_gallery is not installed. '\n                     'Run: pip install sphinx_gallery')\n\ntry:\n    import sphinx_bootstrap_theme  # noqa\n    print(\"sphinx_bootstrap_theme: %s\" % sphinx_bootstrap_theme.__version__)\nexcept:\n    raise ValueError('sphinx_bootstrap_theme is not installed. '\n                     'Run: pip install sphinx_bootstrap_theme')"
      ]
    }
  ],
  "metadata": {
    "kernelspec": {
      "display_name": "Python 3",
      "language": "python",
      "name": "python3"
    },
    "language_info": {
      "codemirror_mode": {
        "name": "ipython",
        "version": 3
      },
      "file_extension": ".py",
      "mimetype": "text/x-python",
      "name": "python",
      "nbconvert_exporter": "python",
      "pygments_lexer": "ipython3",
      "version": "3.6.1"
    }
  },
  "nbformat": 4,
  "nbformat_minor": 0
}