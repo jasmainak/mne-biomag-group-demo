{
  "nbformat_minor": 0, 
  "nbformat": 4, 
  "cells": [
    {
      "execution_count": null, 
      "cell_type": "code", 
      "source": [
        "%matplotlib inline"
      ], 
      "outputs": [], 
      "metadata": {
        "collapsed": false
      }
    }, 
    {
      "source": [
        "\nRun ICA\n=======\n\nICA decomposition using fastICA.\n\n"
      ], 
      "cell_type": "markdown", 
      "metadata": {}
    }, 
    {
      "execution_count": null, 
      "cell_type": "code", 
      "source": [
        "import os\nimport os.path as op\nfrom warnings import warn\n\nimport mne\nfrom mne.preprocessing import ICA\nfrom mne.parallel import parallel_func\n\nfrom library.config import meg_dir, N_JOBS, l_freq\n\n\ndef run_ica(subject_id, tsss=False):\n    subject = \"sub%03d\" % subject_id\n    print(\"processing subject: %s\" % subject)\n    data_path = op.join(meg_dir, subject)\n    for run in range(1, 7):\n        print(\"Run: %s\" % run)\n        if tsss:\n            run_fname = op.join(data_path, 'run_%02d_filt_tsss_raw.fif' % run)\n            ica_name = op.join(meg_dir, subject, 'run_%02d-tsss-ica.fif' % run)\n        else:\n            run_fname = op.join(data_path, 'run_%02d_filt_sss_highpass-%sHz'\n                                '_raw.fif' % (run, l_freq))\n            ica_name = op.join(meg_dir, subject, 'run_%02d-ica.fif' % run)\n        if not os.path.exists(run_fname):\n            warn('Could not find file %s. '\n                 'Skipping run %s for subject %s.' % (run_fname, run, subject))\n            continue\n        raw = mne.io.read_raw_fif(run_fname)\n        if tsss:\n            raw.apply_proj()\n        ica = ICA(method='fastica', random_state=42, n_components=0.98)\n        picks = mne.pick_types(raw.info, meg=True, eeg=False, eog=False,\n                               stim=False, exclude='bads')\n        ica.fit(raw, picks=picks, reject=dict(grad=4000e-13, mag=4e-12),\n                decim=8)\n        ica.save(ica_name)\n\n\nparallel, run_func, _ = parallel_func(run_ica, n_jobs=N_JOBS)\nparallel(run_func(subject_id) for subject_id in range(1, 20))\nrun_ica(1, True)"
      ], 
      "outputs": [], 
      "metadata": {
        "collapsed": false
      }
    }
  ], 
  "metadata": {
    "kernelspec": {
      "display_name": "Python 2", 
      "name": "python2", 
      "language": "python"
    }, 
    "language_info": {
      "mimetype": "text/x-python", 
      "nbconvert_exporter": "python", 
      "name": "python", 
      "file_extension": ".py", 
      "version": "2.7.12", 
      "pygments_lexer": "ipython2", 
      "codemirror_mode": {
        "version": 2, 
        "name": "ipython"
      }
    }
  }
}