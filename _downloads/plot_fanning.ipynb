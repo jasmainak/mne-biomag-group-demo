{
  "nbformat_minor": 0, 
  "nbformat": 4, 
  "cells": [
    {
      "execution_count": null, 
      "cell_type": "code", 
      "source": [
        "%matplotlib inline"
      ], 
      "outputs": [], 
      "metadata": {
        "collapsed": false
      }
    }, 
    {
      "source": [
        "\nBaselining vs. Highpass filtering\n=================================\n\nHere we compare the evokeds when we baseline it vs.\nhighpass filter it.\n\n"
      ], 
      "cell_type": "markdown", 
      "metadata": {}
    }, 
    {
      "execution_count": null, 
      "cell_type": "code", 
      "source": [
        "import os\nimport os.path as op\nimport sys\n\nimport matplotlib.pyplot as plt\n\nimport mne\nfrom mne import Epochs\n\nsys.path.append(op.join('..', '..', 'processing'))\nfrom library.config import (study_path, meg_dir, tmin, tmax, l_freq,\n                            set_matplotlib_defaults,\n                            annot_kwargs)  # noqa: E402\n\nsubject = \"sub003\"\nevent_ids = [5, 6, 7]  # Famous faces\nfilter_params = dict(fir_window='hamming', phase='zero',\n                     h_trans_bandwidth='auto', filter_length='auto',\n                     fir_design='firwin')"
      ], 
      "outputs": [], 
      "metadata": {
        "collapsed": false
      }
    }, 
    {
      "source": [
        "Read in raw data and prepare for epoching\n\n"
      ], 
      "cell_type": "markdown", 
      "metadata": {}
    }, 
    {
      "execution_count": null, 
      "cell_type": "code", 
      "source": [
        "raw_fname = op.join(study_path, 'ds117', subject, 'MEG', 'run_01_sss.fif')\nraw = mne.io.read_raw_fif(raw_fname, preload=True, verbose='error')\n\nevents = mne.find_events(raw, stim_channel='STI101', consecutive='increasing',\n                         mask=4352, mask_type='not_and', min_duration=0.003,\n                         verbose=True)"
      ], 
      "outputs": [], 
      "metadata": {
        "collapsed": false
      }
    }, 
    {
      "source": [
        "Load our ICA.\n\n"
      ], 
      "cell_type": "markdown", 
      "metadata": {}
    }, 
    {
      "execution_count": null, 
      "cell_type": "code", 
      "source": [
        "ica = mne.preprocessing.read_ica(op.join(meg_dir, subject,\n                                         'run_concat_highpass-%sHz-ica.fif'\n                                         % (l_freq,)))"
      ], 
      "outputs": [], 
      "metadata": {
        "collapsed": false
      }
    }, 
    {
      "source": [
        "Just some config for plotting\n\n"
      ], 
      "cell_type": "markdown", 
      "metadata": {}
    }, 
    {
      "execution_count": null, 
      "cell_type": "code", 
      "source": [
        "set_matplotlib_defaults()\n\nylim = dict(mag=(-400, 400))\ntimes = [0, 0.12, 0.4, tmax-0.1]\n\nif not op.isdir('figures'):\n    os.mkdir('figures')\n\n\ndef adjust_fig(fig, label, title, include_cbar=False):\n    fig.set_size_inches(2.0, 2.0, forward=True)\n    plt.subplots_adjust(left=.18, right=.99, bottom=.18,\n                        top=1.2)\n    fig.delaxes(fig.axes[1])\n    for ax in fig.axes[1:-1]:\n        ax.set(xticks=[0])\n        ax.set(xticklabels=[ax.get_title().split()[0]], title='')\n        ax.tick_params(length=0)\n    fig.axes[-1].set_position([0.1, 0.73, 0.025, 0.2])\n    if not include_cbar:\n        fig.delaxes(fig.axes[-1])\n    fig.axes[0].get_yaxis().set_label_coords(-0.15, 0.5)\n    for li in range(len(times)):\n        fig.lines[li] = mne.viz.evoked._connection_line(\n            times[li] * 1000, fig, fig.axes[0], fig.axes[li + 1])\n    fig.axes[0].annotate(label, (-0.135, 1.35), **annot_kwargs)\n    fig.axes[2].set(title=title)"
      ], 
      "outputs": [], 
      "metadata": {
        "collapsed": false
      }
    }, 
    {
      "source": [
        "First, we don't highpass filter and only baseline correct.\n\n"
      ], 
      "cell_type": "markdown", 
      "metadata": {}
    }, 
    {
      "execution_count": null, 
      "cell_type": "code", 
      "source": [
        "plt.rcParams['axes.titlesize'] = 8\nplt.rcParams['lines.linewidth'] = 0.5\nkwargs = dict(\n    times=times, title=None, ts_args=dict(ylim=ylim, spatial_colors=True),\n    topomap_args=dict(vmin=-400, vmax=400, sensors=False, outlines='head'))\nraw.filter(None, 40, **filter_params)\nevoked = Epochs(raw, events, event_id=event_ids,\n                tmin=tmin, tmax=tmax, baseline=(None, 0)).average()\nica.apply(evoked)\nevoked.pick_types(meg='mag')\nfig = evoked.plot_joint(**kwargs)\nadjust_fig(fig, 'A', 'No highpass', include_cbar=True)\nfig.savefig(op.join('..', 'figures', 'FanningA.pdf'), bbox_to_inches='tight')"
      ], 
      "outputs": [], 
      "metadata": {
        "collapsed": false
      }
    }, 
    {
      "source": [
        "Next, we highpass filter (but no lowpass filter as we have already done it)\nbut don't baseline. Now, the late effects in the topography are no longer\nvisible (see above).\n\n"
      ], 
      "cell_type": "markdown", 
      "metadata": {}
    }, 
    {
      "execution_count": null, 
      "cell_type": "code", 
      "source": [
        "raw.filter(1, None, l_trans_bandwidth=0.5, **filter_params)\nevoked = Epochs(raw, events, event_id=event_ids,\n                tmin=tmin, tmax=tmax, baseline=None).average()\nica.apply(evoked)\nevoked.pick_types(meg='mag')\nfig = evoked.plot_joint(**kwargs)\nadjust_fig(fig, 'B', '1 Hz highpass')\nfig.savefig(op.join('..', 'figures', 'FanningB.pdf'), bbox_to_inches='tight')"
      ], 
      "outputs": [], 
      "metadata": {
        "collapsed": false
      }
    }, 
    {
      "source": [
        "Finally, we can also use the tSSS data which has a highpass\nfiltering effect and the \"fanning\" will not be visible also in this case.\nSee `sphx_glr_auto_scripts_03-maxwell_filtering.py`.\n\n"
      ], 
      "cell_type": "markdown", 
      "metadata": {}
    }, 
    {
      "execution_count": null, 
      "cell_type": "code", 
      "source": [
        "raw_fname = op.join(meg_dir, subject, 'run_01_filt_tsss_1_raw.fif')\nraw = mne.io.read_raw_fif(raw_fname, preload=True)\nevoked = Epochs(raw, events, event_id=event_ids,\n                tmin=tmin, tmax=tmax, baseline=(None, 0)).average()\nica.apply(evoked)\nevoked.pick_types(meg='mag')\nfig = evoked.plot_joint(**kwargs)\nadjust_fig(fig, 'C', 'tSSS')\nfig.savefig(op.join('..', 'figures', 'FanningC.pdf'), bbox_to_inches='tight')"
      ], 
      "outputs": [], 
      "metadata": {
        "collapsed": false
      }
    }
  ], 
  "metadata": {
    "kernelspec": {
      "display_name": "Python 2", 
      "name": "python2", 
      "language": "python"
    }, 
    "language_info": {
      "mimetype": "text/x-python", 
      "nbconvert_exporter": "python", 
      "name": "python", 
      "file_extension": ".py", 
      "version": "2.7.12", 
      "pygments_lexer": "ipython2", 
      "codemirror_mode": {
        "version": 2, 
        "name": "ipython"
      }
    }
  }
}