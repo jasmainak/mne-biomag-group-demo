{
  "nbformat_minor": 0, 
  "nbformat": 4, 
  "cells": [
    {
      "execution_count": null, 
      "cell_type": "code", 
      "source": [
        "%matplotlib inline"
      ], 
      "outputs": [], 
      "metadata": {
        "collapsed": false
      }
    }, 
    {
      "source": [
        "\nBaselining vs. Highpass filtering\n=================================\n\nHere we compare the evokeds when we baseline it vs.\nhighpass filter it.\n\n"
      ], 
      "cell_type": "markdown", 
      "metadata": {}
    }, 
    {
      "execution_count": null, 
      "cell_type": "code", 
      "source": [
        "import os.path as op\n\nimport mne\nfrom mne import Epochs\n\nfrom library.config import study_path\n\nsubject = \"sub003\"\nevent_ids = [5, 6, 7]  # Famous faces\nfilter_params = dict(fir_window='hann', phase='zero',\n                     h_trans_bandwidth='auto', filter_length='auto',\n                     fir_design='firwin')"
      ], 
      "outputs": [], 
      "metadata": {
        "collapsed": false
      }
    }, 
    {
      "source": [
        "Read in raw data and prepare for epoching\n\n"
      ], 
      "cell_type": "markdown", 
      "metadata": {}
    }, 
    {
      "execution_count": null, 
      "cell_type": "code", 
      "source": [
        "raw_fname = op.join(study_path, 'ds117', subject, 'MEG', 'run_01_sss.fif')\nraw = mne.io.read_raw_fif(raw_fname, preload=True)\n\npicks = mne.pick_types(raw.info, meg='mag', exclude='bads')\nevents = mne.find_events(raw, stim_channel='STI101', consecutive='increasing',\n                         mask=4352, mask_type='not_and', min_duration=0.003,\n                         verbose=True)"
      ], 
      "outputs": [], 
      "metadata": {
        "collapsed": false
      }
    }, 
    {
      "source": [
        "Just some config for plotting\n\n"
      ], 
      "cell_type": "markdown", 
      "metadata": {}
    }, 
    {
      "execution_count": null, 
      "cell_type": "code", 
      "source": [
        "import matplotlib.pyplot as plt  # noqa\nfrom library.config import set_matplotlib_defaults  # noqa\nset_matplotlib_defaults(plt)\n\nylim = dict(mag=(-400, 400))"
      ], 
      "outputs": [], 
      "metadata": {
        "collapsed": false
      }
    }, 
    {
      "source": [
        "First, we don't highpass filter and only baseline. Note how it creates a\nspatially varying distortation of the time-domain signal in the form\nof \"fanning\"\n\n"
      ], 
      "cell_type": "markdown", 
      "metadata": {}
    }, 
    {
      "execution_count": null, 
      "cell_type": "code", 
      "source": [
        "raw.filter(None, 40, **filter_params)\nevoked = Epochs(raw, events, event_id=event_ids, picks=picks,\n                baseline=(None, 0)).average()\nfig = evoked.plot_joint(times=\"auto\", title=None,\n                        ts_args=dict(ylim=ylim, spatial_colors=True),\n                        topomap_args=dict(vmin=-300, vmax=300))\nfig.set_size_inches(12, 6, forward=True)\nfig.savefig('FanningA.pdf', bbox_to_inches='tight')"
      ], 
      "outputs": [], 
      "metadata": {
        "collapsed": false
      }
    }, 
    {
      "source": [
        "Next, we highpass filter (but no lowpass filter as we have already done it)\nbut don't baseline. Now, the late effects in the topography are no longer\nvisible (see above) and the \"fanning\" has disappeared.\n\n"
      ], 
      "cell_type": "markdown", 
      "metadata": {}
    }, 
    {
      "execution_count": null, 
      "cell_type": "code", 
      "source": [
        "raw.filter(1, None, l_trans_bandwidth=0.5, **filter_params)\nevoked = Epochs(raw, events, event_id=event_ids, picks=picks,\n                baseline=None).average()\nfig = evoked.plot_joint(times=\"auto\", title=None,\n                        ts_args=dict(ylim=ylim, spatial_colors=True),\n                        topomap_args=dict(vmin=-300, vmax=300))\nfig.set_size_inches(12, 6, forward=True)\nfig.savefig('FanningB.pdf', bbox_to_inches='tight')"
      ], 
      "outputs": [], 
      "metadata": {
        "collapsed": false
      }
    }
  ], 
  "metadata": {
    "kernelspec": {
      "display_name": "Python 2", 
      "name": "python2", 
      "language": "python"
    }, 
    "language_info": {
      "mimetype": "text/x-python", 
      "nbconvert_exporter": "python", 
      "name": "python", 
      "file_extension": ".py", 
      "version": "2.7.12", 
      "pygments_lexer": "ipython2", 
      "codemirror_mode": {
        "version": 2, 
        "name": "ipython"
      }
    }
  }
}