{
  "nbformat_minor": 0, 
  "nbformat": 4, 
  "cells": [
    {
      "execution_count": null, 
      "cell_type": "code", 
      "source": [
        "%matplotlib inline"
      ], 
      "outputs": [], 
      "metadata": {
        "collapsed": false
      }
    }, 
    {
      "source": [
        "\n# Plot cov\n\n\nMake sphinx gallery happy.\n\n"
      ], 
      "cell_type": "markdown", 
      "metadata": {}
    }, 
    {
      "execution_count": null, 
      "cell_type": "code", 
      "source": [
        "import matplotlib.pyplot as plt\nimport os.path as op\n\nimport mne\nfrom library.config import meg_dir, set_matplotlib_defaults"
      ], 
      "outputs": [], 
      "metadata": {
        "collapsed": false
      }
    }, 
    {
      "source": [
        "Make sphinx gallery happy\n\n"
      ], 
      "cell_type": "markdown", 
      "metadata": {}
    }, 
    {
      "execution_count": null, 
      "cell_type": "code", 
      "source": [
        "subject = 'sub004'\n\nplt.style.use('seaborn-white')\nset_matplotlib_defaults(plt)\n\nraw_fname = op.join(meg_dir, subject,\n                    'run_01_filt_sss_highpass-1Hz_raw.fif')\nraw = mne.io.read_raw_fif(raw_fname, preload=True)\nrank_meg = raw.pick_types(eeg=False).estimate_rank()\n\nevo_fname = op.join(meg_dir, subject, '%s_highpass-1Hz_ave.fif' % subject)\nevoked = mne.read_evokeds(evo_fname)\n\nfamous_evo, scrambled_evo, unfamiliar_evo, contrast_evo, faces_evo = evoked\ncov = mne.read_cov(op.join(meg_dir, subject,\n                   '%s_highpass-1Hz-cov.fif' % subject))\nfig = mne.viz.evoked._plot_evoked_white(contrast_evo.pick_types(eeg=False),\n                                        cov,\n                                        rank={'meg': rank_meg})\n# fig = contrast_evo.copy().pick_types(eeg=False).plot_white(cov)\naxes = fig.axes\naxes[0].set_ylabel('Whitened data (A.U.)')\naxes[1].set_title('')\naxes[1].set_ylabel('Global Field Power')\n# axes[1].legend_.remove()\nfig.set_size_inches(8, 6, forward=True)\nplt.tight_layout()\nfig.savefig('plot_white.pdf', bbox_to_inches='tight')"
      ], 
      "outputs": [], 
      "metadata": {
        "collapsed": false
      }
    }
  ], 
  "metadata": {
    "kernelspec": {
      "display_name": "Python 2", 
      "name": "python2", 
      "language": "python"
    }, 
    "language_info": {
      "mimetype": "text/x-python", 
      "nbconvert_exporter": "python", 
      "name": "python", 
      "file_extension": ".py", 
      "version": "2.7.12", 
      "pygments_lexer": "ipython2", 
      "codemirror_mode": {
        "version": 2, 
        "name": "ipython"
      }
    }
  }
}