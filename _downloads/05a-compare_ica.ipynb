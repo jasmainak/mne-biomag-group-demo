{
  "nbformat_minor": 0, 
  "nbformat": 4, 
  "cells": [
    {
      "execution_count": null, 
      "cell_type": "code", 
      "source": [
        "%matplotlib inline"
      ], 
      "outputs": [], 
      "metadata": {
        "collapsed": false
      }
    }, 
    {
      "source": [
        "\n# Remove ECG and EOG using ICA\n\n\nRemove physiological artifacts for sub005 using ICA.\n\n"
      ], 
      "cell_type": "markdown", 
      "metadata": {}
    }, 
    {
      "execution_count": null, 
      "cell_type": "code", 
      "source": [
        "import os\nimport os.path as op\nimport sys\n\nimport mne\nfrom mne.preprocessing import create_ecg_epochs, create_eog_epochs, read_ica\n\nsys.path.append(op.join('..', '..', 'processing'))\nfrom library.config import (meg_dir, map_subjects, l_freq,\n                            set_matplotlib_defaults)  # noqa: E402\n\nset_matplotlib_defaults()\nsubject_id, run = 3, 1\nsubject = \"sub%03d\" % subject_id\nprint(\"processing subject: %s\" % subject)\n\ndata_path = op.join(meg_dir, subject)"
      ], 
      "outputs": [], 
      "metadata": {
        "collapsed": false
      }
    }, 
    {
      "source": [
        "Now we get the bad channels.\n\n"
      ], 
      "cell_type": "markdown", 
      "metadata": {}
    }, 
    {
      "execution_count": null, 
      "cell_type": "code", 
      "source": [
        "mapping = map_subjects[subject_id]  # map to correct subject\nall_bads = list()\n\nbads = list()\nbad_name = op.join('bads', mapping, 'run_%02d_raw_tr.fif_bad' % run)\nif os.path.exists(bad_name):\n    with open(bad_name) as f:\n        for line in f:\n            bads.append(line.strip())"
      ], 
      "outputs": [], 
      "metadata": {
        "collapsed": false
      }
    }, 
    {
      "source": [
        "We read the data.\n\n"
      ], 
      "cell_type": "markdown", 
      "metadata": {}
    }, 
    {
      "execution_count": null, 
      "cell_type": "code", 
      "source": [
        "run_fname = op.join(data_path, 'run_%02d_filt_sss_highpass-%sHz_raw.fif'\n                    % (run, l_freq))\nraw = mne.io.read_raw_fif(run_fname, preload=True)"
      ], 
      "outputs": [], 
      "metadata": {
        "collapsed": false
      }
    }, 
    {
      "source": [
        "Bad sensors are repaired.\n\n"
      ], 
      "cell_type": "markdown", 
      "metadata": {}
    }, 
    {
      "execution_count": null, 
      "cell_type": "code", 
      "source": [
        "raw.info['bads'] = bads\nraw.interpolate_bads()\nraw.set_eeg_reference(projection=True)"
      ], 
      "outputs": [], 
      "metadata": {
        "collapsed": false
      }
    }, 
    {
      "source": [
        "Now let's get to ICA preprocessing. Let's look at our ICA sources on raw:\n\n"
      ], 
      "cell_type": "markdown", 
      "metadata": {}
    }, 
    {
      "execution_count": null, 
      "cell_type": "code", 
      "source": [
        "ica_name = op.join(meg_dir, subject, 'run_concat_highpass-%sHz-ica.fif'\n                   % (l_freq,))\nica = read_ica(ica_name)\nica.exclude = []\nica.plot_sources(raw)"
      ], 
      "outputs": [], 
      "metadata": {
        "collapsed": false
      }
    }, 
    {
      "source": [
        "Now let's find ECG events and score ICA components:\n\n"
      ], 
      "cell_type": "markdown", 
      "metadata": {}
    }, 
    {
      "execution_count": null, 
      "cell_type": "code", 
      "source": [
        "n_max_ecg = 3  # use max 3 components\necg_epochs = create_ecg_epochs(raw, tmin=-.3, tmax=.3)\necg_epochs.decimate(5).apply_baseline((None, None))\necg_inds, scores_ecg = ica.find_bads_ecg(ecg_epochs, method='ctps')\nprint('Found %d ECG component(s)' % (len(ecg_inds),))\nica.exclude += ecg_inds[:n_max_ecg]\nica.plot_scores(scores_ecg, exclude=ecg_inds, title='ECG scores')"
      ], 
      "outputs": [], 
      "metadata": {
        "collapsed": false
      }
    }, 
    {
      "source": [
        "Let's look at how these sources impact the ECG epochs:\n\n"
      ], 
      "cell_type": "markdown", 
      "metadata": {}
    }, 
    {
      "execution_count": null, 
      "cell_type": "code", 
      "source": [
        "ica.plot_sources(ecg_epochs.average(), title='ECG average')"
      ], 
      "outputs": [], 
      "metadata": {
        "collapsed": false
      }
    }, 
    {
      "source": [
        "Then look at what gets removed:\n\n"
      ], 
      "cell_type": "markdown", 
      "metadata": {}
    }, 
    {
      "execution_count": null, 
      "cell_type": "code", 
      "source": [
        "ica.plot_overlay(ecg_epochs.average())"
      ], 
      "outputs": [], 
      "metadata": {
        "collapsed": false
      }
    }, 
    {
      "source": [
        "We can also examine the properties of these ECG sources:\n\n"
      ], 
      "cell_type": "markdown", 
      "metadata": {}
    }, 
    {
      "execution_count": null, 
      "cell_type": "code", 
      "source": [
        "ica.plot_properties(raw, ecg_inds[:n_max_ecg])"
      ], 
      "outputs": [], 
      "metadata": {
        "collapsed": false
      }
    }, 
    {
      "source": [
        "Now do the same for EOG:\n\n"
      ], 
      "cell_type": "markdown", 
      "metadata": {}
    }, 
    {
      "execution_count": null, 
      "cell_type": "code", 
      "source": [
        "n_max_eog = 3  # use max 3 components\neog_epochs = create_eog_epochs(raw, tmin=-.5, tmax=.5)\neog_epochs.decimate(5).apply_baseline((None, None))\neog_inds, scores_eog = ica.find_bads_eog(eog_epochs)\nprint('Found %d EOG component(s)' % (len(eog_inds),))\nica.exclude += eog_inds[:n_max_eog]\nica.plot_scores(scores_eog, exclude=eog_inds, title='EOG scores')"
      ], 
      "outputs": [], 
      "metadata": {
        "collapsed": false
      }
    }, 
    {
      "source": [
        "Again look at the impact of these sources on the EOG epochs:\n\n"
      ], 
      "cell_type": "markdown", 
      "metadata": {}
    }, 
    {
      "execution_count": null, 
      "cell_type": "code", 
      "source": [
        "ica.plot_sources(eog_epochs.average(), title='EOG average')"
      ], 
      "outputs": [], 
      "metadata": {
        "collapsed": false
      }
    }, 
    {
      "source": [
        "Look at what gets removed:\n\n"
      ], 
      "cell_type": "markdown", 
      "metadata": {}
    }, 
    {
      "execution_count": null, 
      "cell_type": "code", 
      "source": [
        "ica.plot_overlay(eog_epochs.average())"
      ], 
      "outputs": [], 
      "metadata": {
        "collapsed": false
      }
    }, 
    {
      "source": [
        "Look at the properties of these EOG sources:\n\n"
      ], 
      "cell_type": "markdown", 
      "metadata": {}
    }, 
    {
      "execution_count": null, 
      "cell_type": "code", 
      "source": [
        "ica.plot_properties(raw, eog_inds[:n_max_eog])"
      ], 
      "outputs": [], 
      "metadata": {
        "collapsed": false
      }
    }
  ], 
  "metadata": {
    "kernelspec": {
      "display_name": "Python 2", 
      "name": "python2", 
      "language": "python"
    }, 
    "language_info": {
      "mimetype": "text/x-python", 
      "nbconvert_exporter": "python", 
      "name": "python", 
      "file_extension": ".py", 
      "version": "2.7.12", 
      "pygments_lexer": "ipython2", 
      "codemirror_mode": {
        "version": 2, 
        "name": "ipython"
      }
    }
  }
}