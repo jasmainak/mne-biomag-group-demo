{
  "nbformat_minor": 0, 
  "nbformat": 4, 
  "cells": [
    {
      "execution_count": null, 
      "cell_type": "code", 
      "source": [
        "%matplotlib inline"
      ], 
      "outputs": [], 
      "metadata": {
        "collapsed": false
      }
    }, 
    {
      "source": [
        "\nGroup average on source level\n=============================\n\nSource estimates are computed for contrast between faces and scrambled and\nmorphed to average brain,\n\n"
      ], 
      "cell_type": "markdown", 
      "metadata": {}
    }, 
    {
      "execution_count": null, 
      "cell_type": "code", 
      "source": [
        "import os.path as op\nimport numpy as np\n\nimport mne\nfrom mne.parallel import parallel_func\nfrom mne.minimum_norm import apply_inverse, read_inverse_operator\n\nfrom library.config import meg_dir, subjects_dir, spacing, N_JOBS\n\nstcs = list()\nexclude = [1, 5, 16]  # Excluded subjects\n\n\ndef morph_stc(subject_id):\n    subject = \"sub%03d\" % subject_id\n    print(\"processing subject: %s\" % subject)\n    data_path = op.join(meg_dir, subject)\n\n    evokeds = mne.read_evokeds(op.join(meg_dir, subject,\n                                       '%s_highpass-1Hz_ave.fif' % subject))\n\n    contrast = evokeds[3]\n    fname_inv = op.join(data_path, '%s-meg-%s-inv.fif' % (subject, spacing))\n    inv = read_inverse_operator(fname_inv)\n\n    # Compute inverse solution\n    snr = 3.0\n    lambda2 = 1.0 / snr ** 2\n    stc = apply_inverse(contrast, inv, lambda2, \"dSPM\", pick_ori=None)\n    morphed = stc.morph(subject_from=subject, subject_to='fsaverage',\n                        subjects_dir=subjects_dir, grade=4)\n    morphed.save(op.join(data_path, 'contrast-morphed'))\n    return morphed\n\n\nparallel, run_func, _ = parallel_func(morph_stc, n_jobs=N_JOBS)\nstcs = parallel(run_func(subject_id) for subject_id in range(1, 20)\n                if subject_id not in exclude)\n\ndata = np.average([s.data for s in stcs], axis=0)\nstc = mne.SourceEstimate(data, stcs[0].vertices, stcs[0].tmin, stcs[0].tstep)\nstc.save(op.join(meg_dir, 'contrast-average'))"
      ], 
      "outputs": [], 
      "metadata": {
        "collapsed": false
      }
    }
  ], 
  "metadata": {
    "kernelspec": {
      "display_name": "Python 2", 
      "name": "python2", 
      "language": "python"
    }, 
    "language_info": {
      "mimetype": "text/x-python", 
      "nbconvert_exporter": "python", 
      "name": "python", 
      "file_extension": ".py", 
      "version": "2.7.12", 
      "pygments_lexer": "ipython2", 
      "codemirror_mode": {
        "version": 2, 
        "name": "ipython"
      }
    }
  }
}