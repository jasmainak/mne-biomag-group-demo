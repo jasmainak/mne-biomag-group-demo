{
  "cells": [
    {
      "cell_type": "code",
      "execution_count": null,
      "metadata": {
        "collapsed": false
      },
      "outputs": [],
      "source": [
        "%matplotlib inline"
      ]
    },
    {
      "cell_type": "markdown",
      "metadata": {},
      "source": [
        "\n=================================\n14. Group average on source level\n=================================\n\nSource estimates are morphed to the ``fsaverage`` brain.\n\n"
      ]
    },
    {
      "cell_type": "code",
      "execution_count": null,
      "metadata": {
        "collapsed": false
      },
      "outputs": [],
      "source": [
        "import os.path as op\n\nimport numpy as np\n\nimport mne\nfrom mne.parallel import parallel_func\n\nfrom library.config import (meg_dir, subjects_dir, N_JOBS, smooth,\n                            fsaverage_vertices, exclude_subjects, l_freq)\n\n\ndef morph_stc(subject_id):\n    subject = \"sub%03d\" % subject_id\n    print(\"processing subject: %s\" % subject)\n    data_path = op.join(meg_dir, subject)\n\n    # Morph STCs\n    morph_mat = None\n    for condition in ('contrast', 'faces_eq', 'scrambled_eq'):\n        stc = mne.read_source_estimate(\n            op.join(data_path, 'mne_dSPM_inverse_highpass-%sHz-%s'\n                    % (l_freq, condition)), subject)\n        if morph_mat is None:\n            morph_mat = mne.compute_morph_matrix(\n                subject, 'fsaverage', stc.vertices, fsaverage_vertices, smooth,\n                subjects_dir=subjects_dir, warn=False)\n        morphed = stc.morph_precomputed('fsaverage', fsaverage_vertices,\n                                        morph_mat)\n        morphed.save(op.join(data_path,\n                             'mne_dSPM_inverse_morph_highpass-%sHz-%s'\n                             % (l_freq, condition)))\n        if condition == 'contrast':\n            out = morphed\n    return out\n\n\nparallel, run_func, _ = parallel_func(morph_stc, n_jobs=N_JOBS)\nstcs = parallel(run_func(subject_id) for subject_id in range(1, 20))\nstcs = [stc for stc, subject_id in zip(stcs, range(1, 20))\n        if subject_id not in exclude_subjects]\ndata = np.average([s.data for s in stcs], axis=0)\nstc = mne.VectorSourceEstimate(data, stcs[0].vertices,\n                               stcs[0].tmin, stcs[0].tstep, stcs[0].subject)\nstc.save(op.join(meg_dir, 'contrast-average_highpass-%sHz' % l_freq))"
      ]
    }
  ],
  "metadata": {
    "kernelspec": {
      "display_name": "Python 3",
      "language": "python",
      "name": "python3"
    },
    "language_info": {
      "codemirror_mode": {
        "name": "ipython",
        "version": 3
      },
      "file_extension": ".py",
      "mimetype": "text/x-python",
      "name": "python",
      "nbconvert_exporter": "python",
      "pygments_lexer": "ipython3",
      "version": "3.6.1"
    }
  },
  "nbformat": 4,
  "nbformat_minor": 0
}