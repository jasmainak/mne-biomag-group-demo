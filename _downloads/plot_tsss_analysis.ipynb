{
  "nbformat_minor": 0, 
  "nbformat": 4, 
  "cells": [
    {
      "execution_count": null, 
      "cell_type": "code", 
      "source": [
        "%matplotlib inline"
      ], 
      "outputs": [], 
      "metadata": {
        "collapsed": false
      }
    }, 
    {
      "source": [
        "\n# Analysis for one subject with tSSS\n\n\nRun the analysis.\n\n"
      ], 
      "cell_type": "markdown", 
      "metadata": {}
    }, 
    {
      "execution_count": null, 
      "cell_type": "code", 
      "source": [
        "import os.path as op\nimport sys\n\nimport numpy as np\n\nimport mne\n\nsys.path.append(op.join('..', '..', 'processing'))\nfrom library.config import (study_path, meg_dir, ylim,\n                            set_matplotlib_defaults)  # noqa: E402\n\nset_matplotlib_defaults()"
      ], 
      "outputs": [], 
      "metadata": {
        "collapsed": false
      }
    }, 
    {
      "source": [
        "Configuration\n\n"
      ], 
      "cell_type": "markdown", 
      "metadata": {}
    }, 
    {
      "execution_count": null, 
      "cell_type": "code", 
      "source": [
        "subjects_dir = op.join(study_path, 'subjects')\n\nsubject = \"sub003\"\nsubject_dir = op.join(meg_dir, subject)\nst_duration = 1"
      ], 
      "outputs": [], 
      "metadata": {
        "collapsed": false
      }
    }, 
    {
      "source": [
        "Continuous data\n\n"
      ], 
      "cell_type": "markdown", 
      "metadata": {}
    }, 
    {
      "execution_count": null, 
      "cell_type": "code", 
      "source": [
        "raw_fname = op.join(study_path, 'ds117', subject, 'MEG', 'run_01_raw.fif')\nraw_filt_fname = op.join(subject_dir,\n                         'run_01_filt_tsss_%d_raw.fif' % st_duration)\n\nraw = mne.io.read_raw_fif(raw_fname)\nraw_filt = mne.io.read_raw_fif(raw_filt_fname)"
      ], 
      "outputs": [], 
      "metadata": {
        "collapsed": false
      }
    }, 
    {
      "source": [
        "Filtering `sphx_glr_auto_scripts_04-python_filtering.py`.\n\n"
      ], 
      "cell_type": "markdown", 
      "metadata": {}
    }, 
    {
      "execution_count": null, 
      "cell_type": "code", 
      "source": [
        "raw.plot_psd(n_fft=8192, average=False, xscale='log', show=False)\nraw_filt.plot_psd(n_fft=8192, average=False, xscale='log')"
      ], 
      "outputs": [], 
      "metadata": {
        "collapsed": false
      }
    }, 
    {
      "source": [
        "Events `sphx_glr_auto_scripts_02-extract_events.py`.\nEpochs `sphx_glr_auto_scripts_06-make_epochs.py`.\n\n"
      ], 
      "cell_type": "markdown", 
      "metadata": {}
    }, 
    {
      "execution_count": null, 
      "cell_type": "code", 
      "source": [
        "eve_fname = op.join(subject_dir, 'run_01-eve.fif')\nepo_fname = op.join(subject_dir, '%s-tsss_%d-epo.fif' % (subject, st_duration))\n\nevents = mne.read_events(eve_fname)\nfig = mne.viz.plot_events(events, show=False)\nfig.suptitle('Events from run 01')\n\nepochs = mne.read_epochs(epo_fname)\nepochs.plot_drop_log()"
      ], 
      "outputs": [], 
      "metadata": {
        "collapsed": false
      }
    }, 
    {
      "source": [
        "Evoked responses `sphx_glr_auto_scripts_07-make_evoked.py`\n\n"
      ], 
      "cell_type": "markdown", 
      "metadata": {}
    }, 
    {
      "execution_count": null, 
      "cell_type": "code", 
      "source": [
        "ave_fname = op.join(subject_dir, '%s-tsss_%d-ave.fif' % (subject, st_duration))\nevoked = mne.read_evokeds(ave_fname)\nfamous_evo, scrambled_evo, unfamiliar_evo, contrast_evo, faces_evo = evoked[:5]"
      ], 
      "outputs": [], 
      "metadata": {
        "collapsed": false
      }
    }, 
    {
      "source": [
        "Faces\n\n"
      ], 
      "cell_type": "markdown", 
      "metadata": {}
    }, 
    {
      "execution_count": null, 
      "cell_type": "code", 
      "source": [
        "faces_evo.plot(spatial_colors=True, gfp=True, ylim=ylim,\n               window_title='Faces %s' % subject)"
      ], 
      "outputs": [], 
      "metadata": {
        "collapsed": false
      }
    }, 
    {
      "source": [
        "Famous\n\n"
      ], 
      "cell_type": "markdown", 
      "metadata": {}
    }, 
    {
      "execution_count": null, 
      "cell_type": "code", 
      "source": [
        "famous_evo.plot(spatial_colors=True, gfp=True, ylim=ylim,\n                window_title='Famous %s' % subject)"
      ], 
      "outputs": [], 
      "metadata": {
        "collapsed": false
      }
    }, 
    {
      "source": [
        "Scrambled\n\n"
      ], 
      "cell_type": "markdown", 
      "metadata": {}
    }, 
    {
      "execution_count": null, 
      "cell_type": "code", 
      "source": [
        "scrambled_evo.plot(spatial_colors=True, gfp=True, ylim=ylim,\n                   window_title='Scrambled %s' % subject)"
      ], 
      "outputs": [], 
      "metadata": {
        "collapsed": false
      }
    }, 
    {
      "source": [
        "Unfamiliar\n\n"
      ], 
      "cell_type": "markdown", 
      "metadata": {}
    }, 
    {
      "execution_count": null, 
      "cell_type": "code", 
      "source": [
        "unfamiliar_evo.plot(spatial_colors=True, gfp=True, ylim=ylim,\n                    window_title='Unfamiliar %s' % subject)"
      ], 
      "outputs": [], 
      "metadata": {
        "collapsed": false
      }
    }, 
    {
      "source": [
        "Faces - scrambled\n\n"
      ], 
      "cell_type": "markdown", 
      "metadata": {}
    }, 
    {
      "execution_count": null, 
      "cell_type": "code", 
      "source": [
        "contrast_evo.plot(spatial_colors=True, gfp=True, ylim=ylim,\n                  window_title='Faces - scrambled %s' % subject)"
      ], 
      "outputs": [], 
      "metadata": {
        "collapsed": false
      }
    }, 
    {
      "source": [
        "Topomaps\n\n"
      ], 
      "cell_type": "markdown", 
      "metadata": {}
    }, 
    {
      "execution_count": null, 
      "cell_type": "code", 
      "source": [
        "times = np.arange(0.05, 0.3, 0.025)\nfamous_evo.plot_topomap(times=times, title='Famous %s' % subject,\n                        show=False)\nscrambled_evo.plot_topomap(times=times, title='Scrambled %s' % subject,\n                           show=False)\nunfamiliar_evo.plot_topomap(times=times, title='Unfamiliar %s' % subject,\n                            show=False)\ncontrast_evo.plot_topomap(times=times, title='Faces - scrambled %s' % subject,\n                          show=True)"
      ], 
      "outputs": [], 
      "metadata": {
        "collapsed": false
      }
    }, 
    {
      "source": [
        "ICA (ECG)\n\n"
      ], 
      "cell_type": "markdown", 
      "metadata": {}
    }, 
    {
      "execution_count": null, 
      "cell_type": "code", 
      "source": [
        "ica_fname = op.join(subject_dir, 'run_concat-tsss_%d-ica.fif'\n                    % (st_duration,))\nica = mne.preprocessing.read_ica(ica_fname)\n\necg_scores = np.load(\n    op.join(subject_dir, '%s-tsss_%d-ecg-scores.npy'\n            % (subject, st_duration)))\nica.plot_scores(ecg_scores, show=False, title='ICA ECG scores')\necg_evoked = mne.read_evokeds(\n    op.join(subject_dir, '%s-tsss_%d-ecg-ave.fif'\n            % (subject, st_duration)))[0]\nica.plot_sources(ecg_evoked, title='ECG evoked', show=True)"
      ], 
      "outputs": [], 
      "metadata": {
        "collapsed": false
      }
    }, 
    {
      "source": [
        "ICA (EOG)\n\n"
      ], 
      "cell_type": "markdown", 
      "metadata": {}
    }, 
    {
      "execution_count": null, 
      "cell_type": "code", 
      "source": [
        "eog_scores = np.load(\n    op.join(subject_dir, '%s-tsss_%d-eog-scores.npy'\n            % (subject, st_duration)))\nica.plot_scores(eog_scores, show=False, title='ICA EOG scores')\neog_evoked = mne.read_evokeds(\n    op.join(subject_dir, '%s-tsss_%d-eog-ave.fif'\n            % (subject, st_duration)))[0]\nica.plot_sources(eog_evoked, title='EOG evoked', show=True)"
      ], 
      "outputs": [], 
      "metadata": {
        "collapsed": false
      }
    }, 
    {
      "source": [
        "Covariance `sphx_glr_auto_scripts_07-make_evoked.py`.\n\n"
      ], 
      "cell_type": "markdown", 
      "metadata": {}
    }, 
    {
      "execution_count": null, 
      "cell_type": "code", 
      "source": [
        "cov_fname = op.join(subject_dir,\n                    '%s-tsss_%d-cov.fif' % (subject, st_duration))\ncov = mne.read_cov(cov_fname)\nmne.viz.plot_cov(cov, faces_evo.info)\nrank_dict = dict(\n    meg=raw_filt.copy().load_data().pick_types(eeg=False).estimate_rank())\nfor kind in ('meg', 'eeg'):\n    type_dict = dict(meg=False)\n    type_dict.update({kind: True})\n    fig = faces_evo.copy().apply_baseline().pick_types(\n        **type_dict).plot_white(cov, rank=rank_dict if kind == 'meg' else {})\n    for ax, ylabel in zip(fig.axes, ('Whitened\\n%s (AU)' % (kind.upper(),),\n                                     'GFP ($\\chi^2$)')):\n        ax.set(ylabel=ylabel)\n    fig.axes[-1].set(title='', ylim=[0, 20])\n    fig.axes[-1].legend(loc='lower center')\n    fig.set_size_inches(3.5, 3, forward=True)\n    fig.tight_layout()\n    fig.savefig(op.join('..', 'figures', '%s-tsss_%d-plot_white_%s.pdf'\n                        % (subject, st_duration, kind)))"
      ], 
      "outputs": [], 
      "metadata": {
        "collapsed": false
      }
    }
  ], 
  "metadata": {
    "kernelspec": {
      "display_name": "Python 2", 
      "name": "python2", 
      "language": "python"
    }, 
    "language_info": {
      "mimetype": "text/x-python", 
      "nbconvert_exporter": "python", 
      "name": "python", 
      "file_extension": ".py", 
      "version": "2.7.12", 
      "pygments_lexer": "ipython2", 
      "codemirror_mode": {
        "version": 2, 
        "name": "ipython"
      }
    }
  }
}