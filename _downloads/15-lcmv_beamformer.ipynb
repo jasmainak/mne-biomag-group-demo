{
  "cells": [
    {
      "cell_type": "code",
      "execution_count": null,
      "metadata": {
        "collapsed": false
      },
      "outputs": [],
      "source": [
        "%matplotlib inline"
      ]
    },
    {
      "cell_type": "markdown",
      "metadata": {},
      "source": [
        "\n===================\n15. LCMV beamformer\n===================\n\nCompute LCMV beamformer.\n\n"
      ]
    },
    {
      "cell_type": "code",
      "execution_count": null,
      "metadata": {
        "collapsed": false
      },
      "outputs": [],
      "source": [
        "import os.path as op\n\nimport mne\nfrom mne.parallel import parallel_func\nfrom mne.beamformer import lcmv\n\nfrom library.config import meg_dir, spacing, N_JOBS, l_freq\n\n\ndef run_lcmv(subject_id):\n    subject = \"sub%03d\" % subject_id\n    print(\"processing subject: %s\" % subject)\n    data_path = op.join(meg_dir, subject)\n\n    fname_epo = op.join(data_path,\n                        '%s_highpass-%sHz-epo.fif' % (subject, l_freq))\n    fname_ave = op.join(data_path,\n                        '%s_highpass-%sHz-ave.fif' % (subject, l_freq))\n    fname_cov = op.join(data_path,\n                        '%s_highpass-%sHz-cov.fif' % (subject, l_freq))\n    fname_fwd = op.join(data_path, '%s-meg-eeg-%s-fwd.fif'\n                        % (subject, spacing))\n\n    epochs = mne.read_epochs(fname_epo, preload=False)\n    data_cov = mne.compute_covariance(\n        epochs[['face', 'scrambled']], tmin=0.03, tmax=0.3, method='shrunk')\n    evoked = mne.read_evokeds(fname_ave, condition='contrast')\n    noise_cov = mne.read_cov(fname_cov)\n    forward = mne.read_forward_solution(fname_fwd)\n    forward = mne.convert_forward_solution(forward, surf_ori=True)\n    stc = abs(lcmv(evoked, forward, noise_cov, data_cov, pick_ori='max-power',\n                   max_ori_out='signed'))\n    stc.save(op.join(data_path, 'mne_LCMV_inverse_highpass-%sHz-contrast'\n                     % (l_freq,)))\n\n\nparallel, run_func, _ = parallel_func(run_lcmv, n_jobs=N_JOBS)\nparallel(run_func(subject_id) for subject_id in range(1, 20))"
      ]
    }
  ],
  "metadata": {
    "kernelspec": {
      "display_name": "Python 3",
      "language": "python",
      "name": "python3"
    },
    "language_info": {
      "codemirror_mode": {
        "name": "ipython",
        "version": 3
      },
      "file_extension": ".py",
      "mimetype": "text/x-python",
      "name": "python",
      "nbconvert_exporter": "python",
      "pygments_lexer": "ipython3",
      "version": "3.6.1"
    }
  },
  "nbformat": 4,
  "nbformat_minor": 0
}