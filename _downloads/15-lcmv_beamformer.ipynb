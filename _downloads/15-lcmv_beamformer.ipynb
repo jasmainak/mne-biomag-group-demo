{
  "nbformat_minor": 0, 
  "nbformat": 4, 
  "cells": [
    {
      "execution_count": null, 
      "cell_type": "code", 
      "source": [
        "%matplotlib inline"
      ], 
      "outputs": [], 
      "metadata": {
        "collapsed": false
      }
    }, 
    {
      "source": [
        "\nLCMV beamformer\n===============\n\nCompute LCMV beamformer.\n\n"
      ], 
      "cell_type": "markdown", 
      "metadata": {}
    }, 
    {
      "execution_count": null, 
      "cell_type": "code", 
      "source": [
        "import os.path as op\n\nimport mne\nfrom mne.parallel import parallel_func\nfrom mne.beamformer import lcmv\n\nfrom library.config import meg_dir, spacing, N_JOBS, l_freq\n\n\ndef run_inverse(subject_id):\n    subject = \"sub%03d\" % subject_id\n    print(\"processing subject: %s\" % subject)\n    data_path = op.join(meg_dir, subject)\n\n    fname_ave = op.join(data_path, '%s-ave.fif' % subject)\n    fname_cov = op.join(data_path, '%s_highpass-%sHz-cov.fif' % (subject,\n                                                                 l_freq))\n    fname_fwd = op.join(data_path, '%s-meg-%s-fwd.fif' % (subject, spacing))\n\n    epochs = mne.read_epochs(op.join(data_path, '%s-epo.fif' % subject),\n                             preload=False)\n    data_cov = mne.compute_covariance(epochs, tmin=0.03, tmax=0.3)\n    evoked = mne.read_evokeds(fname_ave, condition=[4])[0]\n    noise_cov = mne.read_cov(fname_cov)\n    forward = mne.read_forward_solution(fname_fwd, surf_ori=True)\n\n    stc = lcmv(evoked, forward, noise_cov, data_cov, reg=0.)\n    stc.save(op.join(data_path, 'mne_LCMV_inverse-contrast'))\n\n\nparallel, run_func, _ = parallel_func(run_inverse, n_jobs=N_JOBS)\nparallel(run_func(subject_id) for subject_id in range(1, 20))"
      ], 
      "outputs": [], 
      "metadata": {
        "collapsed": false
      }
    }
  ], 
  "metadata": {
    "kernelspec": {
      "display_name": "Python 2", 
      "name": "python2", 
      "language": "python"
    }, 
    "language_info": {
      "mimetype": "text/x-python", 
      "nbconvert_exporter": "python", 
      "name": "python", 
      "file_extension": ".py", 
      "version": "2.7.12", 
      "pygments_lexer": "ipython2", 
      "codemirror_mode": {
        "version": 2, 
        "name": "ipython"
      }
    }
  }
}