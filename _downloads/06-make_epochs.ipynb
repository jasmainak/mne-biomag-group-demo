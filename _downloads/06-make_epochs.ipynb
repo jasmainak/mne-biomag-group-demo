{
  "cells": [
    {
      "cell_type": "code",
      "execution_count": null,
      "metadata": {
        "collapsed": false
      },
      "outputs": [],
      "source": [
        "%matplotlib inline"
      ]
    },
    {
      "cell_type": "markdown",
      "metadata": {},
      "source": [
        "\n====================\n06. Construct epochs\n====================\n\nThe epochs are constructed by using the events created in script 03. MNE\nsupports hierarchical events that allows selection to different groups more\neasily. Some channels were not properly defined during acquisition, so they\nare redefined before epoching. Bad EEG channels are interpolated and epochs\ncontaining blinks are rejected. ECG artifacts are corrected using ICA. Finally\nthe epochs are saved to disk. To save space, the epoch data is decimated by\na factor of 5 (from a sample rate of 1100 Hz to 220 Hz).\n\n"
      ]
    },
    {
      "cell_type": "code",
      "execution_count": null,
      "metadata": {
        "collapsed": false
      },
      "outputs": [],
      "source": [
        "import os\nimport tempfile\nimport os.path as op\n\nimport numpy as np\n\nimport mne\nfrom mne.parallel import parallel_func\nfrom mne.preprocessing import create_ecg_epochs, create_eog_epochs, read_ica\n\nfrom autoreject import get_rejection_threshold\n\nfrom library.config import (meg_dir, map_subjects, l_freq, tmin, tmax,\n                            reject_tmax, random_state, N_JOBS)"
      ]
    },
    {
      "cell_type": "markdown",
      "metadata": {},
      "source": [
        "We define the events and the onset and offset of the epochs\n\n"
      ]
    },
    {
      "cell_type": "code",
      "execution_count": null,
      "metadata": {
        "collapsed": false
      },
      "outputs": [],
      "source": [
        "events_id = {\n    'face/famous/first': 5,\n    'face/famous/immediate': 6,\n    'face/famous/long': 7,\n    'face/unfamiliar/first': 13,\n    'face/unfamiliar/immediate': 14,\n    'face/unfamiliar/long': 15,\n    'scrambled/first': 17,\n    'scrambled/immediate': 18,\n    'scrambled/long': 19,\n}\n\nbaseline = (None, 0) if l_freq is None else None\n\ntempdir = tempfile.mkdtemp()"
      ]
    },
    {
      "cell_type": "markdown",
      "metadata": {},
      "source": [
        "Now we define a function to extract epochs for one subject\n\n"
      ]
    },
    {
      "cell_type": "code",
      "execution_count": null,
      "metadata": {
        "collapsed": false
      },
      "outputs": [],
      "source": [
        "def run_epochs(subject_id, tsss=False):\n    subject = \"sub%03d\" % subject_id\n    print(\"Processing subject: %s%s\"\n          % (subject, (' (tSSS=%d)' % tsss) if tsss else ''))\n\n    data_path = op.join(meg_dir, subject)\n\n    # map to correct subject for bad channels\n    mapping = map_subjects[subject_id]\n\n    raw_list = list()\n    events_list = list()\n    print(\"  Loading raw data\")\n    for run in range(1, 7):\n        bads = list()\n        bad_name = op.join('bads', mapping, 'run_%02d_raw_tr.fif_bad' % run)\n        if os.path.exists(bad_name):\n            with open(bad_name) as f:\n                for line in f:\n                    bads.append(line.strip())\n\n        if tsss:\n            run_fname = op.join(data_path, 'run_%02d_filt_tsss_%d_raw.fif'\n                                % (run, tsss))\n        else:\n            run_fname = op.join(data_path, 'run_%02d_filt_sss_'\n                                'highpass-%sHz_raw.fif' % (run, l_freq))\n\n        raw = mne.io.read_raw_fif(run_fname, preload=True)\n\n        delay = int(round(0.0345 * raw.info['sfreq']))\n        events = mne.read_events(op.join(data_path, 'run_%02d-eve.fif' % run))\n        events[:, 0] = events[:, 0] + delay\n        events_list.append(events)\n\n        raw.info['bads'] = bads\n        raw.interpolate_bads()\n        raw_list.append(raw)\n\n    raw, events = mne.concatenate_raws(raw_list, events_list=events_list)\n    raw.set_eeg_reference(projection=True)\n    del raw_list\n\n    picks = mne.pick_types(raw.info, meg=True, eeg=True, stim=True,\n                           eog=True, exclude=())\n\n    # Epoch the data\n    print('  Epoching')\n    epochs = mne.Epochs(raw, events, events_id, tmin, tmax, proj=True,\n                        picks=picks, baseline=baseline, preload=False,\n                        decim=5, reject=None, reject_tmax=reject_tmax)\n    print('  Interpolating bad channels')\n\n    # ICA\n    if tsss:\n        ica_name = op.join(meg_dir, subject, 'run_concat-tsss_%d-ica.fif'\n                           % (tsss,))\n        ica_out_name = ica_name\n    else:\n        ica_name = op.join(meg_dir, subject, 'run_concat-ica.fif')\n        ica_out_name = op.join(meg_dir, subject,\n                               'run_concat_highpass-%sHz-ica.fif' % (l_freq,))\n    print('  Using ICA')\n    ica = read_ica(ica_name)\n    ica.exclude = []\n\n    filter_label = '-tsss_%d' % tsss if tsss else '_highpass-%sHz' % l_freq\n    ecg_epochs = create_ecg_epochs(raw, tmin=-.3, tmax=.3, preload=False)\n    eog_epochs = create_eog_epochs(raw, tmin=-.5, tmax=.5, preload=False)\n    del raw\n\n    n_max_ecg = 3  # use max 3 components\n    ecg_epochs.decimate(5)\n    ecg_epochs.load_data()\n    ecg_epochs.apply_baseline((None, None))\n    ecg_inds, scores_ecg = ica.find_bads_ecg(ecg_epochs, method='ctps',\n                                             threshold=0.8)\n    print('    Found %d ECG indices' % (len(ecg_inds),))\n    ica.exclude.extend(ecg_inds[:n_max_ecg])\n    ecg_epochs.average().save(op.join(data_path, '%s%s-ecg-ave.fif'\n                                      % (subject, filter_label)))\n    np.save(op.join(data_path, '%s%s-ecg-scores.npy'\n                    % (subject, filter_label)), scores_ecg)\n    del ecg_epochs\n\n    n_max_eog = 3  # use max 2 components\n    eog_epochs.decimate(5)\n    eog_epochs.load_data()\n    eog_epochs.apply_baseline((None, None))\n    eog_inds, scores_eog = ica.find_bads_eog(eog_epochs)\n    print('    Found %d EOG indices' % (len(eog_inds),))\n    ica.exclude.extend(eog_inds[:n_max_eog])\n    eog_epochs.average().save(op.join(data_path, '%s%s-eog-ave.fif'\n                                      % (subject, filter_label)))\n    np.save(op.join(data_path, '%s%s-eog-scores.npy'\n                    % (subject, filter_label)), scores_eog)\n    del eog_epochs\n\n    ica.save(ica_out_name)\n    epochs.load_data()\n    ica.apply(epochs)\n\n    print('  Getting rejection thresholds')\n    reject = get_rejection_threshold(epochs.copy().crop(None, reject_tmax),\n                                     random_state=random_state)\n    epochs.drop_bad(reject=reject)\n    print('  Dropped %0.1f%% of epochs' % (epochs.drop_log_stats(),))\n\n    print('  Writing to disk')\n    if tsss:\n        epochs.save(op.join(data_path, '%s-tsss_%d-epo.fif' % (subject, tsss)))\n    else:\n        epochs.save(op.join(data_path, '%s_highpass-%sHz-epo.fif'\n                    % (subject, l_freq)))"
      ]
    },
    {
      "cell_type": "markdown",
      "metadata": {},
      "source": [
        "Let us make the script parallel across subjects\n\n"
      ]
    },
    {
      "cell_type": "code",
      "execution_count": null,
      "metadata": {
        "collapsed": false
      },
      "outputs": [],
      "source": [
        "# Here we use n_jobs=1 to prevent potential memory problems\nparallel, run_func, _ = parallel_func(run_epochs, n_jobs=N_JOBS)\nparallel(run_func(subject_id) for subject_id in range(1, 20))\nif l_freq is None:\n    parallel(run_func(3, tsss) for tsss in (10, 1))  # Maxwell filtered data"
      ]
    }
  ],
  "metadata": {
    "kernelspec": {
      "display_name": "Python 3",
      "language": "python",
      "name": "python3"
    },
    "language_info": {
      "codemirror_mode": {
        "name": "ipython",
        "version": 3
      },
      "file_extension": ".py",
      "mimetype": "text/x-python",
      "name": "python",
      "nbconvert_exporter": "python",
      "pygments_lexer": "ipython3",
      "version": "3.6.1"
    }
  },
  "nbformat": 4,
  "nbformat_minor": 0
}