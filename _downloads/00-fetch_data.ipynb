{
  "cells": [
    {
      "cell_type": "code",
      "execution_count": null,
      "metadata": {
        "collapsed": false
      },
      "outputs": [],
      "source": [
        "%matplotlib inline"
      ]
    },
    {
      "cell_type": "markdown",
      "metadata": {},
      "source": [
        "\n==========================\n00. Fetch data on OpenfMRI\n==========================\n\nThis script gives some basic code that can be adapted to fetch data.\n\n"
      ]
    },
    {
      "cell_type": "code",
      "execution_count": null,
      "metadata": {
        "collapsed": false
      },
      "outputs": [],
      "source": [
        "import os\nimport os.path as op\nfrom library.config import study_path, subjects_dir, meg_dir\n\npwd = os.getcwd()\n\nprint(\"study_path : %s\" % study_path)\n\nif not os.path.exists(study_path):\n    os.mkdir(study_path)\n\nif not os.path.exists(os.path.join(study_path, 'ds117')):\n    os.mkdir(os.path.join(study_path, 'ds117'))\nos.chdir(os.path.join(study_path, 'ds117'))\n\narchive_dir = os.path.join(os.getcwd(), 'archive')\n\nif not os.path.isdir(archive_dir):\n    os.mkdir(archive_dir)\n\nos.system('wget http://openfmri.s3.amazonaws.com/tarballs/ds117_R0.1.1_metadata.tgz')  # noqa: E501\nos.system('tar xvzf ds117_R0.1.1_metadata.tgz')\nos.system('mkdir metadata')\nos.chdir(os.path.join(study_path, 'ds117', 'ds117'))\nos.system('mv stimuli study_key.txt models README scan_key.txt model_key.txt listing.txt license.txt emptyroom ../metadata/')  # noqa: E501\nos.chdir(os.path.join(study_path, 'ds117'))\nos.system('rmdir ds117')\nos.system('mv ds117_R0.1.1_metadata.tgz archive/')\n\nif not op.exists(meg_dir):\n    os.mkdir(meg_dir)\n\nfor i in range(1, 20):\n    subject = \"sub%03d\" % i\n    print(\"processing %s\" % subject)\n    fname = \"ds117_R0.1.1_%s_raw.tgz\" % subject\n    url = \"http://openfmri.s3.amazonaws.com/tarballs/\" + fname\n    if os.path.isdir(subject):\n        continue\n    if not os.path.exists(fname):\n        os.system('wget %s' % url)\n    os.system('tar xvzf %s' % fname)\n    os.system('mv ds117/%s .' % subject)\n    os.system('mv %s archive/' % fname)\n    os.system('rmdir ds117')\n    if not op.exists(op.join(meg_dir, subject)):\n        os.mkdir(op.join(meg_dir, subject))\n\nos.chdir(pwd)\n\nif not os.path.isdir(subjects_dir):\n    os.mkdir(subjects_dir)"
      ]
    }
  ],
  "metadata": {
    "kernelspec": {
      "display_name": "Python 3",
      "language": "python",
      "name": "python3"
    },
    "language_info": {
      "codemirror_mode": {
        "name": "ipython",
        "version": 3
      },
      "file_extension": ".py",
      "mimetype": "text/x-python",
      "name": "python",
      "nbconvert_exporter": "python",
      "pygments_lexer": "ipython3",
      "version": "3.6.1"
    }
  },
  "nbformat": 4,
  "nbformat_minor": 0
}