{
  "nbformat_minor": 0, 
  "nbformat": 4, 
  "cells": [
    {
      "execution_count": null, 
      "cell_type": "code", 
      "source": [
        "%matplotlib inline"
      ], 
      "outputs": [], 
      "metadata": {
        "collapsed": false
      }
    }, 
    {
      "source": [
        "\nMake report\n===========\n\nBuilds an html report containing all the relevant analysis plots.\n\n"
      ], 
      "cell_type": "markdown", 
      "metadata": {}
    }, 
    {
      "execution_count": null, 
      "cell_type": "code", 
      "source": [
        "from mayavi import mlab\nimport os.path as op\n\nfrom mne import Report\nimport mne\n\nfrom library.config import study_path, subjects_dir, N_JOBS, meg_dir\n\n\ndef make_report(subject_id):\n    subject = \"sub%03d\" % subject_id\n    print(\"processing %s\" % subject)\n\n    meg_path = op.join(meg_dir, subject)\n    ave_fname = op.join(meg_path, \"%s-ave.fif\" % subject)\n\n    rep = Report(info_fname=ave_fname, subject=subject,\n                 subjects_dir=subjects_dir)\n    rep.parse_folder(meg_path)\n\n    evokeds = mne.read_evokeds(op.join(meg_path, '%s-ave.fif' % subject))\n    fam = evokeds[0]\n    scramb = evokeds[1]\n    unfam = evokeds[2]\n\n    figs = list()\n    captions = list()\n\n    fig = fam.plot(spatial_colors=True, show=False, gfp=True)\n    figs.append(fig)\n    captions.append('Famous faces')\n\n    fig = unfam.plot(spatial_colors=True, show=False, gfp=True)\n    figs.append(fig)\n    captions.append('Unfamiliar faces')\n\n    fig = scramb.plot(spatial_colors=True, show=False, gfp=True)\n    figs.append(fig)\n    captions.append('Scrambled faces')\n\n    if 'EEG070' in fam.ch_names:\n        idx = fam.ch_names.index('EEG070')\n\n        fig = mne.viz.plot_compare_evokeds({'Famous': fam, 'Unfamiliar': unfam,\n                                            'Scrambled': scramb}, idx,\n                                           show=False)\n        figs.append(fig)\n\n        captions.append('Famous, unfamliliar and scrambled faces on EEG070')\n\n    fname_trans = op.join(study_path, 'ds117', subject, 'MEG',\n                          '%s-trans.fif' % subject)\n    mne.viz.plot_trans(fam.info, fname_trans, subject=subject,\n                       subjects_dir=subjects_dir, meg_sensors=True,\n                       eeg_sensors=True)\n    fig = mlab.gcf()\n    figs.append(fig)\n    captions.append('Coregistration')\n\n    rep.add_figs_to_section(figs, captions)\n    for cond in ['faces', 'famous', 'unfamiliar', 'scrambled', 'contrast']:\n        fname = op.join(meg_path, 'mne_dSPM_inverse-%s' % cond)\n        stc = mne.read_source_estimate(fname, subject)\n        brain = stc.plot(views=['ven'], hemi='both')\n\n        brain.set_data_time_index(112)\n\n        fig = mlab.gcf()\n        rep._add_figs_to_section(fig, cond)\n\n    rep.save(fname=op.join(meg_dir, 'report%s.html' % subject),\n             open_browser=False, overwrite=True)\n\n\n# Group report\nfaces_fname = op.join(meg_dir, 'eeg_faces-ave.fif')\nrep = Report(info_fname=faces_fname, subject='fsaverage',\n             subjects_dir=subjects_dir)\nfaces = mne.read_evokeds(faces_fname)[0]\nrep.add_figs_to_section(faces.plot(spatial_colors=True, gfp=True, show=False),\n                        'Average faces')\n\nscrambled = mne.read_evokeds(op.join(meg_dir, 'eeg_scrambled-ave.fif'))[0]\nrep.add_figs_to_section(scrambled.plot(spatial_colors=True, gfp=True,\n                                       show=False), 'Average scrambled')\n\nfname = op.join(meg_dir, 'contrast-average')\nstc = mne.read_source_estimate(fname, subject='fsaverage')\nbrain = stc.plot(views=['ven'], hemi='both', subject='fsaverage',\n                 subjects_dir=subjects_dir)\nbrain.set_data_time_index(165)\n\nfig = mlab.gcf()\nrep.add_figs_to_section(fig, 'Average faces - scrambled')\n\nrep.save(fname=op.join(meg_dir, 'report_average.html'),\n         open_browser=False, overwrite=True)"
      ], 
      "outputs": [], 
      "metadata": {
        "collapsed": false
      }
    }
  ], 
  "metadata": {
    "kernelspec": {
      "display_name": "Python 2", 
      "name": "python2", 
      "language": "python"
    }, 
    "language_info": {
      "mimetype": "text/x-python", 
      "nbconvert_exporter": "python", 
      "name": "python", 
      "file_extension": ".py", 
      "version": "2.7.12", 
      "pygments_lexer": "ipython2", 
      "codemirror_mode": {
        "version": 2, 
        "name": "ipython"
      }
    }
  }
}