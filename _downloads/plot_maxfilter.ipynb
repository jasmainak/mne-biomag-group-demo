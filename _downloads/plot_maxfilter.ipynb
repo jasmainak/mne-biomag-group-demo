{
  "nbformat_minor": 0, 
  "nbformat": 4, 
  "cells": [
    {
      "execution_count": null, 
      "cell_type": "code", 
      "source": [
        "%matplotlib inline"
      ], 
      "outputs": [], 
      "metadata": {
        "collapsed": false
      }
    }, 
    {
      "source": [
        "\nMaxwell filtering in Python\n===========================\n\nDemonstrates maxwell filtering for one run (sub003, run01) using MNE-python.\n\n"
      ], 
      "cell_type": "markdown", 
      "metadata": {}
    }, 
    {
      "execution_count": null, 
      "cell_type": "code", 
      "source": [
        "import os.path as op\nimport sys\n\nimport mne\nfrom mne import Epochs\nfrom mne.preprocessing import maxwell_filter\n\nimport matplotlib.pyplot as plt\nimport numpy as np\n\nsys.path.append(op.join('..', '..', 'processing'))\nfrom library.config import (study_path, cal, ctc, l_freq, annot_kwargs,\n                            set_matplotlib_defaults)  # noqa: E402\n\nevent_ids = [5, 6, 7]  # Famous faces\ntmax = 0.8  # just show the constant-stimulus period here\n\nsubject = \"sub001\"\nbads = ['MEG1031', 'MEG1111', 'MEG2113']\nfilter_params = dict(fir_window='hamming', filter_length='auto', phase='zero',\n                     l_trans_bandwidth='auto', h_trans_bandwidth='auto',\n                     fir_design='firwin')\n\nraw_fname_in = op.join(study_path, 'ds117', subject, 'MEG', 'run_01_raw.fif')\nsss_fname_in = op.join(study_path, 'ds117', subject, 'MEG', 'run_%02d_sss.fif')"
      ], 
      "outputs": [], 
      "metadata": {
        "collapsed": false
      }
    }, 
    {
      "source": [
        "First the filtered raw data.\n\n"
      ], 
      "cell_type": "markdown", 
      "metadata": {}
    }, 
    {
      "execution_count": null, 
      "cell_type": "code", 
      "source": [
        "raw = mne.io.read_raw_fif(raw_fname_in, preload=True)\n\nraw.info['bads'] = bads\nraw.filter(l_freq, 40, **filter_params)\n\nevents = mne.find_events(raw, stim_channel='STI101', consecutive='increasing',\n                         mask=4352, mask_type='not_and', min_duration=0.003,\n                         verbose=True)\nevoked_before = Epochs(raw, events, event_id=event_ids, tmax=tmax).average()"
      ], 
      "outputs": [], 
      "metadata": {
        "collapsed": false
      }
    }, 
    {
      "source": [
        "Then Maxfiltered and SSS'd data.\n\n"
      ], 
      "cell_type": "markdown", 
      "metadata": {}
    }, 
    {
      "execution_count": null, 
      "cell_type": "code", 
      "source": [
        "raw = mne.io.read_raw_fif(raw_fname_in, preload=True)\nraw_sss_mf = mne.io.read_raw_fif(sss_fname_in % 1, preload=True,\n                                 verbose='error')\nraw.info['bads'] = bads\nraw.fix_mag_coil_types()\n# Get the origin and destinations they used\ndestination = raw_sss_mf.info['dev_head_t']\norigin = raw_sss_mf.info['proc_history'][0]['max_info']['sss_info']['origin']\n# Get the head positions.\n# Usually this can be done by saving to a text file with MaxFilter\n# instead, and reading with :func:`mne.chpi.read_head_pos`.\nchpi_picks = mne.pick_types(raw_sss_mf.info, meg=False, chpi=True)\nassert len(chpi_picks) == 9\nhead_pos, t = raw_sss_mf[chpi_picks]\n# Add first_samp.\nt = t + raw_sss_mf.first_samp / raw_sss_mf.info['sfreq']\n# The head positions in the FIF file are all zero for invalid positions\n# so let's remove them, and then concatenate our times.\nmask = (head_pos != 0).any(axis=0)\nhead_pos = np.concatenate((t[np.newaxis], head_pos)).T[mask]\n# In this dataset due to old MaxFilter (2.2.10), data are uniformly\n# sampled at 1 Hz, so we save some processing time in\n# maxwell_filter by downsampling.\nskip = int(round(raw_sss_mf.info['sfreq']))\nhead_pos = head_pos[::skip]"
      ], 
      "outputs": [], 
      "metadata": {
        "collapsed": false
      }
    }, 
    {
      "source": [
        "Run :func:`mne.preprocessing.maxwell_filter`, and band-pass filter the data.\n\n"
      ], 
      "cell_type": "markdown", 
      "metadata": {}
    }, 
    {
      "execution_count": null, 
      "cell_type": "code", 
      "source": [
        "raw_sss_py = maxwell_filter(\n    raw, calibration=cal, cross_talk=ctc, origin=origin, head_pos=head_pos)\ndel raw\n\nraw_sss_py.filter(l_freq, 40, **filter_params)\nraw_sss_mf.filter(l_freq, 40, **filter_params)\n\nevoked_sss_py = Epochs(raw_sss_py, events, event_id=event_ids,\n                       tmax=tmax).average()\nevoked_sss_mf = Epochs(raw_sss_mf, events, event_id=event_ids,\n                       tmax=tmax).average()"
      ], 
      "outputs": [], 
      "metadata": {
        "collapsed": false
      }
    }, 
    {
      "source": [
        "Plotting\n\n"
      ], 
      "cell_type": "markdown", 
      "metadata": {}
    }, 
    {
      "execution_count": null, 
      "cell_type": "code", 
      "source": [
        "set_matplotlib_defaults()\n\nylim = dict(mag=(-600, 600) if l_freq is None else (-400, 400))\n\nfig, axes = plt.subplots(1, 3, figsize=(7, 2))\nevoked_before.pick_types(meg='mag').plot(\n    axes=axes[0], spatial_colors=True, ylim=ylim, show=False)\naxes[0].set_title('Raw data')\nevoked_sss_py.pick_types(meg='mag').plot(\n    axes=axes[1], spatial_colors=True, ylim=ylim, show=False)\naxes[1].set(title=r'$\\mathtt{maxwell\\_filter}$', ylabel='')\ndiff = mne.combine_evoked([evoked_sss_py.pick_types(meg='mag'),\n                           evoked_sss_mf.pick_types(meg='mag')],\n                          weights=[-1, 1])\ndiff.plot(\n    axes=axes[2], spatial_colors=True, ylim=ylim, show=False)\naxes[2].set(title=u'$\\mathtt{maxwell\\_filter}$ -\\nMaxfilter\u2122', ylabel='')\nmne.viz.utils.tight_layout(fig=fig)\nfig.delaxes(fig.axes[3])\nfig.delaxes(fig.axes[3])\nfor ai, (ax, label) in enumerate(zip(axes[:3], 'ABC')):\n    ax.annotate(label, (-0.25 if ai == 0 else -0.15, 1.2), **annot_kwargs)\nfig.tight_layout(pad=0.5)\nfig.axes[3].collections[0].set(sizes=[3])\nfig.savefig(op.join('..', 'figures', 'Maxfilter.pdf'), bbox_to_inches='tight')\nplt.show()"
      ], 
      "outputs": [], 
      "metadata": {
        "collapsed": false
      }
    }
  ], 
  "metadata": {
    "kernelspec": {
      "display_name": "Python 2", 
      "name": "python2", 
      "language": "python"
    }, 
    "language_info": {
      "mimetype": "text/x-python", 
      "nbconvert_exporter": "python", 
      "name": "python", 
      "file_extension": ".py", 
      "version": "2.7.12", 
      "pygments_lexer": "ipython2", 
      "codemirror_mode": {
        "version": 2, 
        "name": "ipython"
      }
    }
  }
}