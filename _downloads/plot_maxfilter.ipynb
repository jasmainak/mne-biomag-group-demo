{
  "nbformat_minor": 0, 
  "nbformat": 4, 
  "cells": [
    {
      "execution_count": null, 
      "cell_type": "code", 
      "source": [
        "%matplotlib inline"
      ], 
      "outputs": [], 
      "metadata": {
        "collapsed": false
      }
    }, 
    {
      "source": [
        "\nMaxwell filtering\n=================\n\nDemonstrates maxwell filtering for one run (sub003, run01) using MNE-python.\n\n"
      ], 
      "cell_type": "markdown", 
      "metadata": {}
    }, 
    {
      "execution_count": null, 
      "cell_type": "code", 
      "source": [
        "import os.path as op\n\nimport mne\nfrom mne import Epochs\nfrom mne.preprocessing import maxwell_filter\n\nfrom library.config import study_path, cal, ctc, set_matplotlib_defaults\n\nevent_ids = [5, 6, 7]  # Famous faces\n\nsubject = \"sub001\"\nbads = ['MEG1031', 'MEG1111', 'MEG2113']\nfilter_params = dict(fir_window='hann', l_trans_bandwidth=0.5, phase='zero',\n                     h_trans_bandwidth='auto', filter_length='auto',\n                     fir_design='firwin')\n\nraw_fname_in = op.join(study_path, 'ds117', subject, 'MEG', 'run_01_raw.fif')\nsss_fname_in = op.join(study_path, 'ds117', subject, 'MEG', 'run_01_sss.fif')"
      ], 
      "outputs": [], 
      "metadata": {
        "collapsed": false
      }
    }, 
    {
      "source": [
        "First the filtered raw data.\n\n"
      ], 
      "cell_type": "markdown", 
      "metadata": {}
    }, 
    {
      "execution_count": null, 
      "cell_type": "code", 
      "source": [
        "raw = mne.io.read_raw_fif(raw_fname_in, preload=True)\n\nraw.info['bads'] = bads\npicks = mne.pick_types(raw.info, meg=True, exclude='bads')\nraw.filter(1., 40, **filter_params)\n\nevents = mne.find_events(raw, stim_channel='STI101', consecutive='increasing',\n                         mask=4352, mask_type='not_and', min_duration=0.003,\n                         verbose=True)\nevoked_before = Epochs(raw, events, event_id=event_ids, picks=picks).average()"
      ], 
      "outputs": [], 
      "metadata": {
        "collapsed": false
      }
    }, 
    {
      "source": [
        "Then Maxfiltered and SSS'd data.\n\n"
      ], 
      "cell_type": "markdown", 
      "metadata": {}
    }, 
    {
      "execution_count": null, 
      "cell_type": "code", 
      "source": [
        "raw = mne.io.read_raw_fif(raw_fname_in, preload=True)\nraw_sss = mne.io.read_raw_fif(sss_fname_in, preload=True)\nraw.info['bads'] = bads\nraw_sss.info['bads'] = bads\n\nraw = maxwell_filter(raw, calibration=cal, cross_talk=ctc, st_duration=None)\n\nraw.filter(1., 40, **filter_params)\nraw_sss.filter(1., 40, **filter_params)\n\nevoked_after = Epochs(raw, events, event_id=event_ids, picks=picks).average()\nevoked_sss = Epochs(raw_sss, events, event_id=event_ids, picks=picks).average()"
      ], 
      "outputs": [], 
      "metadata": {
        "collapsed": false
      }
    }, 
    {
      "source": [
        "Plotting\n\n"
      ], 
      "cell_type": "markdown", 
      "metadata": {}
    }, 
    {
      "execution_count": null, 
      "cell_type": "code", 
      "source": [
        "import matplotlib.pyplot as plt  # noqa\nset_matplotlib_defaults(plt)\n\nylim = dict(mag=(-400, 400))\n\nfig, axes = plt.subplots(1, 3, figsize=(18, 6))\nplt.tight_layout()\nevoked_before.pick_types(meg='mag').plot(axes=axes[0], spatial_colors=True,\n                                         ylim=ylim,\n                                         titles={'mag': 'Before SSS'})\naxes[0].set_title('A')\nevoked_after.pick_types(meg='mag').plot(axes=axes[1], spatial_colors=True,\n                                        ylim=ylim, titles={'mag': 'After SSS'})\naxes[1].set_title('B')\nevoked_sss.pick_types(meg='mag').plot(axes=axes[2], spatial_colors=True,\n                                      ylim=ylim,\n                                      titles={'mag': 'After Maxfilter (TM)'})\naxes[2].set_title('C')\nfig.savefig('Maxfilter.pdf', bbox_to_inches='tight')"
      ], 
      "outputs": [], 
      "metadata": {
        "collapsed": false
      }
    }
  ], 
  "metadata": {
    "kernelspec": {
      "display_name": "Python 2", 
      "name": "python2", 
      "language": "python"
    }, 
    "language_info": {
      "mimetype": "text/x-python", 
      "nbconvert_exporter": "python", 
      "name": "python", 
      "file_extension": ".py", 
      "version": "2.7.12", 
      "pygments_lexer": "ipython2", 
      "codemirror_mode": {
        "version": 2, 
        "name": "ipython"
      }
    }
  }
}