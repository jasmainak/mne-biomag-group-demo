{
  "nbformat_minor": 0, 
  "nbformat": 4, 
  "cells": [
    {
      "execution_count": null, 
      "cell_type": "code", 
      "source": [
        "%matplotlib inline"
      ], 
      "outputs": [], 
      "metadata": {
        "collapsed": false
      }
    }, 
    {
      "source": [
        "\n# Time Decoding\n\n\nTime decoding fits a Logistic Regression model for every time point in the\nepoch. In this example, we contrast the condition `'famous'` vs `'scrambled'`\nand `'famous'` vs `'unfamiliar'` using this approach. The end result is an\naveraging effect across sensors. The contrast across different sensors are\ncombined into a single plot.\n\nAnalysis script: `sphx_glr_auto_scripts_08-run_time_decoding.py`\n\n"
      ], 
      "cell_type": "markdown", 
      "metadata": {}
    }, 
    {
      "source": [
        "Let us first import the necessary libraries\n\n"
      ], 
      "cell_type": "markdown", 
      "metadata": {}
    }, 
    {
      "execution_count": null, 
      "cell_type": "code", 
      "source": [
        "import os\nimport numpy as np\nimport matplotlib.pyplot as plt\nfrom scipy.io import loadmat\nfrom scipy.stats import sem\n\nfrom library.config import meg_dir"
      ], 
      "outputs": [], 
      "metadata": {
        "collapsed": false
      }
    }, 
    {
      "source": [
        "Now we loop over subjects to load the scores\n\n"
      ], 
      "cell_type": "markdown", 
      "metadata": {}
    }, 
    {
      "execution_count": null, 
      "cell_type": "code", 
      "source": [
        "a_vs_bs = ['face_vs_scrambled', 'famous_vs_unfamiliar']\nscores = {'face_vs_scrambled': list(), 'famous_vs_unfamiliar': list()}\nfor subject_id in range(1, 20):\n    subject = \"sub%03d\" % subject_id\n    data_path = os.path.join(meg_dir, subject)\n\n    # Load the scores for the subject\n    for a_vs_b in a_vs_bs:\n        fname_td = os.path.join(data_path, '%s-td-auc-%s.mat'\n                                % (subject, a_vs_b))\n        mat = loadmat(fname_td)\n        scores[a_vs_b].append(mat['scores'][0])"
      ], 
      "outputs": [], 
      "metadata": {
        "collapsed": false
      }
    }, 
    {
      "source": [
        "... and average them\n\n"
      ], 
      "cell_type": "markdown", 
      "metadata": {}
    }, 
    {
      "execution_count": null, 
      "cell_type": "code", 
      "source": [
        "times = mat['times'][0]\nmean_scores, sem_scores = dict(), dict()\nfor a_vs_b in a_vs_bs:\n    mean_scores[a_vs_b] = np.mean(scores[a_vs_b], axis=0)\n    sem_scores[a_vs_b] = sem(scores[a_vs_b])"
      ], 
      "outputs": [], 
      "metadata": {
        "collapsed": false
      }
    }, 
    {
      "source": [
        "Let's plot the mean AUC score across subjects\n\n"
      ], 
      "cell_type": "markdown", 
      "metadata": {}
    }, 
    {
      "execution_count": null, 
      "cell_type": "code", 
      "source": [
        "from library.config import set_matplotlib_defaults  # noqa\nset_matplotlib_defaults(plt)\ncolors = ['b', 'g']\nfor c, a_vs_b in zip(colors, a_vs_bs):\n    plt.plot(times, mean_scores[a_vs_b], c, label=a_vs_b.replace('_', ' '))\n    plt.xlabel('Time (s)')\n    plt.ylabel('Area under curve (AUC)')\n    plt.fill_between(times, mean_scores[a_vs_b] - sem_scores[a_vs_b],\n                     mean_scores[a_vs_b] + sem_scores[a_vs_b],\n                     color=c, alpha=0.2)\nplt.axhline(0.5, color='k', linestyle='--', label='Chance level')\nplt.axvline(0.0, color='k', linestyle='--')\nplt.legend()\nplt.tight_layout()\nplt.show()\nplt.savefig('time_decoding.pdf', bbox_to_inches='tight')"
      ], 
      "outputs": [], 
      "metadata": {
        "collapsed": false
      }
    }, 
    {
      "source": [
        "It seems that `'famous'` vs `'unfamiliar'` gives much noisier time course of\ndecoding scores than `'faces'` vs `'scrambled'`. To verify that this is not\ndue to bad subjects\n\n"
      ], 
      "cell_type": "markdown", 
      "metadata": {}
    }, 
    {
      "execution_count": null, 
      "cell_type": "code", 
      "source": [
        "fig, axes = plt.subplots(4, 5, sharex=True, sharey=True, figsize=(12, 8))\naxes = axes.ravel()\nfor idx in range(19):\n    axes[idx].axhline(0.5, color='k', linestyle='--', label='Chance level')\n    axes[idx].axvline(0.0, color='k', linestyle='--')\n    for a_vs_b in a_vs_bs:\n        axes[idx].plot(times, scores[a_vs_b][idx], label=a_vs_b)\n        axes[idx].set_title('sub%03d' % (idx + 1))\n\naxes[-1].axis('off')\naxes[-2].legend(bbox_to_anchor=(2.35, 0.5), loc='center right', fontsize=12)\nfig.text(0.5, 0, 'Time (s)', ha='center', fontsize=16)\nfig.text(0.01, 0.5, 'Area under curve (AUC)', va='center',\n         rotation='vertical', fontsize=16)\nplt.subplots_adjust(bottom=0.06, left=0.06, right=0.98, top=0.95)\nplt.show()"
      ], 
      "outputs": [], 
      "metadata": {
        "collapsed": false
      }
    }
  ], 
  "metadata": {
    "kernelspec": {
      "display_name": "Python 2", 
      "name": "python2", 
      "language": "python"
    }, 
    "language_info": {
      "mimetype": "text/x-python", 
      "nbconvert_exporter": "python", 
      "name": "python", 
      "file_extension": ".py", 
      "version": "2.7.12", 
      "pygments_lexer": "ipython2", 
      "codemirror_mode": {
        "version": 2, 
        "name": "ipython"
      }
    }
  }
}