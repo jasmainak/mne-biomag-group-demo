{
  "cells": [
    {
      "cell_type": "code",
      "execution_count": null,
      "metadata": {
        "collapsed": false
      },
      "outputs": [],
      "source": [
        "%matplotlib inline"
      ]
    },
    {
      "cell_type": "markdown",
      "metadata": {},
      "source": [
        "\n# Sensor-space comparison between subjects\n\n\nAll the subjects compared.\n\n<div class=\"alert alert-danger\"><h4>Warning</h4><p>This example will open a lot of figures simultaneously!</p></div>\n\n"
      ]
    },
    {
      "cell_type": "code",
      "execution_count": null,
      "metadata": {
        "collapsed": false
      },
      "outputs": [],
      "source": [
        "import os.path as op\nimport sys\n\nimport numpy as np\n\nimport matplotlib.pyplot as plt\n\nimport mne\n\nsys.path.append(op.join('..', '..', 'processing'))\nfrom library.config import (meg_dir, ylim, l_freq,\n                            set_matplotlib_defaults)  # noqa: E402\n\nset_matplotlib_defaults()\n\nevokeds = list()\nfor subject_id in range(1, 20):\n    subject = \"sub%03d\" % subject_id\n    fname_in = op.join(meg_dir, subject,\n                       '%s_highpass-%sHz-ave.fif' % (subject, l_freq))\n    evokeds.append(mne.read_evokeds(fname_in))\ntimes = np.arange(0.1, 0.26, 0.025)\n\nplt.rcParams['figure.max_open_warning'] = 200"
      ]
    },
    {
      "cell_type": "markdown",
      "metadata": {},
      "source": [
        "Evoked responses on EEG and MEG, see\n`sphx_glr_auto_scripts_07-make_evoked.py`.\n\n"
      ]
    },
    {
      "cell_type": "code",
      "execution_count": null,
      "metadata": {
        "collapsed": false
      },
      "outputs": [],
      "source": [
        "ch_type_kwargs = [dict(meg=False, eeg=True), dict(meg='grad'), dict(meg='mag')]\nfor ch_type_kwarg in ch_type_kwargs:\n    for idx, evoked in enumerate(evokeds):\n        for cond in range(3):\n            picks = mne.pick_types(evoked[cond].info, **ch_type_kwarg)\n            comm = evoked[cond].comment\n            evoked[cond].plot_joint(picks=picks, ts_args={'ylim': ylim},\n                                    title='Subject %s %s' % (idx + 1, comm),\n                                    show=False)\nplt.show()"
      ]
    },
    {
      "cell_type": "markdown",
      "metadata": {},
      "source": [
        "Topomaps\n\n"
      ]
    },
    {
      "cell_type": "code",
      "execution_count": null,
      "metadata": {
        "collapsed": false
      },
      "outputs": [],
      "source": [
        "for ch_type in ['eeg', 'mag', 'grad']:\n    for idx, evoked in enumerate(evokeds):\n        for cond in range(3):\n            comm = evoked[cond].comment\n            evoked[cond].plot_topomap(ch_type=ch_type, times=times,\n                                      title='Subject %s %s (%s)'\n                                      % (idx + 1, comm, ch_type),\n                                      show=False)\nplt.show()"
      ]
    }
  ],
  "metadata": {
    "kernelspec": {
      "display_name": "Python 3",
      "language": "python",
      "name": "python3"
    },
    "language_info": {
      "codemirror_mode": {
        "name": "ipython",
        "version": 3
      },
      "file_extension": ".py",
      "mimetype": "text/x-python",
      "name": "python",
      "nbconvert_exporter": "python",
      "pygments_lexer": "ipython3",
      "version": "3.6.1"
    }
  },
  "nbformat": 4,
  "nbformat_minor": 0
}