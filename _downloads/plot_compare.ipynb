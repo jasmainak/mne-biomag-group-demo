{
  "nbformat_minor": 0, 
  "nbformat": 4, 
  "cells": [
    {
      "execution_count": null, 
      "cell_type": "code", 
      "source": [
        "%matplotlib inline"
      ], 
      "outputs": [], 
      "metadata": {
        "collapsed": false
      }
    }, 
    {
      "source": [
        "\n# Comparison between subjects\n\n\nAll the subjects compared.\n\n"
      ], 
      "cell_type": "markdown", 
      "metadata": {}
    }, 
    {
      "execution_count": null, 
      "cell_type": "code", 
      "source": [
        "import os.path as op\nimport numpy as np\n\nimport mne\nfrom library.config import meg_dir, ylim\n\nevokeds = list()\nfor subject_id in range(1, 20):\n    subject = \"sub%03d\" % subject_id\n    fname_in = op.join(meg_dir, subject, '%s-ave.fif' % subject)\n    evokeds.append(mne.read_evokeds(fname_in))\ntimes = np.arange(0.1, 0.26, 0.025)"
      ], 
      "outputs": [], 
      "metadata": {
        "collapsed": false
      }
    }, 
    {
      "source": [
        "Evoked responses on EEG and MEG. `sphx_glr_auto_scripts_06-make_evoked.py`\n\n"
      ], 
      "cell_type": "markdown", 
      "metadata": {}
    }, 
    {
      "execution_count": null, 
      "cell_type": "code", 
      "source": [
        "ch_type_kwargs = [dict(meg=False, eeg=True), dict(meg='grad'), dict(meg='mag')]\nfor ch_type_kwarg in ch_type_kwargs:\n    for idx, evoked in enumerate(evokeds):\n        for cond in range(3):\n            picks = mne.pick_types(evoked[cond].info, **ch_type_kwarg)\n            comm = evoked[cond].comment\n            evoked[cond].plot_joint(picks=picks, ts_args={'ylim': ylim},\n                                    title='Subject %s %s' % (idx + 1, comm))"
      ], 
      "outputs": [], 
      "metadata": {
        "collapsed": false
      }
    }, 
    {
      "source": [
        "Topomaps\n\n"
      ], 
      "cell_type": "markdown", 
      "metadata": {}
    }, 
    {
      "execution_count": null, 
      "cell_type": "code", 
      "source": [
        "for ch_type in ['eeg', 'mag', 'grad']:\n    for idx, evoked in enumerate(evokeds):\n        for cond in range(3):\n            comm = evoked[cond].comment\n            evoked[cond].plot_topomap(ch_type=ch_type, times=times,\n                                      title='Subject %s %s (%s)'\n                                      % (idx + 1, comm, ch_type))"
      ], 
      "outputs": [], 
      "metadata": {
        "collapsed": false
      }
    }
  ], 
  "metadata": {
    "kernelspec": {
      "display_name": "Python 2", 
      "name": "python2", 
      "language": "python"
    }, 
    "language_info": {
      "mimetype": "text/x-python", 
      "nbconvert_exporter": "python", 
      "name": "python", 
      "file_extension": ".py", 
      "version": "2.7.12", 
      "pygments_lexer": "ipython2", 
      "codemirror_mode": {
        "version": 2, 
        "name": "ipython"
      }
    }
  }
}