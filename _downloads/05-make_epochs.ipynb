{
  "nbformat_minor": 0, 
  "nbformat": 4, 
  "cells": [
    {
      "execution_count": null, 
      "cell_type": "code", 
      "source": [
        "%matplotlib inline"
      ], 
      "outputs": [], 
      "metadata": {
        "collapsed": false
      }
    }, 
    {
      "source": [
        "\nConstruct epochs\n================\n\nThe epochs are constructed by using the events created in script 03. MNE\nsupports hierarchical events that allows selection to different groups more\neasily. Some channels were not properly defined during acquisition, so they\nare redefined before epoching. Bad EEG channels are interpolated and epochs\ncontaining blinks are rejected. ECG artifacts are corrected using ICA. Finally\nthe epochs are saved to disk. To save space, the epoch data is decimated by\na factor of 2.\n\n"
      ], 
      "cell_type": "markdown", 
      "metadata": {}
    }, 
    {
      "execution_count": null, 
      "cell_type": "code", 
      "source": [
        "import os\nimport tempfile\nimport os.path as op\n\nimport mne\nfrom mne.parallel import parallel_func\nfrom mne.preprocessing import create_ecg_epochs, read_ica\n\nfrom autoreject import get_rejection_threshold\n\nfrom library.config import meg_dir, N_JOBS, map_subjects, l_freq"
      ], 
      "outputs": [], 
      "metadata": {
        "collapsed": false
      }
    }, 
    {
      "source": [
        "We define the events and the onset and offset of the epochs\n\n"
      ], 
      "cell_type": "markdown", 
      "metadata": {}
    }, 
    {
      "execution_count": null, 
      "cell_type": "code", 
      "source": [
        "events_id = {\n    'face/famous/first': 5,\n    'face/famous/immediate': 6,\n    'face/famous/long': 7,\n    'face/unfamiliar/first': 13,\n    'face/unfamiliar/immediate': 14,\n    'face/unfamiliar/long': 15,\n    'scrambled/first': 17,\n    'scrambled/immediate': 18,\n    'scrambled/long': 19,\n}\n\ntmin, tmax = -0.2, 0.8\nbaseline = None\n\ntempdir = tempfile.mkdtemp()"
      ], 
      "outputs": [], 
      "metadata": {
        "collapsed": false
      }
    }, 
    {
      "source": [
        "Now we define a function to extract epochs for one subject\n\n"
      ], 
      "cell_type": "markdown", 
      "metadata": {}
    }, 
    {
      "execution_count": null, 
      "cell_type": "code", 
      "source": [
        "def run_epochs(subject_id, tsss=False):\n    subject = \"sub%03d\" % subject_id\n    print(\"processing subject: %s\" % subject)\n\n    data_path = op.join(meg_dir, subject)\n\n    all_epochs = list()\n\n    # Get all bad channels\n    mapping = map_subjects[subject_id]  # map to correct subject\n    all_bads = list()\n    for run in range(1, 7):\n        bads = list()\n        bad_name = op.join('bads', mapping, 'run_%02d_raw_tr.fif_bad' % run)\n        if os.path.exists(bad_name):\n            with open(bad_name) as f:\n                for line in f:\n                    bads.append(line.strip())\n        all_bads += [bad for bad in bads if bad not in all_bads]\n\n    for run in range(1, 7):\n        print(\" - Run %s\" % run)\n        if tsss:\n            run_fname = op.join(data_path, 'run_%02d_filt_tsss_raw.fif' % run)\n        else:\n            run_fname = op.join(data_path, 'run_%02d_filt_sss_'\n                                'highpass-%sHz_raw.fif' % (run, l_freq))\n        if not os.path.exists(run_fname):\n            continue\n\n        raw = mne.io.Raw(run_fname, preload=True)\n\n        delay = int(0.0345 * raw.info['sfreq'])\n        events = mne.read_events(op.join(data_path,\n                                         'run_%02d_filt_sss-eve.fif' % run))\n\n        events[:, 0] = events[:, 0] + delay\n\n        raw.info['bads'] = all_bads\n        raw.interpolate_bads()\n        raw.set_eeg_reference()\n\n        picks = mne.pick_types(raw.info, meg=True, eeg=True, stim=True,\n                               eog=True)\n\n        # Read epochs\n        epochs = mne.Epochs(raw, events, events_id, tmin, tmax, proj=True,\n                            picks=picks, baseline=baseline, preload=True,\n                            decim=2, reject=None)\n        reject = get_rejection_threshold(epochs)\n        epochs.drop_bad(reject=reject)\n        # XXX: workaround for memory leak in MNE where a reference to\n        # raw object is kept in epochs. The downside is that it will\n        # lead to some loss in precision but we can live with it.\n        temp_fname = op.join(tempdir, 'run_%d.fif' % run)\n        epochs.save(temp_fname)\n        epochs = mne.read_epochs(temp_fname)\n\n        # ICA\n        if tsss:\n            ica_name = op.join(meg_dir, subject, 'run_%02d-tsss-ica.fif' % run)\n        else:\n            ica_name = op.join(meg_dir, subject, 'run_%02d-ica.fif' % run)\n        if l_freq is not None:\n            ica = read_ica(ica_name)\n            n_max_ecg = 3  # use max 3 components\n            ecg_epochs = create_ecg_epochs(raw, tmin=-.5, tmax=.5)\n            ecg_inds, scores_ecg = ica.find_bads_ecg(ecg_epochs, method='ctps',\n                                                     threshold=0.8)\n            ica.exclude = ecg_inds[:n_max_ecg]\n            ica.save(ica_name)\n            ica.apply(epochs)\n        del raw\n        all_epochs.append(epochs)\n\n    epochs = mne.epochs.concatenate_epochs(all_epochs)\n    if tsss:\n        epochs.save(op.join(data_path, '%s-tsss-epo.fif' % subject))\n    else:\n        epochs.save(op.join(data_path, '%s_highpass-%sHz-epo.fif'\n                    % (subject, l_freq)))"
      ], 
      "outputs": [], 
      "metadata": {
        "collapsed": false
      }
    }, 
    {
      "source": [
        "Let us make the script parallel across subjects\n\n"
      ], 
      "cell_type": "markdown", 
      "metadata": {}
    }, 
    {
      "execution_count": null, 
      "cell_type": "code", 
      "source": [
        "parallel, run_func, _ = parallel_func(run_epochs, n_jobs=1)\nparallel(run_func(subject_id) for subject_id in range(1, 20))\nrun_epochs(1, True)  # run on maxwell filtered data"
      ], 
      "outputs": [], 
      "metadata": {
        "collapsed": false
      }
    }
  ], 
  "metadata": {
    "kernelspec": {
      "display_name": "Python 2", 
      "name": "python2", 
      "language": "python"
    }, 
    "language_info": {
      "mimetype": "text/x-python", 
      "nbconvert_exporter": "python", 
      "name": "python", 
      "file_extension": ".py", 
      "version": "2.7.12", 
      "pygments_lexer": "ipython2", 
      "codemirror_mode": {
        "version": 2, 
        "name": "ipython"
      }
    }
  }
}