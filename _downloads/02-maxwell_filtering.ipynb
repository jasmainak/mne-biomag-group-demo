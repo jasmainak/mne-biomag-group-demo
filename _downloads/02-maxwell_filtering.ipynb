{
  "nbformat_minor": 0, 
  "nbformat": 4, 
  "cells": [
    {
      "execution_count": null, 
      "cell_type": "code", 
      "source": [
        "%matplotlib inline"
      ], 
      "outputs": [], 
      "metadata": {
        "collapsed": false
      }
    }, 
    {
      "source": [
        "\nMaxwell filter using MNE-python\n===============================\n\nThe data are maxwell filtered using tSSS. This works as an alternative for\nhighpass filtering. It is critical to mark bad channels before maxwell\nfiltering. Here we exploit the log files for determining the bad channels.\nThe data are also lowpass filtered at 40 Hz using linear-phase fir filter with\ndelay compensation. The transition bandwidth is automatically defined. See\n`Background information on filtering <http://mne-tools.github.io/dev/auto_tutorials/plot_background_filtering.html>`_\nfor more. The filtered data are saved to separate files to the subject's'MEG'\ndirectory.\n\n"
      ], 
      "cell_type": "markdown", 
      "metadata": {}
    }, 
    {
      "execution_count": null, 
      "cell_type": "code", 
      "source": [
        "import os\nimport os.path as op\nfrom warnings import warn\nimport numpy as np\n\nimport mne\nfrom mne.parallel import parallel_func\n\nfrom library.config import study_path, meg_dir, N_JOBS, cal, ctc\n\nif not op.exists(meg_dir):\n    os.mkdir(meg_dir)\n\n\ndef run_filter(subject_id):\n    subject = \"sub%03d\" % subject_id\n    print(\"processing subject: %s\" % subject)\n    raw_fname_out = op.join(meg_dir, subject, 'run_%02d_filt_tsss_raw.fif')\n\n    raw_fname_in = op.join(study_path, 'ds117', subject, 'MEG',\n                           'run_%02d_raw.fif')\n    # Use average head position over all runs.\n    destinations = list()\n    for run in range(1, 7):\n        raw_in = raw_fname_in % run\n        raw = mne.io.read_raw_fif(raw_in)\n        destinations.append(raw.info['dev_head_t']['trans'][:3, 3])\n    destination = np.mean(destinations, axis=0)\n\n    for run in range(1, 7):\n        raw_in = raw_fname_in % run\n        try:\n            raw = mne.io.read_raw_fif(raw_in, preload=True)\n        except AttributeError:\n            # Some files on openfmri are corrupted and cannot be read.\n            warn('Could not read file %s. '\n                 'Skipping run %s from subject %s.' % (raw_in, run, subject))\n            continue\n\n        raw.set_channel_types({\n            'EEG061': 'eog',\n            'EEG062': 'eog',\n            'EEG063': 'ecg',\n            'EEG064': 'misc'\n        })  # EEG064 free floating el.\n        raw.rename_channels({\n            'EEG061': 'EOG061',\n            'EEG062': 'EOG062',\n            'EEG063': 'ECG063'\n        })\n\n        # Hackish way of reading bad channels from the log.\n        with open(\n                op.join(study_path, 'ds117', subject, 'MEG',\n                        'run_%02d_sss_log.txt' % run)) as fid:\n            for line in fid:\n                if line.startswith('Static bad channels'):\n                    chs = line.split(':')[-1].split()\n                    bads = ['MEG%04d' % int(ch) for ch in chs]\n                    break\n        raw.info['bads'] += bads\n        print(\"BAD CHANNELS:\\n\")\n        print(raw.info['bads'])\n        raw = mne.preprocessing.maxwell_filter(\n            raw, calibration=cal, cross_talk=ctc, st_duration=10., origin=(\n                0., 0., 0.04), destination=destination)\n\n        raw_out = raw_fname_out % run\n        if not op.exists(op.join(meg_dir, subject)):\n            os.mkdir(op.join(meg_dir, subject))\n\n        raw.filter(None, 40, l_trans_bandwidth='auto',\n                   h_trans_bandwidth='auto', filter_length='auto',\n                   phase='zero', fir_window='hann', fir_design='firwin')\n        raw.save(raw_out, overwrite=True)\n\n\nrun_filter(subject_id=1)  # Only for sub01."
      ], 
      "outputs": [], 
      "metadata": {
        "collapsed": false
      }
    }
  ], 
  "metadata": {
    "kernelspec": {
      "display_name": "Python 2", 
      "name": "python2", 
      "language": "python"
    }, 
    "language_info": {
      "mimetype": "text/x-python", 
      "nbconvert_exporter": "python", 
      "name": "python", 
      "file_extension": ".py", 
      "version": "2.7.12", 
      "pygments_lexer": "ipython2", 
      "codemirror_mode": {
        "version": 2, 
        "name": "ipython"
      }
    }
  }
}