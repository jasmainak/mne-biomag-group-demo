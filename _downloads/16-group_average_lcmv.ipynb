{
  "nbformat_minor": 0, 
  "nbformat": 4, 
  "cells": [
    {
      "execution_count": null, 
      "cell_type": "code", 
      "source": [
        "%matplotlib inline"
      ], 
      "outputs": [], 
      "metadata": {
        "collapsed": false
      }
    }, 
    {
      "source": [
        "\nGroup average on LCMV beamformer\n================================\n\nSource estimates are computed for contrast between faces and scrambled and\nmorphed to average brain,\n\n"
      ], 
      "cell_type": "markdown", 
      "metadata": {}
    }, 
    {
      "execution_count": null, 
      "cell_type": "code", 
      "source": [
        "import os.path as op\nimport numpy as np\n\nimport mne\n\nfrom library.config import subjects_dir, meg_dir\n\nstcs = list()\nexclude = [1, 5, 16]  # Excluded subjects\n\nfor run in range(1, 20):\n    if run in exclude:\n        continue\n    subject = \"sub%03d\" % run\n    print(\"processing subject: %s\" % subject)\n    data_path = op.join(meg_dir, subject)\n\n    stc = mne.read_source_estimate(op.join(data_path,\n                                           'mne_LCMV_inverse-contrast'))\n    morphed = stc.morph(subject_from=subject, subject_to='fsaverage',\n                        subjects_dir=subjects_dir, grade=4)\n    stcs.append(morphed)\n\ndata = np.average([s.data for s in stcs], axis=0)\nstc = mne.SourceEstimate(data, stcs[0].vertices, stcs[0].tmin, stcs[0].tstep)\nstc.save(op.join(meg_dir, 'contrast-average-lcmv'))"
      ], 
      "outputs": [], 
      "metadata": {
        "collapsed": false
      }
    }
  ], 
  "metadata": {
    "kernelspec": {
      "display_name": "Python 2", 
      "name": "python2", 
      "language": "python"
    }, 
    "language_info": {
      "mimetype": "text/x-python", 
      "nbconvert_exporter": "python", 
      "name": "python", 
      "file_extension": ".py", 
      "version": "2.7.12", 
      "pygments_lexer": "ipython2", 
      "codemirror_mode": {
        "version": 2, 
        "name": "ipython"
      }
    }
  }
}