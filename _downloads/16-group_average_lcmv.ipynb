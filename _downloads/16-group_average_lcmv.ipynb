{
  "nbformat_minor": 0, 
  "nbformat": 4, 
  "cells": [
    {
      "execution_count": null, 
      "cell_type": "code", 
      "source": [
        "%matplotlib inline"
      ], 
      "outputs": [], 
      "metadata": {
        "collapsed": false
      }
    }, 
    {
      "source": [
        "\n====================================\n16. Group average on LCMV beamformer\n====================================\n\nSource estimates are computed for contrast between faces and scrambled and\nmorphed to average brain,\n\n"
      ], 
      "cell_type": "markdown", 
      "metadata": {}
    }, 
    {
      "execution_count": null, 
      "cell_type": "code", 
      "source": [
        "import os.path as op\nimport numpy as np\n\nimport mne\n\nfrom library.config import (subjects_dir, meg_dir, exclude_subjects, smooth,\n                            fsaverage_vertices, l_freq)\n\n\nstcs = list()\nfor subject_id in range(1, 20):\n    if subject_id in exclude_subjects:\n        continue\n    subject = \"sub%03d\" % subject_id\n    print(\"processing subject: %s\" % subject)\n    data_path = op.join(meg_dir, subject)\n\n    stc = mne.read_source_estimate(\n        op.join(data_path, 'mne_LCMV_inverse_highpass-%sHz-contrast' % l_freq),\n        subject)\n    morph_mat = mne.compute_morph_matrix(\n        subject, 'fsaverage', stc.vertices, fsaverage_vertices, smooth,\n        subjects_dir=subjects_dir, warn=False)\n    morphed = stc.morph_precomputed('fsaverage', fsaverage_vertices, morph_mat)\n    stcs.append(morphed)\n\ndata = np.average([s.data for s in stcs], axis=0)\nstc = mne.SourceEstimate(data, stcs[0].vertices, stcs[0].tmin, stcs[0].tstep)\nstc.save(op.join(meg_dir, 'contrast-average-lcmv_highpass-%sHz' % l_freq))"
      ], 
      "outputs": [], 
      "metadata": {
        "collapsed": false
      }
    }
  ], 
  "metadata": {
    "kernelspec": {
      "display_name": "Python 2", 
      "name": "python2", 
      "language": "python"
    }, 
    "language_info": {
      "mimetype": "text/x-python", 
      "nbconvert_exporter": "python", 
      "name": "python", 
      "file_extension": ".py", 
      "version": "2.7.12", 
      "pygments_lexer": "ipython2", 
      "codemirror_mode": {
        "version": 2, 
        "name": "ipython"
      }
    }
  }
}