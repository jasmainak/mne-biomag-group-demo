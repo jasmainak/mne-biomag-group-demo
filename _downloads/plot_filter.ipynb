{
  "nbformat_minor": 0, 
  "nbformat": 4, 
  "cells": [
    {
      "execution_count": null, 
      "cell_type": "code", 
      "source": [
        "%matplotlib inline"
      ], 
      "outputs": [], 
      "metadata": {
        "collapsed": false
      }
    }, 
    {
      "source": [
        "\nSelect filters\n==============\n\nHere we look at the choice of filters both for low and high\npass.\n\n"
      ], 
      "cell_type": "markdown", 
      "metadata": {}
    }, 
    {
      "execution_count": null, 
      "cell_type": "code", 
      "source": [
        "import numpy as np\nfrom scipy.signal import freqz\nimport matplotlib.pyplot as plt\n\nfrom mne.filter import create_filter\n\nfrom library.config import set_matplotlib_defaults\n\nset_matplotlib_defaults(plt)\n\nsfreq = 1100."
      ], 
      "outputs": [], 
      "metadata": {
        "collapsed": false
      }
    }, 
    {
      "source": [
        "The defaults in MNE 0.12 are slightly different from the defaults in\nMNE 0.16. For more detailed information regarding these choices, head over\nto the `filtering tutorial <http://mne-tools.github.io/stable/auto_tutorials/plot_background_filtering.html>`_\non the MNE website.\n\nHere we define a function to design the filters using\n:func:`scipy.signal.firwin` (0.16) or :func:`scipy.signal.firwin2` (0.12).\n\n"
      ], 
      "cell_type": "markdown", 
      "metadata": {}
    }, 
    {
      "execution_count": null, 
      "cell_type": "code", 
      "source": [
        "def design_filter(filter_type, f_p, fir_design, trans_bandwidth,\n                  filter_length, fir_window):\n    if filter_type == 'highpass':\n        h = create_filter(np.ones(100000), sfreq, f_p, None,\n                          l_trans_bandwidth=trans_bandwidth,\n                          filter_length=filter_length,\n                          fir_design=fir_design, fir_window=fir_window)\n    else:\n        h = create_filter(np.ones(100000), sfreq, None, f_p,\n                          h_trans_bandwidth=trans_bandwidth,\n                          filter_length=filter_length,\n                          fir_design=fir_design, fir_window=fir_window)\n    return h"
      ], 
      "outputs": [], 
      "metadata": {
        "collapsed": false
      }
    }, 
    {
      "source": [
        "To choose our filters, we plot the frequency response of the filter (in dB).\nHigher attenuation is good for reducing noise.\n\n"
      ], 
      "cell_type": "markdown", 
      "metadata": {}
    }, 
    {
      "execution_count": null, 
      "cell_type": "code", 
      "source": [
        "def plot_filter_response(ax, h, xlim, label):\n    f, H = freqz(h, worN=8192)\n    f *= sfreq / (2 * np.pi)\n    ax.plot(f, 20 * np.log10(np.abs(H)),\n            linewidth=2, zorder=4, label=label)\n    ax.set(xlim=xlim, ylim=dblim, xlabel='Frequency (Hz)',\n           ylabel='Amplitude (dB)')\n    box_off(ax)"
      ], 
      "outputs": [], 
      "metadata": {
        "collapsed": false
      }
    }, 
    {
      "source": [
        "However, filters can introduce ripples in the time domain. So, we also plot\nthe impulse response ``h`` of the filter.\n\n"
      ], 
      "cell_type": "markdown", 
      "metadata": {}
    }, 
    {
      "execution_count": null, 
      "cell_type": "code", 
      "source": [
        "def plot_impulse_response(ax, h, label, xlim, ylim):\n    dur = 20.\n    h_plot = np.zeros((int(dur * sfreq), ))\n    start = len(h_plot) // 2 - len(h) // 2\n    stop = start + len(h)\n    h_plot[start:stop] = h\n    t = np.arange(len(h_plot)) / sfreq - dur / 2\n    ax.plot(t, h_plot, linewidth=2, label=label)\n    ax.set(xlim=xlim, ylim=ylim, xlabel='Time (s)',\n           ylabel='Amplitude')\n    ax.legend()\n    box_off(ax)"
      ], 
      "outputs": [], 
      "metadata": {
        "collapsed": false
      }
    }, 
    {
      "source": [
        "Before we start plotting, let us define a simple function to turn off boxes\nin a plot. It takes as argument the axis handle ``ax``.\n\n"
      ], 
      "cell_type": "markdown", 
      "metadata": {}
    }, 
    {
      "execution_count": null, 
      "cell_type": "code", 
      "source": [
        "def box_off(ax):\n    \"\"\"Helper to beautify plot.\"\"\"\n    ax.grid(zorder=0)\n    for key in ('top', 'right'):\n        ax.spines[key].set_visible(False)"
      ], 
      "outputs": [], 
      "metadata": {
        "collapsed": false
      }
    }, 
    {
      "source": [
        "Now we plot the frequency response and impulse response for the lowpass\nand highpass filters in MNE versions 0.12 and 0.16.\n\n"
      ], 
      "cell_type": "markdown", 
      "metadata": {}
    }, 
    {
      "execution_count": null, 
      "cell_type": "code", 
      "source": [
        "fig, axes = plt.subplots(2, 2, figsize=(12, 8))\n\nfilterlims = dict(highpass=[0, 4.], lowpass=[35, 55])\ndblim = [-80, 10]  # for dB plots\nf_ps = [1., 40.]  # corner frequencies (Hz)\nfilter_types = ['highpass', 'lowpass']\nxlims = [(-2, 2), (-0.5, 0.5)]\nylims = [(-0.002, 0.004), (-0.02, 0.08)]\nfig_num = {0: 'a', 1: 'b', 2: 'c', 3: 'd'}\nidx = 0\n\nfor ax, f_p, filter_type, xlim, ylim in zip(axes.T, f_ps, filter_types, xlims,\n                                            ylims):\n    # MNE old defaults\n    h = design_filter(filter_type, f_p, 'firwin2', 0.5, '10s', 'hamming')\n    lbl = 'MNE (0.12)'\n    plot_filter_response(ax[0], h, filterlims[filter_type], label=lbl)\n    plot_impulse_response(ax[1], h, lbl, xlim, ylim)\n\n    # MNE new defaults\n    h = design_filter(filter_type, f_p, 'firwin', 'auto', 'auto', 'hann')\n    lbl = 'MNE (0.16)'\n    plot_filter_response(ax[0], h, filterlims[filter_type], label=lbl)\n    plot_impulse_response(ax[1], h, lbl, xlim, ylim)\n\n    # Ideal gain\n    freq = [0, f_p, f_p, sfreq / 2.]\n    min_gain = 10 ** (dblim[0] / 20)\n    if filter_type == \"highpass\":\n        gain = [min_gain, min_gain, 1, 1]\n    else:\n        gain = [1, 1, min_gain, min_gain]\n    ax[0].plot(freq, 20 * np.log10(gain), 'r--', alpha=0.5,\n               linewidth=4, zorder=3, label='Ideal')\n    ax[0].legend()\n    # ax[0].set_title(filter_type + \" (cutoff %s Hz)\" % f_p)\n\nfor ax, label in zip(axes.ravel(), ['A', 'B', 'C', 'D']):\n    ax.set_title(label)\n\nplt.tight_layout()\nplt.show()\nplt.savefig('filters.pdf', bbox_to_inches='tight')"
      ], 
      "outputs": [], 
      "metadata": {
        "collapsed": false
      }
    }
  ], 
  "metadata": {
    "kernelspec": {
      "display_name": "Python 2", 
      "name": "python2", 
      "language": "python"
    }, 
    "language_info": {
      "mimetype": "text/x-python", 
      "nbconvert_exporter": "python", 
      "name": "python", 
      "file_extension": ".py", 
      "version": "2.7.12", 
      "pygments_lexer": "ipython2", 
      "codemirror_mode": {
        "version": 2, 
        "name": "ipython"
      }
    }
  }
}