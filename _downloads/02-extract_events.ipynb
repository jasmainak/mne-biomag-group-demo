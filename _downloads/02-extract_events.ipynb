{
  "cells": [
    {
      "cell_type": "code",
      "execution_count": null,
      "metadata": {
        "collapsed": false
      },
      "outputs": [],
      "source": [
        "%matplotlib inline"
      ]
    },
    {
      "cell_type": "markdown",
      "metadata": {},
      "source": [
        "\n============================================\n02. Extract events from the stimulus channel\n============================================\n\nThe events are extracted from stimulus channel 'STI101'. The events are saved\nto the subject's MEG directory.\n\n"
      ]
    },
    {
      "cell_type": "code",
      "execution_count": null,
      "metadata": {
        "collapsed": false
      },
      "outputs": [],
      "source": [
        "import os.path as op\n\nimport mne\nfrom mne.parallel import parallel_func\n\nfrom library.config import study_path, meg_dir, N_JOBS\n\n\ndef run_events(subject_id):\n    subject = \"sub%03d\" % subject_id\n    print(\"processing subject: %s\" % subject)\n    in_path = op.join(study_path, 'ds117', subject, 'MEG')\n    out_path = op.join(meg_dir, subject)\n    for run in range(1, 7):\n        run_fname = op.join(in_path, 'run_%02d_raw.fif' % (run,))\n        raw = mne.io.read_raw_fif(run_fname)\n        mask = 4096 + 256  # mask for excluding high order bits\n        events = mne.find_events(raw, stim_channel='STI101',\n                                 consecutive='increasing', mask=mask,\n                                 mask_type='not_and', min_duration=0.003)\n\n        print(\"  S %s - R %s\" % (subject, run))\n\n        fname_events = op.join(out_path, 'run_%02d-eve.fif' % run)\n        mne.write_events(fname_events, events)\n\n\nparallel, run_func, _ = parallel_func(run_events, n_jobs=N_JOBS)\nparallel(run_func(subject_id) for subject_id in range(1, 20))"
      ]
    }
  ],
  "metadata": {
    "kernelspec": {
      "display_name": "Python 3",
      "language": "python",
      "name": "python3"
    },
    "language_info": {
      "codemirror_mode": {
        "name": "ipython",
        "version": 3
      },
      "file_extension": ".py",
      "mimetype": "text/x-python",
      "name": "python",
      "nbconvert_exporter": "python",
      "pygments_lexer": "ipython3",
      "version": "3.6.1"
    }
  },
  "nbformat": 4,
  "nbformat_minor": 0
}