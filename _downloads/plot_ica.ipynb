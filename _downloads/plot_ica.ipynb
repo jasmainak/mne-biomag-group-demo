{
  "nbformat_minor": 0, 
  "nbformat": 4, 
  "cells": [
    {
      "execution_count": null, 
      "cell_type": "code", 
      "source": [
        "%matplotlib inline"
      ], 
      "outputs": [], 
      "metadata": {
        "collapsed": false
      }
    }, 
    {
      "source": [
        "\n# Remove ECG using ICA\n\n\nRemove ECG for sub005 using ICA.\n\n"
      ], 
      "cell_type": "markdown", 
      "metadata": {}
    }, 
    {
      "execution_count": null, 
      "cell_type": "code", 
      "source": [
        "import os\nimport os.path as op\n\nimport mne\nfrom mne.preprocessing import create_ecg_epochs, read_ica\n\nfrom library.config import meg_dir, map_subjects\n\nsubject_id, run = 5, 1\nsubject = \"sub%03d\" % subject_id\nprint(\"processing subject: %s\" % subject)\n\ndata_path = op.join(meg_dir, subject)"
      ], 
      "outputs": [], 
      "metadata": {
        "collapsed": false
      }
    }, 
    {
      "source": [
        "Now we get the bad channels.\n\n"
      ], 
      "cell_type": "markdown", 
      "metadata": {}
    }, 
    {
      "execution_count": null, 
      "cell_type": "code", 
      "source": [
        "mapping = map_subjects[subject_id]  # map to correct subject\nall_bads = list()\n\nbads = list()\nbad_name = op.join('bads', mapping, 'run_%02d_raw_tr.fif_bad' % run)\nif os.path.exists(bad_name):\n    with open(bad_name) as f:\n        for line in f:\n            bads.append(line.strip())"
      ], 
      "outputs": [], 
      "metadata": {
        "collapsed": false
      }
    }, 
    {
      "source": [
        "We read the data.\n\n"
      ], 
      "cell_type": "markdown", 
      "metadata": {}
    }, 
    {
      "execution_count": null, 
      "cell_type": "code", 
      "source": [
        "run_fname = op.join(data_path, 'run_%02d_filt_sss_raw.fif' % run)\nraw = mne.io.read_raw_fif(run_fname, preload=True)"
      ], 
      "outputs": [], 
      "metadata": {
        "collapsed": false
      }
    }, 
    {
      "source": [
        "We change the channel type for ECG and EOG.\n\n"
      ], 
      "cell_type": "markdown", 
      "metadata": {}
    }, 
    {
      "execution_count": null, 
      "cell_type": "code", 
      "source": [
        "raw.set_channel_types({'EEG061': 'eog', 'EEG062': 'eog', 'EEG063': 'ecg',\n                       'EEG064': 'misc'})  # EEG064 free floating el.\nraw.rename_channels({'EEG061': 'EOG061', 'EEG062': 'EOG062',\n                     'EEG063': 'ECG063'})"
      ], 
      "outputs": [], 
      "metadata": {
        "collapsed": false
      }
    }, 
    {
      "source": [
        "Bad sensors are repaired.\n\n"
      ], 
      "cell_type": "markdown", 
      "metadata": {}
    }, 
    {
      "execution_count": null, 
      "cell_type": "code", 
      "source": [
        "raw.info['bads'] = bads\nraw.interpolate_bads()\nraw.set_eeg_reference()"
      ], 
      "outputs": [], 
      "metadata": {
        "collapsed": false
      }
    }, 
    {
      "source": [
        "Now let's get to some serious ICA preprocessing\n\n"
      ], 
      "cell_type": "markdown", 
      "metadata": {}
    }, 
    {
      "execution_count": null, 
      "cell_type": "code", 
      "source": [
        "ica_name = op.join(meg_dir, subject, 'run_%02d-ica.fif' % run)\nica = read_ica(ica_name)\nn_max_ecg = 3  # use max 3 components\necg_epochs = create_ecg_epochs(raw, tmin=-.5, tmax=.5)\necg_inds, scores_ecg = ica.find_bads_ecg(ecg_epochs, method='ctps',\n                                         threshold=0.8)\nica.plot_sources(raw, exclude=ecg_inds)\nica.plot_scores(scores_ecg, exclude=ecg_inds)\nica.plot_properties(raw, ecg_inds)\nica.exclude += ecg_inds[:n_max_ecg]"
      ], 
      "outputs": [], 
      "metadata": {
        "collapsed": false
      }
    }
  ], 
  "metadata": {
    "kernelspec": {
      "display_name": "Python 2", 
      "name": "python2", 
      "language": "python"
    }, 
    "language_info": {
      "mimetype": "text/x-python", 
      "nbconvert_exporter": "python", 
      "name": "python", 
      "file_extension": ".py", 
      "version": "2.7.12", 
      "pygments_lexer": "ipython2", 
      "codemirror_mode": {
        "version": 2, 
        "name": "ipython"
      }
    }
  }
}