{
  "cells": [
    {
      "cell_type": "code",
      "execution_count": null,
      "metadata": {
        "collapsed": false
      },
      "outputs": [],
      "source": [
        "%matplotlib inline"
      ]
    },
    {
      "cell_type": "markdown",
      "metadata": {},
      "source": [
        "\n# Remove ECG and EOG using ICA\n\n\nRemove physiological artifacts for sub005 using ICA.\n\n"
      ]
    },
    {
      "cell_type": "code",
      "execution_count": null,
      "metadata": {
        "collapsed": false
      },
      "outputs": [],
      "source": [
        "import os\nimport os.path as op\nimport sys\n\nimport mne\nfrom mne.preprocessing import create_ecg_epochs, create_eog_epochs, read_ica\n\nsys.path.append(op.join('..', '..', 'processing'))\nfrom library.config import (meg_dir, map_subjects, l_freq,\n                            set_matplotlib_defaults)  # noqa: E402\n\nset_matplotlib_defaults()\nsubject_id, run = 3, 1\nsubject = \"sub%03d\" % subject_id\nprint(\"processing subject: %s\" % subject)\n\ndata_path = op.join(meg_dir, subject)"
      ]
    },
    {
      "cell_type": "markdown",
      "metadata": {},
      "source": [
        "Now we get the bad channels.\n\n"
      ]
    },
    {
      "cell_type": "code",
      "execution_count": null,
      "metadata": {
        "collapsed": false
      },
      "outputs": [],
      "source": [
        "mapping = map_subjects[subject_id]  # map to correct subject\nall_bads = list()\n\nbads = list()\nbad_name = op.join('bads', mapping, 'run_%02d_raw_tr.fif_bad' % run)\nif os.path.exists(bad_name):\n    with open(bad_name) as f:\n        for line in f:\n            bads.append(line.strip())"
      ]
    },
    {
      "cell_type": "markdown",
      "metadata": {},
      "source": [
        "We read the data.\n\n"
      ]
    },
    {
      "cell_type": "code",
      "execution_count": null,
      "metadata": {
        "collapsed": false
      },
      "outputs": [],
      "source": [
        "run_fname = op.join(data_path, 'run_%02d_filt_sss_highpass-%sHz_raw.fif'\n                    % (run, l_freq))\nraw = mne.io.read_raw_fif(run_fname, preload=True)"
      ]
    },
    {
      "cell_type": "markdown",
      "metadata": {},
      "source": [
        "Bad sensors are repaired.\n\n"
      ]
    },
    {
      "cell_type": "code",
      "execution_count": null,
      "metadata": {
        "collapsed": false
      },
      "outputs": [],
      "source": [
        "raw.info['bads'] = bads\nraw.interpolate_bads()\nraw.set_eeg_reference(projection=True)"
      ]
    },
    {
      "cell_type": "markdown",
      "metadata": {},
      "source": [
        "Now let's get to ICA preprocessing. Let's look at our ICA sources on raw:\n\n"
      ]
    },
    {
      "cell_type": "code",
      "execution_count": null,
      "metadata": {
        "collapsed": false
      },
      "outputs": [],
      "source": [
        "ica_name = op.join(meg_dir, subject, 'run_concat_highpass-%sHz-ica.fif'\n                   % (l_freq,))\nica = read_ica(ica_name)\nica.exclude = []\nica.plot_sources(raw)"
      ]
    },
    {
      "cell_type": "markdown",
      "metadata": {},
      "source": [
        "Now let's find ECG events and score ICA components:\n\n"
      ]
    },
    {
      "cell_type": "code",
      "execution_count": null,
      "metadata": {
        "collapsed": false
      },
      "outputs": [],
      "source": [
        "n_max_ecg = 3  # use max 3 components\necg_epochs = create_ecg_epochs(raw, tmin=-.3, tmax=.3)\necg_epochs.decimate(5).apply_baseline((None, None))\necg_inds, scores_ecg = ica.find_bads_ecg(ecg_epochs, method='ctps')\nprint('Found %d ECG component(s)' % (len(ecg_inds),))\nica.exclude += ecg_inds[:n_max_ecg]\nica.plot_scores(scores_ecg, exclude=ecg_inds, title='ECG scores')"
      ]
    },
    {
      "cell_type": "markdown",
      "metadata": {},
      "source": [
        "Let's look at how these sources impact the ECG epochs:\n\n"
      ]
    },
    {
      "cell_type": "code",
      "execution_count": null,
      "metadata": {
        "collapsed": false
      },
      "outputs": [],
      "source": [
        "ica.plot_sources(ecg_epochs.average(), title='ECG average')"
      ]
    },
    {
      "cell_type": "markdown",
      "metadata": {},
      "source": [
        "Then look at what gets removed:\n\n"
      ]
    },
    {
      "cell_type": "code",
      "execution_count": null,
      "metadata": {
        "collapsed": false
      },
      "outputs": [],
      "source": [
        "ica.plot_overlay(ecg_epochs.average())"
      ]
    },
    {
      "cell_type": "markdown",
      "metadata": {},
      "source": [
        "We can also examine the properties of these ECG sources:\n\n"
      ]
    },
    {
      "cell_type": "code",
      "execution_count": null,
      "metadata": {
        "collapsed": false
      },
      "outputs": [],
      "source": [
        "ica.plot_properties(raw, ecg_inds[:n_max_ecg])"
      ]
    },
    {
      "cell_type": "markdown",
      "metadata": {},
      "source": [
        "Now do the same for EOG:\n\n"
      ]
    },
    {
      "cell_type": "code",
      "execution_count": null,
      "metadata": {
        "collapsed": false
      },
      "outputs": [],
      "source": [
        "n_max_eog = 3  # use max 3 components\neog_epochs = create_eog_epochs(raw, tmin=-.5, tmax=.5)\neog_epochs.decimate(5).apply_baseline((None, None))\neog_inds, scores_eog = ica.find_bads_eog(eog_epochs)\nprint('Found %d EOG component(s)' % (len(eog_inds),))\nica.exclude += eog_inds[:n_max_eog]\nica.plot_scores(scores_eog, exclude=eog_inds, title='EOG scores')"
      ]
    },
    {
      "cell_type": "markdown",
      "metadata": {},
      "source": [
        "Again look at the impact of these sources on the EOG epochs:\n\n"
      ]
    },
    {
      "cell_type": "code",
      "execution_count": null,
      "metadata": {
        "collapsed": false
      },
      "outputs": [],
      "source": [
        "ica.plot_sources(eog_epochs.average(), title='EOG average')"
      ]
    },
    {
      "cell_type": "markdown",
      "metadata": {},
      "source": [
        "Look at what gets removed:\n\n"
      ]
    },
    {
      "cell_type": "code",
      "execution_count": null,
      "metadata": {
        "collapsed": false
      },
      "outputs": [],
      "source": [
        "ica.plot_overlay(eog_epochs.average())"
      ]
    },
    {
      "cell_type": "markdown",
      "metadata": {},
      "source": [
        "Look at the properties of these EOG sources:\n\n"
      ]
    },
    {
      "cell_type": "code",
      "execution_count": null,
      "metadata": {
        "collapsed": false
      },
      "outputs": [],
      "source": [
        "ica.plot_properties(raw, eog_inds[:n_max_eog])"
      ]
    }
  ],
  "metadata": {
    "kernelspec": {
      "display_name": "Python 3",
      "language": "python",
      "name": "python3"
    },
    "language_info": {
      "codemirror_mode": {
        "name": "ipython",
        "version": 3
      },
      "file_extension": ".py",
      "mimetype": "text/x-python",
      "name": "python",
      "nbconvert_exporter": "python",
      "pygments_lexer": "ipython3",
      "version": "3.6.1"
    }
  },
  "nbformat": 4,
  "nbformat_minor": 0
}