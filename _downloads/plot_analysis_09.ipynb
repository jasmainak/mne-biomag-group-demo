{
  "cells": [
    {
      "cell_type": "code",
      "execution_count": null,
      "metadata": {
        "collapsed": false
      },
      "outputs": [],
      "source": [
        "%matplotlib inline"
      ]
    },
    {
      "cell_type": "markdown",
      "metadata": {},
      "source": [
        "\n# Analysis for subject 09\n\n\nRun the analysis.\n\n"
      ]
    },
    {
      "cell_type": "code",
      "execution_count": null,
      "metadata": {
        "collapsed": false
      },
      "outputs": [],
      "source": [
        "import os.path as op\nimport sys\n\nimport numpy as np\nimport matplotlib.pyplot as plt\n\nimport mne\n\nsys.path.append(op.join('..', '..', 'processing'))\nfrom library.config import (study_path, meg_dir, ylim, l_freq,\n                            set_matplotlib_defaults)  # noqa: E402\n\nset_matplotlib_defaults()"
      ]
    },
    {
      "cell_type": "markdown",
      "metadata": {},
      "source": [
        "Configuration\n\n"
      ]
    },
    {
      "cell_type": "code",
      "execution_count": null,
      "metadata": {
        "collapsed": false
      },
      "outputs": [],
      "source": [
        "subjects_dir = op.join(study_path, 'subjects')\n\nsubject = \"sub009\"\nsubject_dir = op.join(meg_dir, subject)"
      ]
    },
    {
      "cell_type": "markdown",
      "metadata": {},
      "source": [
        "Continuous data\n\n"
      ]
    },
    {
      "cell_type": "code",
      "execution_count": null,
      "metadata": {
        "collapsed": false
      },
      "outputs": [],
      "source": [
        "raw_fname = op.join(study_path, 'ds117', subject, 'MEG', 'run_01_raw.fif')\nraw_filt_fname = op.join(subject_dir,\n                         'run_01_filt_sss_highpass-%sHz_raw.fif' % l_freq)\nraw = mne.io.read_raw_fif(raw_fname)\nraw_filt = mne.io.read_raw_fif(raw_filt_fname)"
      ]
    },
    {
      "cell_type": "markdown",
      "metadata": {},
      "source": [
        "Filtering `sphx_glr_auto_scripts_04-python_filtering.py`.\n\n"
      ]
    },
    {
      "cell_type": "code",
      "execution_count": null,
      "metadata": {
        "collapsed": false
      },
      "outputs": [],
      "source": [
        "raw.plot_psd(n_fft=8192, average=False, xscale='log', show=False)\nraw_filt.plot_psd(n_fft=8192, average=False, xscale='log')"
      ]
    },
    {
      "cell_type": "markdown",
      "metadata": {},
      "source": [
        "Events `sphx_glr_auto_scripts_02-extract_events.py`.\nEpochs `sphx_glr_auto_scripts_06-make_epochs.py`.\n\n"
      ]
    },
    {
      "cell_type": "code",
      "execution_count": null,
      "metadata": {
        "collapsed": false
      },
      "outputs": [],
      "source": [
        "eve_fname = op.join(subject_dir, 'run_01-eve.fif')\nepo_fname = op.join(subject_dir,\n                    '%s_highpass-%sHz-epo.fif' % (subject, l_freq))\n\nevents = mne.read_events(eve_fname)\nfig = mne.viz.plot_events(events, show=False)\nfig.suptitle('Events from run 01')\n\nepochs = mne.read_epochs(epo_fname)\nepochs.plot_drop_log()"
      ]
    },
    {
      "cell_type": "markdown",
      "metadata": {},
      "source": [
        "Evoked responses `sphx_glr_auto_scripts_07-make_evoked.py`\n\n"
      ]
    },
    {
      "cell_type": "code",
      "execution_count": null,
      "metadata": {
        "collapsed": false
      },
      "outputs": [],
      "source": [
        "ave_fname = op.join(subject_dir,\n                    '%s_highpass-%sHz-ave.fif' % (subject, l_freq))\nevoked = mne.read_evokeds(ave_fname)\nfamous_evo, scrambled_evo, unfamiliar_evo, contrast_evo, faces_evo = evoked[:5]"
      ]
    },
    {
      "cell_type": "markdown",
      "metadata": {},
      "source": [
        "Faces\n\n"
      ]
    },
    {
      "cell_type": "code",
      "execution_count": null,
      "metadata": {
        "collapsed": false
      },
      "outputs": [],
      "source": [
        "faces_evo.plot(spatial_colors=True, gfp=True, ylim=ylim,\n               window_title='Faces %s' % subject)"
      ]
    },
    {
      "cell_type": "markdown",
      "metadata": {},
      "source": [
        "Famous\n\n"
      ]
    },
    {
      "cell_type": "code",
      "execution_count": null,
      "metadata": {
        "collapsed": false
      },
      "outputs": [],
      "source": [
        "famous_evo.plot(spatial_colors=True, gfp=True, ylim=ylim,\n                window_title='Famous %s' % subject)"
      ]
    },
    {
      "cell_type": "markdown",
      "metadata": {},
      "source": [
        "Scrambled\n\n"
      ]
    },
    {
      "cell_type": "code",
      "execution_count": null,
      "metadata": {
        "collapsed": false
      },
      "outputs": [],
      "source": [
        "scrambled_evo.plot(spatial_colors=True, gfp=True, ylim=ylim,\n                   window_title='Scrambled %s' % subject)"
      ]
    },
    {
      "cell_type": "markdown",
      "metadata": {},
      "source": [
        "Unfamiliar\n\n"
      ]
    },
    {
      "cell_type": "code",
      "execution_count": null,
      "metadata": {
        "collapsed": false
      },
      "outputs": [],
      "source": [
        "unfamiliar_evo.plot(spatial_colors=True, gfp=True, ylim=ylim,\n                    window_title='Unfamiliar %s' % subject)"
      ]
    },
    {
      "cell_type": "markdown",
      "metadata": {},
      "source": [
        "Faces - scrambled\n\n"
      ]
    },
    {
      "cell_type": "code",
      "execution_count": null,
      "metadata": {
        "collapsed": false
      },
      "outputs": [],
      "source": [
        "contrast_evo.plot(spatial_colors=True, gfp=True, ylim=ylim,\n                  window_title='Faces - scrambled %s' % subject)"
      ]
    },
    {
      "cell_type": "markdown",
      "metadata": {},
      "source": [
        "Topomaps\n\n"
      ]
    },
    {
      "cell_type": "code",
      "execution_count": null,
      "metadata": {
        "collapsed": false
      },
      "outputs": [],
      "source": [
        "times = np.arange(0.05, 0.3, 0.025)\nfamous_evo.plot_topomap(times=times, title='Famous %s' % subject,\n                        show=False)\nscrambled_evo.plot_topomap(times=times, title='Scrambled %s' % subject,\n                           show=False)\nunfamiliar_evo.plot_topomap(times=times, title='Unfamiliar %s' % subject,\n                            show=False)\ncontrast_evo.plot_topomap(times=times, title='Faces - scrambled %s' % subject,\n                          show=True)"
      ]
    },
    {
      "cell_type": "markdown",
      "metadata": {},
      "source": [
        "ICA (ECG)\n\n"
      ]
    },
    {
      "cell_type": "code",
      "execution_count": null,
      "metadata": {
        "collapsed": false
      },
      "outputs": [],
      "source": [
        "ica_fname = op.join(subject_dir, 'run_concat_highpass-%sHz-ica.fif'\n                    % (l_freq,))\nica = mne.preprocessing.read_ica(ica_fname)\n\necg_scores = np.load(\n    op.join(subject_dir, '%s_highpass-%sHz-ecg-scores.npy'\n            % (subject, l_freq)))\nica.plot_scores(ecg_scores, show=False, title='ICA ECG scores')\necg_evoked = mne.read_evokeds(\n    op.join(subject_dir, '%s_highpass-%sHz-ecg-ave.fif'\n            % (subject, l_freq)))[0]\nica.plot_sources(ecg_evoked, title='ECG evoked', show=True)"
      ]
    },
    {
      "cell_type": "markdown",
      "metadata": {},
      "source": [
        "ICA (EOG)\n\n"
      ]
    },
    {
      "cell_type": "code",
      "execution_count": null,
      "metadata": {
        "collapsed": false
      },
      "outputs": [],
      "source": [
        "eog_scores = np.load(\n    op.join(subject_dir, '%s_highpass-%sHz-eog-scores.npy'\n            % (subject, l_freq)))\nica.plot_scores(eog_scores, show=False, title='ICA EOG scores')\neog_evoked = mne.read_evokeds(\n    op.join(subject_dir, '%s_highpass-%sHz-eog-ave.fif'\n            % (subject, l_freq)))[0]\nica.plot_sources(eog_evoked, title='EOG evoked', show=True)"
      ]
    },
    {
      "cell_type": "markdown",
      "metadata": {},
      "source": [
        "Covariance `sphx_glr_auto_scripts_07-make_evoked.py`.\n\n"
      ]
    },
    {
      "cell_type": "code",
      "execution_count": null,
      "metadata": {
        "collapsed": false
      },
      "outputs": [],
      "source": [
        "cov_fname = op.join(subject_dir,\n                    '%s_highpass-%sHz-cov.fif' % (subject, l_freq))\ncov = mne.read_cov(cov_fname)\nmne.viz.plot_cov(cov, faces_evo.info)\nrank_dict = dict(\n    meg=raw_filt.copy().load_data().pick_types(eeg=False).estimate_rank())\nfor kind in ('meg', 'eeg'):\n    type_dict = dict(meg=False)\n    type_dict.update({kind: True})\n    fig = faces_evo.copy().apply_baseline().pick_types(\n        **type_dict).plot_white(cov, rank=rank_dict if kind == 'meg' else {})\n    for ax, ylabel in zip(fig.axes, ('Whitened\\n%s (AU)' % (kind.upper(),),\n                                     'GFP ($\\chi^2$)')):\n        ax.set(ylabel=ylabel)\n    fig.axes[-1].set(title='', ylim=[0, 20])\n    fig.axes[-1].legend(loc='lower center')\n    fig.set_size_inches(3.5, 3, forward=True)\n    fig.tight_layout()\n    fig.savefig(op.join('..', 'figures', '%s_highpass-%sHz-plot_white_%s.pdf'\n                        % (subject, l_freq, kind)))"
      ]
    },
    {
      "cell_type": "markdown",
      "metadata": {},
      "source": [
        "TFR `sphx_glr_auto_scripts_09-time_frequency.py`.\n\n"
      ]
    },
    {
      "cell_type": "code",
      "execution_count": null,
      "metadata": {
        "collapsed": false
      },
      "outputs": [],
      "source": [
        "fpower = mne.time_frequency.read_tfrs(\n    op.join(subject_dir, '%s_highpass-%sHz-faces-tfr.h5'\n            % (subject, l_freq)))[0]\nfitc = mne.time_frequency.read_tfrs(\n    op.join(subject_dir, '%s_highpass-%sHz-itc_faces-tfr.h5'\n            % (subject, l_freq)))[0]\nspower = mne.time_frequency.read_tfrs(\n    op.join(subject_dir, '%s_highpass-%sHz-scrambled-tfr.h5'\n            % (subject, l_freq)))[0]\nsitc = mne.time_frequency.read_tfrs(\n    op.join(subject_dir, '%s_highpass-%sHz-itc_scrambled-tfr.h5'\n            % (subject, l_freq)))[0]\nchannel = 'EEG065'\nidx = [fpower.ch_names.index(channel)]\nfpower.plot(idx, title='Faces power %s' % channel, baseline=(-0.1, 0.0),\n            mode='logratio', show=False)\nspower.plot(idx, title='Scrambled power %s' % channel, baseline=(-0.1, 0.0),\n            mode='logratio', show=False)\nfitc.plot(idx, title='Faces ITC %s' % channel, baseline=(-0.1, 0.0),\n          mode='logratio', show=False)\nsitc.plot(idx, title='Scrambled ITC %s' % channel, baseline=(-0.1, 0.0),\n          mode='logratio')"
      ]
    },
    {
      "cell_type": "markdown",
      "metadata": {},
      "source": [
        "Trans\n\n"
      ]
    },
    {
      "cell_type": "code",
      "execution_count": null,
      "metadata": {
        "collapsed": false
      },
      "outputs": [],
      "source": [
        "fname_trans = op.join(study_path, 'ds117', subject, 'MEG',\n                      '%s-trans.fif' % subject)\nbem = mne.read_bem_surfaces(op.join(subjects_dir, subject, 'bem',\n                                    '%s-5120-bem.fif' % subject))\nsrc = mne.read_source_spaces(\n    op.join(subjects_dir, subject, 'bem', '%s-oct6-src.fif' % subject))\naln = mne.viz.plot_alignment(\n    raw.info, fname_trans, subject=subject, subjects_dir=subjects_dir, src=src,\n    surfaces=['outer_skin', 'inner_skull'], dig=True, coord_frame='meg')\naln.scene.parallel_projection = True\nfig, axes = plt.subplots(1, 3, figsize=(6.5, 2.5), facecolor='k')\nfrom mayavi import mlab  # noqa: E402\nfor ai, angle in enumerate((180, 90, 0)):\n    mlab.view(angle, 90, focalpoint=(0., 0., 0.), distance=0.6)\n    view = mlab.screenshot()\n    mask_w = (view == 0).all(axis=-1).all(axis=1)\n    mask_h = (view == 0).all(axis=-1).all(axis=0)\n    view = view[~mask_w][:, ~mask_h]\n    axes[ai].set_axis_off()\n    axes[ai].imshow(view, interpolation='bicubic')\nmlab.close(aln)\nfig.subplots_adjust(left=0, right=1, top=1, bottom=0, wspace=0.05, hspace=0)\nfig.savefig(op.join('..', 'figures', '%s_alignment.pdf' % subject),\n            dpi=150, facecolor=fig.get_facecolor(), edgecolor='none')"
      ]
    },
    {
      "cell_type": "markdown",
      "metadata": {},
      "source": [
        "Faces `sphx_glr_auto_scripts_13-make_inverse.py`.\n\n"
      ]
    },
    {
      "cell_type": "code",
      "execution_count": null,
      "metadata": {
        "collapsed": false
      },
      "outputs": [],
      "source": [
        "def plot_stc(cond, figure=None):\n    fname = op.join(subject_dir, 'mne_dSPM_inverse_highpass-%sHz-%s'\n                    % (l_freq, cond))\n    stc = mne.read_source_estimate(fname, subject).magnitude()\n    brain = stc.plot(subject=subject, subjects_dir=subjects_dir, views=['ven'],\n                     hemi='both', initial_time=0.17, time_unit='s',\n                     figure=figure)\n    return brain\n\n\nbrain_faces = plot_stc('faces', figure=1)"
      ]
    },
    {
      "cell_type": "markdown",
      "metadata": {},
      "source": [
        "Faces - scrambled\n\n"
      ]
    },
    {
      "cell_type": "code",
      "execution_count": null,
      "metadata": {
        "collapsed": false
      },
      "outputs": [],
      "source": [
        "brain_contrast = plot_stc('contrast', figure=2)"
      ]
    },
    {
      "cell_type": "markdown",
      "metadata": {},
      "source": [
        "LCMV Faces - scrambled\n\n"
      ]
    },
    {
      "cell_type": "code",
      "execution_count": null,
      "metadata": {
        "collapsed": false
      },
      "outputs": [],
      "source": [
        "fname = op.join(subject_dir, 'mne_LCMV_inverse_highpass-%sHz-contrast'\n                % (l_freq,))\nstc = mne.read_source_estimate(fname, subject)\nstc.plot(subject=subject, subjects_dir=subjects_dir, views=['ven'],\n         hemi='both', initial_time=0.17, time_unit='s', figure=3)"
      ]
    },
    {
      "cell_type": "markdown",
      "metadata": {},
      "source": [
        "BEM\n\n"
      ]
    },
    {
      "cell_type": "code",
      "execution_count": null,
      "metadata": {
        "collapsed": false
      },
      "outputs": [],
      "source": [
        "fig = mne.viz.plot_bem(subject, subjects_dir, slices=[40, 100, 140, 180])\nfig.savefig(op.join('..', 'figures', '%s_bem.pdf' % subject))"
      ]
    }
  ],
  "metadata": {
    "kernelspec": {
      "display_name": "Python 3",
      "language": "python",
      "name": "python3"
    },
    "language_info": {
      "codemirror_mode": {
        "name": "ipython",
        "version": 3
      },
      "file_extension": ".py",
      "mimetype": "text/x-python",
      "name": "python",
      "nbconvert_exporter": "python",
      "pygments_lexer": "ipython3",
      "version": "3.6.1"
    }
  },
  "nbformat": 4,
  "nbformat_minor": 0
}