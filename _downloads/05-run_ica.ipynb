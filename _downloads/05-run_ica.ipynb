{
  "nbformat_minor": 0, 
  "nbformat": 4, 
  "cells": [
    {
      "execution_count": null, 
      "cell_type": "code", 
      "source": [
        "%matplotlib inline"
      ], 
      "outputs": [], 
      "metadata": {
        "collapsed": false
      }
    }, 
    {
      "source": [
        "\n===========\n05. Run ICA\n===========\n\nICA decomposition using fastICA.\n\n"
      ], 
      "cell_type": "markdown", 
      "metadata": {}
    }, 
    {
      "execution_count": null, 
      "cell_type": "code", 
      "source": [
        "import os.path as op\nfrom warnings import warn\n\nimport mne\nfrom mne.preprocessing import ICA\nfrom mne.parallel import parallel_func\n\nfrom library.config import meg_dir\n\n# Here we always process with the 1 Hz highpass data (instead of using\n# l_freq) because ICA needs a highpass.\n\n\ndef run_ica(subject_id, tsss=None):\n    subject = \"sub%03d\" % subject_id\n    print(\"Processing subject: %s%s\"\n          % (subject, (' (tSSS=%d)' % tsss) if tsss else ''))\n    data_path = op.join(meg_dir, subject)\n    raws = list()\n    print(\"  Loading runs\")\n    for run in range(1, 7):\n        if tsss:\n            run_fname = op.join(data_path, 'run_%02d_filt_tsss_%d_raw.fif'\n                                % (run, tsss))\n        else:\n            run_fname = op.join(data_path, 'run_%02d_filt_sss_highpass-%sHz'\n                                '_raw.fif' % (run, 1))\n        raws.append(mne.io.read_raw_fif(run_fname))\n    raw = mne.concatenate_raws(raws)\n    # SSS reduces the data rank and the noise levels, so let's include\n    # components based on a higher proportion of variance explained (0.999)\n    # than we would otherwise do for non-Maxwell-filtered raw data (0.98)\n    n_components = 0.999\n    if tsss:\n        ica_name = op.join(meg_dir, subject,\n                           'run_concat-tsss_%d-ica.fif' % tsss)\n    else:\n        ica_name = op.join(meg_dir, subject, 'run_concat-ica.fif')\n    # Here we only compute ICA for MEG because we only eliminate ECG artifacts,\n    # which are not prevalent in EEG (blink artifacts are, but we will remove\n    # trials with blinks at the epoching stage).\n    print('  Fitting ICA')\n    ica = ICA(method='fastica', random_state=42, n_components=n_components)\n    picks = mne.pick_types(raw.info, meg=True, eeg=False, eog=False,\n                           stim=False, exclude='bads')\n    ica.fit(raw, picks=picks, reject=dict(grad=4000e-13, mag=4e-12),\n            decim=11)\n    print('  Fit %d components (explaining at least %0.1f%% of the variance)'\n          % (ica.n_components_, 100 * n_components))\n    ica.save(ica_name)\n\n\n# Memory footprint: around n_jobs * 4 GB\nparallel, run_func, _ = parallel_func(run_ica, n_jobs=1)\nparallel(run_func(subject_id) for subject_id in range(1, 20))\nparallel(run_func(3, tsss) for tsss in (10, 1))  # Maxwell filtered data"
      ], 
      "outputs": [], 
      "metadata": {
        "collapsed": false
      }
    }
  ], 
  "metadata": {
    "kernelspec": {
      "display_name": "Python 2", 
      "name": "python2", 
      "language": "python"
    }, 
    "language_info": {
      "mimetype": "text/x-python", 
      "nbconvert_exporter": "python", 
      "name": "python", 
      "file_extension": ".py", 
      "version": "2.7.12", 
      "pygments_lexer": "ipython2", 
      "codemirror_mode": {
        "version": 2, 
        "name": "ipython"
      }
    }
  }
}