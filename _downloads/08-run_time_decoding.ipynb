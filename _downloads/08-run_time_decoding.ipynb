{
  "nbformat_minor": 0, 
  "nbformat": 4, 
  "cells": [
    {
      "execution_count": null, 
      "cell_type": "code", 
      "source": [
        "%matplotlib inline"
      ], 
      "outputs": [], 
      "metadata": {
        "collapsed": false
      }
    }, 
    {
      "source": [
        "\n# Time Decoding\n\n\nTime decoding fits a Logistic Regression model for every time point in the\nepoch. In this example, we contrast the condition 'famous' against 'scrambled'\nusing this approach. The end result is an averaging effect across sensors.\nThe contrast across different sensors are combined into a single plot.\n\nResults script: `sphx_glr_auto_examples_plot_time_decoding.py`\n\n"
      ], 
      "cell_type": "markdown", 
      "metadata": {}
    }, 
    {
      "source": [
        "Let us first import the libraries\n\n"
      ], 
      "cell_type": "markdown", 
      "metadata": {}
    }, 
    {
      "execution_count": null, 
      "cell_type": "code", 
      "source": [
        "import os\nimport numpy as np\n\nimport mne\nfrom mne.parallel import parallel_func\n\nfrom library.config import meg_dir, N_JOBS"
      ], 
      "outputs": [], 
      "metadata": {
        "collapsed": false
      }
    }, 
    {
      "source": [
        "Then we write a function to do time decoding on one subject\n\n"
      ], 
      "cell_type": "markdown", 
      "metadata": {}
    }, 
    {
      "execution_count": null, 
      "cell_type": "code", 
      "source": [
        "def run_time_decoding(subject_id, condition1, condition2):\n    subject = \"sub%03d\" % subject_id\n    data_path = os.path.join(meg_dir, subject)\n    epochs = mne.read_epochs(os.path.join(data_path,\n                             '%s_highpass-1Hz-epo.fif' % subject))\n\n    # We define the epochs and the labels\n    n_cond1 = len(epochs[condition1])\n    n_cond2 = len(epochs[condition2])\n    y = np.r_[np.ones((n_cond1, )), np.zeros((n_cond2, ))]\n    epochs = mne.concatenate_epochs([epochs[condition1],\n                                    epochs[condition2]])\n    epochs.apply_baseline()\n\n    # Let us restrict ourselves to the occipital channels\n    from mne.selection import read_selection\n    ch_names = [ch_name.replace(' ', '') for ch_name\n                in read_selection('occipital')]\n    epochs.pick_types(meg='mag').pick_channels(ch_names)\n\n    # Now we fit and plot the time decoder\n    from mne.decoding import TimeDecoding\n\n    times = dict(step=0.005)  # fit a classifier only every 5 ms\n    # Use AUC because chance level is same regardless of the class balance\n    td = TimeDecoding(predict_mode='cross-validation',\n                      times=times, scorer='roc_auc')\n    td.fit(epochs, y)\n\n    # let's save the scores now\n    a_vs_b = '%s_vs_%s' % (os.path.basename(condition1),\n                           os.path.basename(condition2))\n    fname_td = os.path.join(data_path, '%s-td-auc-%s.mat'\n                            % (subject, a_vs_b))\n    from scipy.io import savemat\n    savemat(fname_td, {'scores': td.score(epochs),\n                       'times': td.times_['times']})"
      ], 
      "outputs": [], 
      "metadata": {
        "collapsed": false
      }
    }, 
    {
      "source": [
        "Finally we make this script parallel across subjects and write the results\n\n<div class=\"alert alert-danger\"><h4>Warning</h4><p>This may take a large amount of memory because the epochs will be\n   replicated for each parallel job</p></div>\n\n"
      ], 
      "cell_type": "markdown", 
      "metadata": {}
    }, 
    {
      "execution_count": null, 
      "cell_type": "code", 
      "source": [
        "parallel, run_func, _ = parallel_func(run_time_decoding, n_jobs=N_JOBS)\nparallel(run_func(subject_id, 'face', 'scrambled')\n         for subject_id in range(1, 20))\nparallel(run_func(subject_id, 'face/famous', 'face/unfamiliar')\n         for subject_id in range(1, 20))"
      ], 
      "outputs": [], 
      "metadata": {
        "collapsed": false
      }
    }
  ], 
  "metadata": {
    "kernelspec": {
      "display_name": "Python 2", 
      "name": "python2", 
      "language": "python"
    }, 
    "language_info": {
      "mimetype": "text/x-python", 
      "nbconvert_exporter": "python", 
      "name": "python", 
      "file_extension": ".py", 
      "version": "2.7.12", 
      "pygments_lexer": "ipython2", 
      "codemirror_mode": {
        "version": 2, 
        "name": "ipython"
      }
    }
  }
}