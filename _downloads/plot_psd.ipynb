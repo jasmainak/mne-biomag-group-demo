{
  "nbformat_minor": 0, 
  "nbformat": 4, 
  "cells": [
    {
      "execution_count": null, 
      "cell_type": "code", 
      "source": [
        "%matplotlib inline"
      ], 
      "outputs": [], 
      "metadata": {
        "collapsed": false
      }
    }, 
    {
      "source": [
        "\n=========================\nPSD (linear vs log scale)\n=========================\n\nThe Power Spectral Density (PSD) plot shows different information for\nlinear vs. log scale. We will demonstrate here how the PSD plot can be\nused to conveniently spot bad sensors.\n\n"
      ], 
      "cell_type": "markdown", 
      "metadata": {}
    }, 
    {
      "execution_count": null, 
      "cell_type": "code", 
      "source": [
        "import sys\nimport os\nimport os.path as op\n\nimport mne\n\nfrom library.config import study_path, map_subjects"
      ], 
      "outputs": [], 
      "metadata": {
        "collapsed": false
      }
    }, 
    {
      "source": [
        "First some basic configuration as in all scripts\n\n"
      ], 
      "cell_type": "markdown", 
      "metadata": {}
    }, 
    {
      "execution_count": null, 
      "cell_type": "code", 
      "source": [
        "subjects_dir = os.path.join(study_path, 'subjects')\n\nsubject_id = 10\nrun = 2\nsubject = \"sub%03d\" % int(subject_id)\n\nfname = op.join(study_path, 'ds117', subject, 'MEG', 'run_%02d_raw.fif' % run)\nraw = mne.io.read_raw_fif(fname, preload=True)"
      ], 
      "outputs": [], 
      "metadata": {
        "collapsed": false
      }
    }, 
    {
      "source": [
        "Next, we get the list of bad channels\n\n"
      ], 
      "cell_type": "markdown", 
      "metadata": {}
    }, 
    {
      "execution_count": null, 
      "cell_type": "code", 
      "source": [
        "mapping = map_subjects[subject_id]\nbads = list()\nbad_name = op.join(op.dirname(sys.argv[0]), '..', 'processing',\n                   'bads', mapping, 'run_%02d_raw_tr.fif_bad' % run)\nif os.path.exists(bad_name):\n    with open(bad_name) as f:\n        for line in f:\n            bads.append(line.strip())"
      ], 
      "outputs": [], 
      "metadata": {
        "collapsed": false
      }
    }, 
    {
      "source": [
        "and set the EOG/ECG channels appropriately\n\n"
      ], 
      "cell_type": "markdown", 
      "metadata": {}
    }, 
    {
      "execution_count": null, 
      "cell_type": "code", 
      "source": [
        "raw.set_channel_types({'EEG061': 'eog',\n                       'EEG062': 'eog',\n                       'EEG063': 'ecg',\n                       'EEG064': 'misc'})  # EEG064 free floating el.\nraw.rename_channels({'EEG061': 'EOG061',\n                     'EEG062': 'EOG062',\n                     'EEG063': 'ECG063'})\n\nraw.pick_types(eeg=True, meg=False)"
      ], 
      "outputs": [], 
      "metadata": {
        "collapsed": false
      }
    }, 
    {
      "source": [
        "MNE also displays the cutoff frequencies of the online filters, but here\nwe remove it from the info and show only the HPI coil frequencies.\n\n"
      ], 
      "cell_type": "markdown", 
      "metadata": {}
    }, 
    {
      "execution_count": null, 
      "cell_type": "code", 
      "source": [
        "raw.info['lowpass'] = None\nraw.info['highpass'] = None\nraw.info['line_freq'] = None"
      ], 
      "outputs": [], 
      "metadata": {
        "collapsed": false
      }
    }, 
    {
      "source": [
        "The line colors for the bad channels will be red.\n\n"
      ], 
      "cell_type": "markdown", 
      "metadata": {}
    }, 
    {
      "execution_count": null, 
      "cell_type": "code", 
      "source": [
        "colors = ['k'] * raw.info['nchan']\nfor b in bads:\n    colors[raw.info['ch_names'].index(b)] = 'r'\n\n# this channel should have been marked bad (subject=14, run=01)\n# colors[raw.info['ch_names'].index('EEG024')] = 'g'"
      ], 
      "outputs": [], 
      "metadata": {
        "collapsed": false
      }
    }, 
    {
      "source": [
        "First we show the log scale to spot bad sensors.\n\n"
      ], 
      "cell_type": "markdown", 
      "metadata": {}
    }, 
    {
      "execution_count": null, 
      "cell_type": "code", 
      "source": [
        "import matplotlib.pyplot as plt  # noqa\nfrom library.config import set_matplotlib_defaults  # noqa\n\nset_matplotlib_defaults(plt)\nfig = raw.plot_psd(average=False, line_alpha=0.6,\n                   fmin=0, fmax=350, xscale='log',\n                   spatial_colors=False, show=False)\nplt.xlabel('Frequency (Hz)')\n\nlines = plt.gca().get_lines()\nfor l, c in zip(lines, colors):\n    if c == 'r':\n        l.set_color(c)\n        l.set_linewidth(2.)\n        l.set_zorder(-1)\n\nfig.tight_layout()\nplt.show()\nfig.savefig('psdA.pdf', bbox_to_inches='tight')"
      ], 
      "outputs": [], 
      "metadata": {
        "collapsed": false
      }
    }, 
    {
      "source": [
        "Next, the linear scale to check power line frequency\n\n"
      ], 
      "cell_type": "markdown", 
      "metadata": {}
    }, 
    {
      "execution_count": null, 
      "cell_type": "code", 
      "source": [
        "fig = raw.plot_psd(average=False, line_alpha=0.6, n_fft=2048, n_overlap=1024,\n                   fmin=0, fmax=350, xscale='linear', spatial_colors=False)\nplt.xlabel('Frequency (Hz)')\nplt.ylabel('')\n\nplt.axvline(50., linestyle='--', alpha=0.25, linewidth=2)\nplt.axvline(50., linestyle='--', alpha=0.25, linewidth=2)\n# HPI coils\nfor freq in [293., 307., 314., 321., 328.]:\n    plt.axvline(freq, linestyle='--', alpha=0.25, linewidth=2)\n\nplt.tight_layout()\nfig.savefig('psdB.pdf', bbox_to_inches='tight')"
      ], 
      "outputs": [], 
      "metadata": {
        "collapsed": false
      }
    }
  ], 
  "metadata": {
    "kernelspec": {
      "display_name": "Python 2", 
      "name": "python2", 
      "language": "python"
    }, 
    "language_info": {
      "mimetype": "text/x-python", 
      "nbconvert_exporter": "python", 
      "name": "python", 
      "file_extension": ".py", 
      "version": "2.7.12", 
      "pygments_lexer": "ipython2", 
      "codemirror_mode": {
        "version": 2, 
        "name": "ipython"
      }
    }
  }
}