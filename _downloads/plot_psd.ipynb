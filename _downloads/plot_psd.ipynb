{
  "cells": [
    {
      "cell_type": "code",
      "execution_count": null,
      "metadata": {
        "collapsed": false
      },
      "outputs": [],
      "source": [
        "%matplotlib inline"
      ]
    },
    {
      "cell_type": "markdown",
      "metadata": {},
      "source": [
        "\n=========================\nPSD (linear vs log scale)\n=========================\n\nThe Power Spectral Density (PSD) plot shows different information for\nlinear vs. log scale. We will demonstrate here how the PSD plot can be\nused to conveniently spot bad sensors.\n\n"
      ]
    },
    {
      "cell_type": "code",
      "execution_count": null,
      "metadata": {
        "collapsed": false
      },
      "outputs": [],
      "source": [
        "import os\nimport os.path as op\nimport sys\n\nimport matplotlib.pyplot as plt\n\nimport mne\n\nsys.path.append(op.join('..', '..', 'processing'))\nfrom library.config import (study_path, map_subjects, annot_kwargs,\n                            set_matplotlib_defaults)  # noqa: E402"
      ]
    },
    {
      "cell_type": "markdown",
      "metadata": {},
      "source": [
        "First some basic configuration as in all scripts\n\n"
      ]
    },
    {
      "cell_type": "code",
      "execution_count": null,
      "metadata": {
        "collapsed": false
      },
      "outputs": [],
      "source": [
        "subjects_dir = os.path.join(study_path, 'subjects')\n\nsubject_id = 10\nrun = 2\nsubject = \"sub%03d\" % int(subject_id)\n\nfname = op.join(study_path, 'ds117', subject, 'MEG', 'run_%02d_raw.fif' % run)\nraw = mne.io.read_raw_fif(fname, preload=True)"
      ]
    },
    {
      "cell_type": "markdown",
      "metadata": {},
      "source": [
        "Next, we get the list of bad channels\n\n"
      ]
    },
    {
      "cell_type": "code",
      "execution_count": null,
      "metadata": {
        "collapsed": false
      },
      "outputs": [],
      "source": [
        "mapping = map_subjects[subject_id]\nbads = list()\nbad_name = op.join('..', '..', 'processing', 'bads', mapping,\n                   'run_%02d_raw_tr.fif_bad' % run)\nwith open(bad_name) as f:\n    for line in f:\n        bads.append(line.strip())"
      ]
    },
    {
      "cell_type": "markdown",
      "metadata": {},
      "source": [
        "and set the EOG/ECG channels appropriately\n\n"
      ]
    },
    {
      "cell_type": "code",
      "execution_count": null,
      "metadata": {
        "collapsed": false
      },
      "outputs": [],
      "source": [
        "raw.set_channel_types({'EEG061': 'eog',\n                       'EEG062': 'eog',\n                       'EEG063': 'ecg',\n                       'EEG064': 'misc'})  # EEG064 free floating el.\nraw.rename_channels({'EEG061': 'EOG061',\n                     'EEG062': 'EOG062',\n                     'EEG063': 'ECG063'})\n\nraw.pick_types(eeg=True, meg=False)"
      ]
    },
    {
      "cell_type": "markdown",
      "metadata": {},
      "source": [
        "MNE also displays the cutoff frequencies of the online filters, but here\nwe remove it from the info and show only the HPI coil frequencies.\n\n"
      ]
    },
    {
      "cell_type": "code",
      "execution_count": null,
      "metadata": {
        "collapsed": false
      },
      "outputs": [],
      "source": [
        "raw.info['lowpass'] = None\nraw.info['highpass'] = None\nraw.info['line_freq'] = None"
      ]
    },
    {
      "cell_type": "markdown",
      "metadata": {},
      "source": [
        "The line colors for the bad channels will be red.\n\n"
      ]
    },
    {
      "cell_type": "code",
      "execution_count": null,
      "metadata": {
        "collapsed": false
      },
      "outputs": [],
      "source": [
        "colors = ['k'] * raw.info['nchan']\nfor b in bads:\n    colors[raw.info['ch_names'].index(b)] = 'r'\n\n# this channel should have been marked bad (subject=14, run=01)\n# colors[raw.info['ch_names'].index('EEG024')] = 'g'"
      ]
    },
    {
      "cell_type": "markdown",
      "metadata": {},
      "source": [
        "First we show the log scale to spot bad sensors.\n\n"
      ]
    },
    {
      "cell_type": "code",
      "execution_count": null,
      "metadata": {
        "collapsed": false
      },
      "outputs": [],
      "source": [
        "fig, axes = plt.subplots(1, 2, figsize=(7, 2.25))\nset_matplotlib_defaults()\nax = axes[0]\nraw.plot_psd(\n    average=False, line_alpha=0.6, fmin=0, fmax=350, xscale='log',\n    spatial_colors=False, show=False, ax=[ax])\nax.set(xlabel='Frequency (Hz)', title='')\n# A little hack fix for matplotlib bug on some systems\nfor text in fig.axes[0].texts:\n    pos = text.get_position()\n    if pos[0] <= 0:\n        text.set_position([0.1, pos[1]])\n\nfor l, c in zip(ax.get_lines(), colors):\n    if c == 'r':\n        l.set_color(c)\n        l.set_zorder(3)\n    else:\n        l.set_zorder(4)\n\n# Next, the linear scale to check power line frequency\n\nax = axes[1]\nraw.plot_psd(\n    average=False, line_alpha=0.6, n_fft=2048, n_overlap=1024, fmin=0,\n    fmax=350, xscale='linear', spatial_colors=False, show=False, ax=[ax])\nax.set(xlabel='Frequency (Hz)', ylabel='', title='')\nax.axvline(50., linestyle='--', alpha=0.25, linewidth=2)\nax.axvline(50., linestyle='--', alpha=0.25, linewidth=2)\n\nfor ai, (ax, label) in enumerate(zip(axes, 'AB')):\n    ax.annotate(label, (-0.15 if ai == 0 else -0.1, 1), **annot_kwargs)\n\n# HPI coils\nfor freq in [293., 307., 314., 321., 328.]:\n    ax.axvline(freq, linestyle='--', alpha=0.25, linewidth=2, zorder=2)\n\nfig.tight_layout()\nfig.savefig(op.join('..', 'figures', 'psd.pdf'), bbox_to_inches='tight')\nplt.show()"
      ]
    }
  ],
  "metadata": {
    "kernelspec": {
      "display_name": "Python 3",
      "language": "python",
      "name": "python3"
    },
    "language_info": {
      "codemirror_mode": {
        "name": "ipython",
        "version": 3
      },
      "file_extension": ".py",
      "mimetype": "text/x-python",
      "name": "python",
      "nbconvert_exporter": "python",
      "pygments_lexer": "ipython3",
      "version": "3.6.1"
    }
  },
  "nbformat": 4,
  "nbformat_minor": 0
}