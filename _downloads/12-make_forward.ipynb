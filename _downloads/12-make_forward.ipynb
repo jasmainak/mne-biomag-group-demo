{
  "nbformat_minor": 0, 
  "nbformat": 4, 
  "cells": [
    {
      "execution_count": null, 
      "cell_type": "code", 
      "source": [
        "%matplotlib inline"
      ], 
      "outputs": [], 
      "metadata": {
        "collapsed": false
      }
    }, 
    {
      "source": [
        "\n====================\n12. Forward solution\n====================\n\nCalculate forward solution for MEG channels.\n\n"
      ], 
      "cell_type": "markdown", 
      "metadata": {}
    }, 
    {
      "execution_count": null, 
      "cell_type": "code", 
      "source": [
        "import os.path as op\nimport mne\n\nfrom mne.parallel import parallel_func\n\nfrom library.config import (study_path, meg_dir, subjects_dir, spacing, N_JOBS,\n                            mindist, l_freq)\n\n\ndef run_forward(subject_id):\n    subject = \"sub%03d\" % subject_id\n    print(\"processing subject: %s\" % subject)\n    data_path = op.join(meg_dir, subject)\n\n    fname_ave = op.join(data_path,\n                        '%s_highpass-%sHz-ave.fif' % (subject, l_freq))\n    fname_fwd = op.join(data_path, '%s-meg-eeg-%s-fwd.fif'\n                        % (subject, spacing))\n    fname_trans = op.join(study_path, 'ds117', subject, 'MEG',\n                          '%s-trans.fif' % subject)\n    fname_src = op.join(subjects_dir, subject, 'bem', '%s-%s-src.fif'\n                        % (subject, spacing))\n    # Here we only use 1-layer BEM because the 3-layer is unreliable\n    fname_bem = op.join(subjects_dir, subject, 'bem',\n                        '%s-5120-bem-sol.fif' % subject)\n\n    info = mne.io.read_info(fname_ave)\n    # Because we use a 1-layer BEM, we do MEG only\n    fwd = mne.make_forward_solution(info, fname_trans, fname_src, fname_bem,\n                                    meg=True, eeg=False, mindist=mindist)\n    mne.write_forward_solution(fname_fwd, fwd, overwrite=True)\n\n\nparallel, run_func, _ = parallel_func(run_forward, n_jobs=N_JOBS)\nparallel(run_func(subject_id) for subject_id in range(1, 20))"
      ], 
      "outputs": [], 
      "metadata": {
        "collapsed": false
      }
    }
  ], 
  "metadata": {
    "kernelspec": {
      "display_name": "Python 2", 
      "name": "python2", 
      "language": "python"
    }, 
    "language_info": {
      "mimetype": "text/x-python", 
      "nbconvert_exporter": "python", 
      "name": "python", 
      "file_extension": ".py", 
      "version": "2.7.12", 
      "pygments_lexer": "ipython2", 
      "codemirror_mode": {
        "version": 2, 
        "name": "ipython"
      }
    }
  }
}