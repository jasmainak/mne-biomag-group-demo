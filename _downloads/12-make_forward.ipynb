{
  "nbformat_minor": 0, 
  "nbformat": 4, 
  "cells": [
    {
      "execution_count": null, 
      "cell_type": "code", 
      "source": [
        "%matplotlib inline"
      ], 
      "outputs": [], 
      "metadata": {
        "collapsed": false
      }
    }, 
    {
      "source": [
        "\nForward solution\n================\n\nCalculate forward solution for MEG channels.\n\n"
      ], 
      "cell_type": "markdown", 
      "metadata": {}
    }, 
    {
      "execution_count": null, 
      "cell_type": "code", 
      "source": [
        "import os.path as op\nimport mne\n\nfrom mne.parallel import parallel_func\n\nfrom library.config import (study_path, meg_dir, subjects_dir, spacing, N_JOBS,\n                            mindist)\n\n\nexclude = [1, 5, 16]  # Excluded subjects\n\n\ndef run_forward(subject_id):\n    if subject_id in exclude:\n        return\n    subject = \"sub%03d\" % subject_id\n    print(\"processing subject: %s\" % subject)\n    data_path = op.join(meg_dir, subject)\n\n    fname_ave = op.join(data_path, '%s_highpass-1Hz_ave.fif' % subject)\n    fname_fwd = op.join(data_path, '%s-meg-%s-fwd.fif' % (subject, spacing))\n    fname_trans = op.join(study_path, 'ds117', subject, 'MEG',\n                          '%s-trans.fif' % subject)\n\n    src = mne.setup_source_space(subject, spacing=spacing,\n                                 subjects_dir=subjects_dir,\n                                 n_jobs=1, add_dist=False)\n\n    src_fname = op.join(subjects_dir, subject, '%s-src.fif' % spacing)\n    mne.write_source_spaces(src_fname, src, overwrite=True)\n\n    bem_model = mne.make_bem_model(subject, ico=4, subjects_dir=subjects_dir,\n                                   conductivity=(0.3,))\n    bem = mne.make_bem_solution(bem_model)\n    info = mne.read_evokeds(fname_ave, condition=0).info\n    fwd = mne.make_forward_solution(info, trans=fname_trans, src=src, bem=bem,\n                                    meg=True, eeg=False, mindist=mindist,\n                                    n_jobs=1)\n    fwd = mne.convert_forward_solution(fwd, surf_ori=True)\n    mne.write_forward_solution(fname_fwd, fwd, overwrite=True)\n\n\nparallel, run_func, _ = parallel_func(run_forward, n_jobs=N_JOBS)\nparallel(run_func(subject_id) for subject_id in range(1, 20))"
      ], 
      "outputs": [], 
      "metadata": {
        "collapsed": false
      }
    }
  ], 
  "metadata": {
    "kernelspec": {
      "display_name": "Python 2", 
      "name": "python2", 
      "language": "python"
    }, 
    "language_info": {
      "mimetype": "text/x-python", 
      "nbconvert_exporter": "python", 
      "name": "python", 
      "file_extension": ".py", 
      "version": "2.7.12", 
      "pygments_lexer": "ipython2", 
      "codemirror_mode": {
        "version": 2, 
        "name": "ipython"
      }
    }
  }
}