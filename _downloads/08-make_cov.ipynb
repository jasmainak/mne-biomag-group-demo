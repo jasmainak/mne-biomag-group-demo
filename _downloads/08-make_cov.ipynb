{
  "nbformat_minor": 0, 
  "nbformat": 4, 
  "cells": [
    {
      "execution_count": null, 
      "cell_type": "code", 
      "source": [
        "%matplotlib inline"
      ], 
      "outputs": [], 
      "metadata": {
        "collapsed": false
      }
    }, 
    {
      "source": [
        "\n==================================\n08. Baseline covariance estimation\n==================================\n\nCovariance matrices are computed and saved.\n\n"
      ], 
      "cell_type": "markdown", 
      "metadata": {}
    }, 
    {
      "execution_count": null, 
      "cell_type": "code", 
      "source": [
        "import os.path as op\n\nimport mne\nfrom mne.parallel import parallel_func\n\nfrom library.config import meg_dir, N_JOBS, l_freq\n\n\ndef run_covariance(subject_id, tsss=False):\n    subject = \"sub%03d\" % subject_id\n    print(\"Processing subject: %s%s\"\n          % (subject, (' (tSSS=%d)' % tsss) if tsss else ''))\n\n    data_path = op.join(meg_dir, subject)\n    if tsss:\n        fname_epo = op.join(data_path, '%s-tsss_%d-epo.fif' % (subject, tsss))\n        fname_cov = op.join(data_path, '%s-tsss_%d-cov.fif' % (subject, tsss))\n    else:\n        fname_epo = op.join(data_path, '%s_highpass-%sHz-epo.fif'\n                            % (subject, l_freq))\n        fname_cov = op.join(data_path, '%s_highpass-%sHz-cov.fif'\n                            % (subject, l_freq))\n    print('  Computing regularized covariance')\n    epochs = mne.read_epochs(fname_epo, preload=True)\n    cov = mne.compute_covariance(epochs, tmax=0, method='shrunk')\n    cov.save(fname_cov)\n\n\nparallel, run_func, _ = parallel_func(run_covariance, n_jobs=N_JOBS)\nparallel(run_func(subject_id) for subject_id in range(1, 20))\nif l_freq is None:\n    parallel(run_func(3, tsss) for tsss in (10, 1))  # Maxwell filtered data"
      ], 
      "outputs": [], 
      "metadata": {
        "collapsed": false
      }
    }
  ], 
  "metadata": {
    "kernelspec": {
      "display_name": "Python 2", 
      "name": "python2", 
      "language": "python"
    }, 
    "language_info": {
      "mimetype": "text/x-python", 
      "nbconvert_exporter": "python", 
      "name": "python", 
      "file_extension": ".py", 
      "version": "2.7.12", 
      "pygments_lexer": "ipython2", 
      "codemirror_mode": {
        "version": 2, 
        "name": "ipython"
      }
    }
  }
}