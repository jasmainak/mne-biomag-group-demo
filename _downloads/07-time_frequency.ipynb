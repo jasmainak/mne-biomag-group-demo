{
  "nbformat_minor": 0, 
  "nbformat": 4, 
  "cells": [
    {
      "execution_count": null, 
      "cell_type": "code", 
      "source": [
        "%matplotlib inline"
      ], 
      "outputs": [], 
      "metadata": {
        "collapsed": false
      }
    }, 
    {
      "source": [
        "\nTime-frequency representation\n=============================\n\nThe epoched data is transformed to time-frequency domain using morlet wavelets.\nFaces and scrambled data sets are used and for both of them, the average power\nand inter-trial coherence are computed and saved to disk. Only channel 'EEG070'\nis used to save time.\n\n"
      ], 
      "cell_type": "markdown", 
      "metadata": {}
    }, 
    {
      "execution_count": null, 
      "cell_type": "code", 
      "source": [
        "import os.path as op\nimport numpy as np\n\nimport mne\nfrom mne.parallel import parallel_func\n\nfrom library.config import meg_dir, N_JOBS\n\nfreqs = np.arange(6, 40)\nn_cycles = freqs / 2.\n\n\ndef run_time_frequency(subject_id):\n    print(\"processing subject: %s\" % subject_id)\n    subject = \"sub%03d\" % subject_id\n    data_path = op.join(meg_dir, subject)\n    epochs = mne.read_epochs(op.join(data_path, '%s_highpass-1Hz-epo.fif'\n                                     % subject))\n\n    faces = epochs['face']\n    idx = [faces.ch_names.index('EEG065')]\n    power_faces, itc_faces = mne.time_frequency.tfr_morlet(\n        faces, freqs=freqs, return_itc=True, n_cycles=n_cycles, picks=idx)\n    power_scrambled, itc_scrambled = mne.time_frequency.tfr_morlet(\n        epochs['scrambled'], freqs=freqs, return_itc=True, n_cycles=n_cycles,\n        picks=idx)\n\n    power_faces.save(op.join(data_path, '%s-faces-tfr.h5' % subject),\n                     overwrite=True)\n    itc_faces.save(op.join(data_path, '%s-itc_faces-tfr.h5' % subject),\n                   overwrite=True)\n\n    power_scrambled.save(op.join(data_path, '%s-scrambled-tfr.h5' % subject),\n                         overwrite=True)\n    itc_scrambled.save(op.join(data_path, '%s-itc_scrambled-tfr.h5' % subject),\n                       overwrite=True)\n\n\nparallel, run_func, _ = parallel_func(run_time_frequency, n_jobs=N_JOBS)\nparallel(run_func(subject_id) for subject_id in range(1, 20))"
      ], 
      "outputs": [], 
      "metadata": {
        "collapsed": false
      }
    }
  ], 
  "metadata": {
    "kernelspec": {
      "display_name": "Python 2", 
      "name": "python2", 
      "language": "python"
    }, 
    "language_info": {
      "mimetype": "text/x-python", 
      "nbconvert_exporter": "python", 
      "name": "python", 
      "file_extension": ".py", 
      "version": "2.7.12", 
      "pygments_lexer": "ipython2", 
      "codemirror_mode": {
        "version": 2, 
        "name": "ipython"
      }
    }
  }
}