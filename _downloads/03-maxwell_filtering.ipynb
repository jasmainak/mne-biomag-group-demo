{
  "nbformat_minor": 0, 
  "nbformat": 4, 
  "cells": [
    {
      "execution_count": null, 
      "cell_type": "code", 
      "source": [
        "%matplotlib inline"
      ], 
      "outputs": [], 
      "metadata": {
        "collapsed": false
      }
    }, 
    {
      "source": [
        "\n===================================\n03. Maxwell filter using MNE-python\n===================================\n\nThe data are Maxwell filtered using tSSS and movement compensation.\n\nUsing tSSS with a short duration can be used as an alternative to highpass\nfiltering. Here we will use the default (10 sec) and a short window (1 sec).\n\nIt is critical to mark bad channels before Maxwell\nfiltering. Here for consistency we exploit the MaxFilter log files for\ndetermining the bad channels.\n\nThe data are also lowpass filtered at 40 Hz using linear-phase FIR filter with\ndelay compensation. The transition bandwidth is automatically defined. See\n`Background information on filtering <http://mne-tools.github.io/dev/auto_tutorials/plot_background_filtering.html>`_\nfor more. The filtered data are saved to separate files to the subject's'MEG'\ndirectory.\n\n"
      ], 
      "cell_type": "markdown", 
      "metadata": {}
    }, 
    {
      "execution_count": null, 
      "cell_type": "code", 
      "source": [
        "import os\nimport os.path as op\nfrom warnings import warn\n\nimport numpy as np\n\nimport mne\n\nfrom library.config import study_path, meg_dir, N_JOBS, cal, ctc, l_freq\n\n\ndef run_maxwell_filter(subject_id):\n    subject = \"sub%03d\" % subject_id\n    print(\"processing subject: %s\" % subject)\n    sss_fname_out = op.join(meg_dir, subject, 'run_%02d_filt_tsss_%d_raw.fif')\n\n    raw_fname_in = op.join(study_path, 'ds117', subject, 'MEG',\n                           'run_%02d_raw.fif')\n    sss_fname_in = op.join(study_path, 'ds117', subject, 'MEG',\n                           'run_%02d_sss.fif')\n\n    # To match their processing, transform to the head position of the 4th run\n    info = mne.io.read_info(sss_fname_in % 4)\n    destination = info['dev_head_t']\n    # Get the origin they used\n    origin = info['proc_history'][0]['max_info']['sss_info']['origin']\n\n    for run in range(1, 7):\n        raw_in = raw_fname_in % run\n        try:\n            raw = mne.io.read_raw_fif(raw_in)\n        except AttributeError:\n            # Some files on openfmri are corrupted and cannot be read.\n            warn('Could not read file %s. '\n                 'Skipping run %s from subject %s.' % (raw_in, run, subject))\n            continue\n        print('  Run %s' % (run,))\n\n        raw.set_channel_types({\n            'EEG061': 'eog',\n            'EEG062': 'eog',\n            'EEG063': 'ecg',\n            'EEG064': 'misc'\n        })  # EEG064 free floating el.\n        raw.rename_channels({\n            'EEG061': 'EOG061',\n            'EEG062': 'EOG062',\n            'EEG063': 'ECG063'\n        })\n        raw.fix_mag_coil_types()\n\n        # Read bad channels from the MaxFilter log.\n        with open(\n                op.join(study_path, 'ds117', subject, 'MEG',\n                        'run_%02d_sss_log.txt' % run)) as fid:\n            for line in fid:\n                if line.startswith('Static bad channels'):\n                    chs = line.split(':')[-1].split()\n                    bads = ['MEG%04d' % int(ch) for ch in chs]\n                    break\n        raw.info['bads'] += bads\n\n        # Get the head positions from the existing SSS file.\n        # Usually this can be done by saving to a text file with MaxFilter\n        # instead, and reading with :func:`mne.chpi.read_head_pos`.\n        raw_sss = mne.io.read_raw_fif(sss_fname_in % run, verbose='error')\n        chpi_picks = mne.pick_types(raw_sss.info, meg=False, chpi=True)\n        assert len(chpi_picks) == 9\n        head_pos, t = raw_sss[chpi_picks]\n        # Add first_samp.\n        t = t + raw_sss.first_samp / raw_sss.info['sfreq']\n        # The head positions in the FIF file are all zero for invalid positions\n        # so let's remove them, and then concatenate our times.\n        mask = (head_pos != 0).any(axis=0)\n        head_pos = np.concatenate((t[np.newaxis], head_pos)).T[mask]\n        # In this dataset due to old MaxFilter (2.2.10), data are uniformly\n        # sampled at 1 Hz, so we save some processing time in\n        # maxwell_filter by downsampling.\n        skip = int(round(raw_sss.info['sfreq']))\n        head_pos = head_pos[::skip]\n        del raw_sss\n\n        for st_duration in (10, 1):\n            print('    st_duration=%d' % (st_duration,))\n            raw_sss = mne.preprocessing.maxwell_filter(\n                raw, calibration=cal, cross_talk=ctc, st_duration=st_duration,\n                origin=origin, destination=destination, head_pos=head_pos)\n\n            raw_out = sss_fname_out % (run, st_duration)\n\n            # Here we only low-pass MEG (assuming MaxFilter has high-passed\n            # the data already), but we still need to band-pass EEG:\n            picks_meg = mne.pick_types(raw.info, meg=True, exclude=())\n            raw_sss.filter(\n                None, 40, l_trans_bandwidth='auto', h_trans_bandwidth='auto',\n                filter_length='auto', phase='zero', fir_window='hamming',\n                fir_design='firwin', n_jobs=N_JOBS, picks=picks_meg)\n            picks_eeg = mne.pick_types(raw.info, eeg=True, exclude=())\n            raw_sss.filter(\n                l_freq, 40, l_trans_bandwidth='auto', h_trans_bandwidth='auto',\n                filter_length='auto', phase='zero', fir_window='hamming',\n                fir_design='firwin', n_jobs=N_JOBS, picks=picks_eeg)\n            # High-pass EOG to get reasonable thresholds in autoreject\n            picks_eog = mne.pick_types(raw.info, meg=False, eog=True)\n            raw_sss.filter(\n                l_freq, None, picks=picks_eog, l_trans_bandwidth='auto',\n                filter_length='auto', phase='zero', fir_window='hann',\n                fir_design='firwin')\n            raw_sss.save(raw_out, overwrite=True)\n\n\nrun_maxwell_filter(subject_id=3)  # Only for sub003"
      ], 
      "outputs": [], 
      "metadata": {
        "collapsed": false
      }
    }
  ], 
  "metadata": {
    "kernelspec": {
      "display_name": "Python 2", 
      "name": "python2", 
      "language": "python"
    }, 
    "language_info": {
      "mimetype": "text/x-python", 
      "nbconvert_exporter": "python", 
      "name": "python", 
      "file_extension": ".py", 
      "version": "2.7.12", 
      "pygments_lexer": "ipython2", 
      "codemirror_mode": {
        "version": 2, 
        "name": "ipython"
      }
    }
  }
}