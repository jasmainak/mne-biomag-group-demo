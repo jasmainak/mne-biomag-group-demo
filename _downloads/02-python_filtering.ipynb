{
  "nbformat_minor": 0, 
  "nbformat": 4, 
  "cells": [
    {
      "execution_count": null, 
      "cell_type": "code", 
      "source": [
        "%matplotlib inline"
      ], 
      "outputs": [], 
      "metadata": {
        "collapsed": false
      }
    }, 
    {
      "source": [
        "\nFilter using MNE-python\n=======================\n\nThe data are bandpass filtered (1 - 40 Hz) using linear-phase fir filter with\ndelay compensation. For the lowpass filter the transition bandwidth is\nautomatically defined. See\n`Background information on filtering <http://mne-tools.github.io/dev/auto_tutorials/plot_background_filtering.html>`_\nfor more. The filtered data are saved to separate files to the subject's'MEG'\ndirectory.\n\n"
      ], 
      "cell_type": "markdown", 
      "metadata": {}
    }, 
    {
      "execution_count": null, 
      "cell_type": "code", 
      "source": [
        "import os\nimport os.path as op\nfrom warnings import warn\n\nimport mne\nfrom mne import pick_types\nfrom mne.parallel import parallel_func\n\nfrom library.config import study_path, meg_dir, N_JOBS, l_freq\n\n\nif not op.exists(meg_dir):\n    os.mkdir(meg_dir)\n\n\ndef run_filter(subject_id):\n    subject = \"sub%03d\" % subject_id\n    print(\"processing subject: %s\" % subject)\n    raw_fname_out = op.join(meg_dir, subject,\n                            'run_%02d_filt_sss_highpass-%sHz_raw.fif')\n    raw_fname_in = op.join(study_path, 'ds117', subject, 'MEG',\n                           'run_%02d_sss.fif')\n    for run in range(1, 7):\n        raw_in = raw_fname_in % run\n        try:\n            raw = mne.io.read_raw_fif(raw_in, preload=True)\n        except AttributeError:\n            # Some files on openfmri are corrupted and cannot be read.\n            warn('Could not read file %s. '\n                 'Skipping run %s from subject %s.' % (raw_in, run, subject))\n            continue\n\n        raw.set_channel_types({'EEG061': 'eog',\n                               'EEG062': 'eog',\n                               'EEG063': 'ecg',\n                               'EEG064': 'misc'})  # EEG064 free floating el.\n        raw.rename_channels({'EEG061': 'EOG061',\n                             'EEG062': 'EOG062',\n                             'EEG063': 'ECG063'})\n\n        if not op.exists(op.join(meg_dir, subject)):\n            os.mkdir(op.join(meg_dir, subject))\n\n        raw.filter(l_freq, 40, l_trans_bandwidth='auto',\n                   h_trans_bandwidth='auto', filter_length='auto',\n                   phase='zero', fir_window='hann',\n                   fir_design='firwin')\n        # high-pass eog channel to get reasonable thresholds in autoreject\n        picks_eog = pick_types(raw.info, meg=False, eog=True)\n        raw.filter(l_freq, None, picks=picks_eog, l_trans_bandwidth='auto',\n                   filter_length='auto', phase='zero', fir_window='hann',\n                   fir_design='firwin')\n        raw_out = raw_fname_out % (run, l_freq)\n        raw.save(raw_out, overwrite=True)\n\n\nparallel, run_func, _ = parallel_func(run_filter, n_jobs=N_JOBS)\nparallel(run_func(subject_id) for subject_id in range(1, 20))"
      ], 
      "outputs": [], 
      "metadata": {
        "collapsed": false
      }
    }
  ], 
  "metadata": {
    "kernelspec": {
      "display_name": "Python 2", 
      "name": "python2", 
      "language": "python"
    }, 
    "language_info": {
      "mimetype": "text/x-python", 
      "nbconvert_exporter": "python", 
      "name": "python", 
      "file_extension": ".py", 
      "version": "2.7.12", 
      "pygments_lexer": "ipython2", 
      "codemirror_mode": {
        "version": 2, 
        "name": "ipython"
      }
    }
  }
}