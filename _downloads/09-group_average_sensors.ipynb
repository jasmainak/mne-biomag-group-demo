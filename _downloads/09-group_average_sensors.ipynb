{
  "nbformat_minor": 0, 
  "nbformat": 4, 
  "cells": [
    {
      "execution_count": null, 
      "cell_type": "code", 
      "source": [
        "%matplotlib inline"
      ], 
      "outputs": [], 
      "metadata": {
        "collapsed": false
      }
    }, 
    {
      "source": [
        "\nGroup average on sensor level\n=============================\n\nThe EEG-channel data are averaged for group averages.\n\n"
      ], 
      "cell_type": "markdown", 
      "metadata": {}
    }, 
    {
      "execution_count": null, 
      "cell_type": "code", 
      "source": [
        "import os.path as op\n\nimport mne\n\nfrom library.config import meg_dir, l_freq\n\nall_evokeds = [[], [], [], [], []]  # Container for all the categories\n\nexclude = [1, 5, 16]  # Excluded subjects\n\nfor run in range(1, 20):\n    if run in exclude:\n        continue\n    subject = \"sub%03d\" % run\n    print(\"processing subject: %s\" % subject)\n    data_path = op.join(meg_dir, subject)\n\n    evokeds = mne.read_evokeds(op.join(meg_dir, subject,\n                                       '%s_highpass-%sHz_ave.fif'\n                                       % (subject, l_freq)))\n    for idx, evoked in enumerate(evokeds):\n        all_evokeds[idx].append(evoked)  # Insert to the container\n\n\nfor idx, evokeds in enumerate(all_evokeds):\n    all_evokeds[idx] = mne.combine_evoked(evokeds, 'equal')  # Combine subjects\n\nmne.evoked.write_evokeds(op.join(meg_dir, 'grand_average_'\n                                 'highpass-%sHz-ave.fif' % l_freq),\n                         all_evokeds)"
      ], 
      "outputs": [], 
      "metadata": {
        "collapsed": false
      }
    }
  ], 
  "metadata": {
    "kernelspec": {
      "display_name": "Python 2", 
      "name": "python2", 
      "language": "python"
    }, 
    "language_info": {
      "mimetype": "text/x-python", 
      "nbconvert_exporter": "python", 
      "name": "python", 
      "file_extension": ".py", 
      "version": "2.7.12", 
      "pygments_lexer": "ipython2", 
      "codemirror_mode": {
        "version": 2, 
        "name": "ipython"
      }
    }
  }
}