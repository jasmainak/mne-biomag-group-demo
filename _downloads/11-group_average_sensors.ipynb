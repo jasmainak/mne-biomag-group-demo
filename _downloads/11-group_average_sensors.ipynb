{
  "nbformat_minor": 0, 
  "nbformat": 4, 
  "cells": [
    {
      "execution_count": null, 
      "cell_type": "code", 
      "source": [
        "%matplotlib inline"
      ], 
      "outputs": [], 
      "metadata": {
        "collapsed": false
      }
    }, 
    {
      "source": [
        "\n=====================================\n11. Group average at the sensor level\n=====================================\n\nThe EEG-channel data are averaged for group averages.\n\n"
      ], 
      "cell_type": "markdown", 
      "metadata": {}
    }, 
    {
      "execution_count": null, 
      "cell_type": "code", 
      "source": [
        "import os.path as op\n\nimport mne\n\nfrom library.config import meg_dir, l_freq, exclude_subjects\n\nall_evokeds = [list() for _ in range(7)]  # Container for all the categories\n\nfor run in range(1, 20):\n    if run in exclude_subjects:\n        continue\n    subject = \"sub%03d\" % run\n    print(\"processing subject: %s\" % subject)\n    data_path = op.join(meg_dir, subject)\n\n    evokeds = mne.read_evokeds(\n        op.join(meg_dir, subject, '%s_highpass-%sHz-ave.fif'\n                % (subject, l_freq)))\n    assert len(evokeds) == len(all_evokeds)\n    for idx, evoked in enumerate(evokeds):\n        all_evokeds[idx].append(evoked)  # Insert to the container\n\n\nfor idx, evokeds in enumerate(all_evokeds):\n    all_evokeds[idx] = mne.combine_evoked(evokeds, 'equal')  # Combine subjects\n\nmne.evoked.write_evokeds(\n    op.join(meg_dir, 'grand_average_highpass-%sHz-ave.fif' % l_freq),\n    all_evokeds)"
      ], 
      "outputs": [], 
      "metadata": {
        "collapsed": false
      }
    }
  ], 
  "metadata": {
    "kernelspec": {
      "display_name": "Python 2", 
      "name": "python2", 
      "language": "python"
    }, 
    "language_info": {
      "mimetype": "text/x-python", 
      "nbconvert_exporter": "python", 
      "name": "python", 
      "file_extension": ".py", 
      "version": "2.7.12", 
      "pygments_lexer": "ipython2", 
      "codemirror_mode": {
        "version": 2, 
        "name": "ipython"
      }
    }
  }
}