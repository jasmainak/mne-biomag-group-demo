{
  "cells": [
    {
      "cell_type": "code",
      "execution_count": null,
      "metadata": {
        "collapsed": false
      },
      "outputs": [],
      "source": [
        "%matplotlib inline"
      ]
    },
    {
      "cell_type": "markdown",
      "metadata": {},
      "source": [
        "\n=====================================\n11. Group average at the sensor level\n=====================================\n\nThe EEG-channel data are averaged for group averages.\n\n"
      ]
    },
    {
      "cell_type": "code",
      "execution_count": null,
      "metadata": {
        "collapsed": false
      },
      "outputs": [],
      "source": [
        "import os.path as op\n\nimport mne\n\nfrom library.config import meg_dir, l_freq, exclude_subjects\n\nall_evokeds = [list() for _ in range(7)]  # Container for all the categories\n\nfor run in range(1, 20):\n    if run in exclude_subjects:\n        continue\n    subject = \"sub%03d\" % run\n    print(\"processing subject: %s\" % subject)\n    data_path = op.join(meg_dir, subject)\n\n    evokeds = mne.read_evokeds(\n        op.join(meg_dir, subject, '%s_highpass-%sHz-ave.fif'\n                % (subject, l_freq)))\n    assert len(evokeds) == len(all_evokeds)\n    for idx, evoked in enumerate(evokeds):\n        all_evokeds[idx].append(evoked)  # Insert to the container\n\n\nfor idx, evokeds in enumerate(all_evokeds):\n    all_evokeds[idx] = mne.combine_evoked(evokeds, 'equal')  # Combine subjects\n\nmne.evoked.write_evokeds(\n    op.join(meg_dir, 'grand_average_highpass-%sHz-ave.fif' % l_freq),\n    all_evokeds)"
      ]
    }
  ],
  "metadata": {
    "kernelspec": {
      "display_name": "Python 3",
      "language": "python",
      "name": "python3"
    },
    "language_info": {
      "codemirror_mode": {
        "name": "ipython",
        "version": 3
      },
      "file_extension": ".py",
      "mimetype": "text/x-python",
      "name": "python",
      "nbconvert_exporter": "python",
      "pygments_lexer": "ipython3",
      "version": "3.6.1"
    }
  },
  "nbformat": 4,
  "nbformat_minor": 0
}