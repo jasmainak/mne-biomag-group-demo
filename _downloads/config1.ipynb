{
  "nbformat_minor": 0, 
  "nbformat": 4, 
  "cells": [
    {
      "execution_count": null, 
      "cell_type": "code", 
      "source": [
        "%matplotlib inline"
      ], 
      "outputs": [], 
      "metadata": {
        "collapsed": false
      }
    }, 
    {
      "source": [
        "\n# Config file\n\n\nConfiguration parameters for the study. Place them in a folder called\n``library/`` inside the ``results/`` and ``processing/`` folders.\n\n"
      ], 
      "cell_type": "markdown", 
      "metadata": {}
    }, 
    {
      "execution_count": null, 
      "cell_type": "code", 
      "source": [
        "import os"
      ], 
      "outputs": [], 
      "metadata": {
        "collapsed": false
      }
    }, 
    {
      "source": [
        "Let's set the path where the data is downloaded and stored.\n\n"
      ], 
      "cell_type": "markdown", 
      "metadata": {}
    }, 
    {
      "execution_count": null, 
      "cell_type": "code", 
      "source": [
        "user = os.environ['USER']\nif user == 'gramfort':\n    study_path = '/tsi/doctorants/data_gramfort/dgw_faces'\n    N_JOBS = 8\nelif user == 'mjas':\n    study_path = '/tsi/doctorants/data_gramfort/dgw_faces'\n    N_JOBS = 4\nelif user == 'jleppakangas':\n    study_path = '/tsi/doctorants/data_gramfort/dgw_faces'\n    N_JOBS = 8\nelif user == 'alex':\n    study_path = '/Users/alex/work/data/mne-biomag-group-demo/'\n    N_JOBS = 1\nelse:\n    study_path = os.path.join(os.path.dirname(__file__), '..', '..', '..')\n    N_JOBS = 1"
      ], 
      "outputs": [], 
      "metadata": {
        "collapsed": false
      }
    }, 
    {
      "source": [
        "The ``subjects_dir`` and ``meg_dir`` for reading anatomical and MEG files.\n\n"
      ], 
      "cell_type": "markdown", 
      "metadata": {}
    }, 
    {
      "execution_count": null, 
      "cell_type": "code", 
      "source": [
        "subjects_dir = os.path.join(study_path, 'subjects')\nmeg_dir = os.path.join(study_path, 'MEG')\n\nos.environ[\"SUBJECTS_DIR\"] = subjects_dir\n\nspacing = 'oct6'\nmindist = 5"
      ], 
      "outputs": [], 
      "metadata": {
        "collapsed": false
      }
    }, 
    {
      "source": [
        "Some mapping betwen filenames for bad sensors and subjects\n\n"
      ], 
      "cell_type": "markdown", 
      "metadata": {}
    }, 
    {
      "execution_count": null, 
      "cell_type": "code", 
      "source": [
        "map_subjects = {1: 'subject_01', 2: 'subject_02', 3: 'subject_03',\n                4: 'subject_05', 5: 'subject_06', 6: 'subject_08',\n                7: 'subject_09', 8: 'subject_10', 9: 'subject_11',\n                10: 'subject_12', 11: 'subject_14', 12: 'subject_15',\n                13: 'subject_16', 14: 'subject_17', 15: 'subject_18',\n                16: 'subject_19', 17: 'subject_23', 18: 'subject_24',\n                19: 'subject_25'}"
      ], 
      "outputs": [], 
      "metadata": {
        "collapsed": false
      }
    }, 
    {
      "source": [
        "The `cross talk file <https://github.com/mne-tools/mne-biomag-group-demo/blob/master/scripts/results/library/ct_sparse.fif>`_\nand `calibration file <https://github.com/mne-tools/mne-biomag-group-demo/blob/master/scripts/results/library/sss_cal.dat>`_\nare placed in the same folder.\n\n"
      ], 
      "cell_type": "markdown", 
      "metadata": {}
    }, 
    {
      "execution_count": null, 
      "cell_type": "code", 
      "source": [
        "ctc = os.path.join(os.path.dirname(__file__), '..', '..', 'results', 'library',\n                   'ct_sparse.fif')\ncal = os.path.join(os.path.dirname(__file__), '..', '..', 'results', 'library',\n                   'sss_cal.dat')\n\nylim = {'eeg': [-10, 10], 'mag': [-300, 300], 'grad': [-80, 80]}\n\nl_freq = 1"
      ], 
      "outputs": [], 
      "metadata": {
        "collapsed": false
      }
    }
  ], 
  "metadata": {
    "kernelspec": {
      "display_name": "Python 2", 
      "name": "python2", 
      "language": "python"
    }, 
    "language_info": {
      "mimetype": "text/x-python", 
      "nbconvert_exporter": "python", 
      "name": "python", 
      "file_extension": ".py", 
      "version": "2.7.12", 
      "pygments_lexer": "ipython2", 
      "codemirror_mode": {
        "version": 2, 
        "name": "ipython"
      }
    }
  }
}