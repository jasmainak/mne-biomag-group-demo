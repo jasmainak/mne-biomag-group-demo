{
  "nbformat_minor": 0, 
  "nbformat": 4, 
  "cells": [
    {
      "execution_count": null, 
      "cell_type": "code", 
      "source": [
        "%matplotlib inline"
      ], 
      "outputs": [], 
      "metadata": {
        "collapsed": false
      }
    }, 
    {
      "source": [
        "\n# Analysis for subject 3\n\n\nRun the analysis.\n\n"
      ], 
      "cell_type": "markdown", 
      "metadata": {}
    }, 
    {
      "execution_count": null, 
      "cell_type": "code", 
      "source": [
        "import os\nimport os.path as op\nimport numpy as np\n\nimport mne\n\nfrom library.config import study_path, meg_dir, ylim, l_freq"
      ], 
      "outputs": [], 
      "metadata": {
        "collapsed": false
      }
    }, 
    {
      "source": [
        "Configuration\n\n"
      ], 
      "cell_type": "markdown", 
      "metadata": {}
    }, 
    {
      "execution_count": null, 
      "cell_type": "code", 
      "source": [
        "subjects_dir = os.path.join(study_path, 'subjects')\n\nsubject = \"sub%03d\" % int(3)\n\nfname = op.join(study_path, 'ds117', subject, 'MEG', 'run_01_raw.fif')\nraw = mne.io.read_raw_fif(fname)\n\nfname = op.join(meg_dir, subject,\n                'run_01_filt_sss_highpass-%sHz_raw.fif' % l_freq)\n# XXX: use same ICA regardless of l_freq because it fails when l_freq is None\nica_fname = op.join(meg_dir, subject, 'run_01-ica.fif')\nraw_filt = mne.io.read_raw_fif(fname)"
      ], 
      "outputs": [], 
      "metadata": {
        "collapsed": false
      }
    }, 
    {
      "source": [
        "Filtering `sphx_glr_auto_scripts_02-python_filtering.py`.\n\n"
      ], 
      "cell_type": "markdown", 
      "metadata": {}
    }, 
    {
      "execution_count": null, 
      "cell_type": "code", 
      "source": [
        "raw.plot_psd(n_fft=2048, n_overlap=1024)\nraw_filt.plot_psd()"
      ], 
      "outputs": [], 
      "metadata": {
        "collapsed": false
      }
    }, 
    {
      "source": [
        "Events `sphx_glr_auto_scripts_03-run_extract_events.py`.\nEpochs `sphx_glr_auto_scripts_05-make_epochs.py`.\n\n"
      ], 
      "cell_type": "markdown", 
      "metadata": {}
    }, 
    {
      "execution_count": null, 
      "cell_type": "code", 
      "source": [
        "events = mne.read_events(op.join(meg_dir, subject, 'run_01_filt_sss-eve.fif'))\nfig = mne.viz.plot_events(events, show=False)\nfig.suptitle('Events from run 01')\n\ndata_path = op.join(meg_dir, subject)\nepochs = mne.read_epochs(op.join(data_path, '%s_highpass-%sHz-epo.fif'\n                         % (subject, l_freq)))\nepochs.plot_drop_log()"
      ], 
      "outputs": [], 
      "metadata": {
        "collapsed": false
      }
    }, 
    {
      "source": [
        "Evoked responses `sphx_glr_auto_scripts_06-make_evoked.py`\n\n"
      ], 
      "cell_type": "markdown", 
      "metadata": {}
    }, 
    {
      "execution_count": null, 
      "cell_type": "code", 
      "source": [
        "evo_fname = op.join(data_path, '%s_highpass-%sHz_ave.fif' % (subject, l_freq))\nevoked = mne.read_evokeds(evo_fname)"
      ], 
      "outputs": [], 
      "metadata": {
        "collapsed": false
      }
    }, 
    {
      "source": [
        "Faces\n\n"
      ], 
      "cell_type": "markdown", 
      "metadata": {}
    }, 
    {
      "execution_count": null, 
      "cell_type": "code", 
      "source": [
        "famous_evo, scrambled_evo, unfamiliar_evo, contrast_evo, faces_evo = evoked\nfaces_evo.plot(spatial_colors=True, gfp=True, ylim=ylim,\n               window_title='Faces %s' % subject)"
      ], 
      "outputs": [], 
      "metadata": {
        "collapsed": false
      }
    }, 
    {
      "source": [
        "Famous\n\n"
      ], 
      "cell_type": "markdown", 
      "metadata": {}
    }, 
    {
      "execution_count": null, 
      "cell_type": "code", 
      "source": [
        "famous_evo.plot(spatial_colors=True, gfp=True, ylim=ylim,\n                window_title='Famous %s' % subject)"
      ], 
      "outputs": [], 
      "metadata": {
        "collapsed": false
      }
    }, 
    {
      "source": [
        "Scrambled\n\n"
      ], 
      "cell_type": "markdown", 
      "metadata": {}
    }, 
    {
      "execution_count": null, 
      "cell_type": "code", 
      "source": [
        "scrambled_evo.plot(spatial_colors=True, gfp=True, ylim=ylim,\n                   window_title='Scrambled %s' % subject)"
      ], 
      "outputs": [], 
      "metadata": {
        "collapsed": false
      }
    }, 
    {
      "source": [
        "Unfamiliar\n\n"
      ], 
      "cell_type": "markdown", 
      "metadata": {}
    }, 
    {
      "execution_count": null, 
      "cell_type": "code", 
      "source": [
        "unfamiliar_evo.plot(spatial_colors=True, gfp=True, ylim=ylim,\n                    window_title='Unfamiliar %s' % subject)"
      ], 
      "outputs": [], 
      "metadata": {
        "collapsed": false
      }
    }, 
    {
      "source": [
        "Faces - scrambled\n\n"
      ], 
      "cell_type": "markdown", 
      "metadata": {}
    }, 
    {
      "execution_count": null, 
      "cell_type": "code", 
      "source": [
        "contrast_evo.plot(spatial_colors=True, gfp=True, ylim=ylim,\n                  window_title='Faces - scrambled %s' % subject)"
      ], 
      "outputs": [], 
      "metadata": {
        "collapsed": false
      }
    }, 
    {
      "source": [
        "Topomaps\n\n"
      ], 
      "cell_type": "markdown", 
      "metadata": {}
    }, 
    {
      "execution_count": null, 
      "cell_type": "code", 
      "source": [
        "times = np.arange(0.05, 0.3, 0.025)\nfamous_evo.plot_topomap(times=times, title='Famous %s' % subject)\nscrambled_evo.plot_topomap(times=times, title='Scrambled %s' % subject)\nunfamiliar_evo.plot_topomap(times=times, title='Unfamiliar %s' % subject)\ncontrast_evo.plot_topomap(times=times, title='Faces - scrambled %s' % subject)"
      ], 
      "outputs": [], 
      "metadata": {
        "collapsed": false
      }
    }, 
    {
      "source": [
        "ICA\n\n"
      ], 
      "cell_type": "markdown", 
      "metadata": {}
    }, 
    {
      "execution_count": null, 
      "cell_type": "code", 
      "source": [
        "ica = mne.preprocessing.read_ica(ica_fname)\nica.plot_sources(raw_filt)"
      ], 
      "outputs": [], 
      "metadata": {
        "collapsed": false
      }
    }, 
    {
      "source": [
        "TFR `sphx_glr_auto_scripts_07-time_frequency.py`.\n\n"
      ], 
      "cell_type": "markdown", 
      "metadata": {}
    }, 
    {
      "execution_count": null, 
      "cell_type": "code", 
      "source": [
        "fpower = mne.time_frequency.read_tfrs(\n    op.join(meg_dir, subject, '%s-faces-tfr.h5' % subject))[0]\nfitc = mne.time_frequency.read_tfrs(\n    op.join(meg_dir, subject, '%s-itc_faces-tfr.h5' % subject))[0]\nspower = mne.time_frequency.read_tfrs(\n    op.join(meg_dir, subject, '%s-scrambled-tfr.h5' % subject))[0]\nsitc = mne.time_frequency.read_tfrs(\n    op.join(meg_dir, subject, '%s-itc_scrambled-tfr.h5' % subject))[0]\nchannel = 'EEG065'\nidx = [fpower.ch_names.index(channel)]\nfpower.plot(idx, title='Faces power %s' % channel, baseline=(-0.1, 0.0),\n            mode='logratio')\nspower.plot(idx, title='Scrambled power %s' % channel, baseline=(-0.1, 0.0),\n            mode='logratio')\nfitc.plot(idx, title='Faces ITC %s' % channel, baseline=(-0.1, 0.0),\n          mode='logratio')\nsitc.plot(idx, title='Scrambled ITC %s' % channel, baseline=(-0.1, 0.0),\n          mode='logratio')"
      ], 
      "outputs": [], 
      "metadata": {
        "collapsed": false
      }
    }, 
    {
      "source": [
        "Covariance `sphx_glr_auto_scripts_06-make_evoked.py`.\n\n"
      ], 
      "cell_type": "markdown", 
      "metadata": {}
    }, 
    {
      "execution_count": null, 
      "cell_type": "code", 
      "source": [
        "cov = mne.read_cov(op.join(meg_dir, subject, '%s-cov.fif' % subject))\nmne.viz.plot_cov(cov, faces_evo.info)\nfaces_evo.plot_white(cov)"
      ], 
      "outputs": [], 
      "metadata": {
        "collapsed": false
      }
    }, 
    {
      "source": [
        "Trans\n\n"
      ], 
      "cell_type": "markdown", 
      "metadata": {}
    }, 
    {
      "execution_count": null, 
      "cell_type": "code", 
      "source": [
        "fname_trans = op.join(study_path, 'ds117', subject, 'MEG',\n                      '%s-trans.fif' % subject)\nmne.viz.plot_trans(famous_evo.info, fname_trans, subject=subject,\n                   subjects_dir=subjects_dir, meg_sensors=True,\n                   eeg_sensors=True)"
      ], 
      "outputs": [], 
      "metadata": {
        "collapsed": false
      }
    }, 
    {
      "source": [
        "Faces `sphx_glr_auto_scripts_13-make_inverse.py`.\n\n"
      ], 
      "cell_type": "markdown", 
      "metadata": {}
    }, 
    {
      "execution_count": null, 
      "cell_type": "code", 
      "source": [
        "def plot_stc(cond):\n    fname = op.join(meg_dir, subject, 'mne_dSPM_inverse-%s' % cond)\n    stc = mne.read_source_estimate(fname, subject)\n    brain = stc.plot(subject=subject, subjects_dir=subjects_dir, views=['ven'],\n                     hemi='both', initial_time=0.17, time_unit='s')\n    return brain\n\nbrain = plot_stc('faces')"
      ], 
      "outputs": [], 
      "metadata": {
        "collapsed": false
      }
    }, 
    {
      "source": [
        "Faces - scrambled\n\n"
      ], 
      "cell_type": "markdown", 
      "metadata": {}
    }, 
    {
      "execution_count": null, 
      "cell_type": "code", 
      "source": [
        "brain = plot_stc('contrast')"
      ], 
      "outputs": [], 
      "metadata": {
        "collapsed": false
      }
    }, 
    {
      "source": [
        "LCMV Faces - scrambled\n\n"
      ], 
      "cell_type": "markdown", 
      "metadata": {}
    }, 
    {
      "execution_count": null, 
      "cell_type": "code", 
      "source": [
        "fname = op.join(meg_dir, subject, 'mne_LCMV_inverse-contrast')\nstc = mne.read_source_estimate(fname, subject)\nstc.plot(subject=subject, subjects_dir=subjects_dir, views=['ven'],\n         hemi='both', initial_time=0.17, time_unit='s')"
      ], 
      "outputs": [], 
      "metadata": {
        "collapsed": false
      }
    }, 
    {
      "source": [
        "BEM\n\n"
      ], 
      "cell_type": "markdown", 
      "metadata": {}
    }, 
    {
      "execution_count": null, 
      "cell_type": "code", 
      "source": [
        "mne.viz.plot_bem(subject, subjects_dir)"
      ], 
      "outputs": [], 
      "metadata": {
        "collapsed": false
      }
    }
  ], 
  "metadata": {
    "kernelspec": {
      "display_name": "Python 2", 
      "name": "python2", 
      "language": "python"
    }, 
    "language_info": {
      "mimetype": "text/x-python", 
      "nbconvert_exporter": "python", 
      "name": "python", 
      "file_extension": ".py", 
      "version": "2.7.12", 
      "pygments_lexer": "ipython2", 
      "codemirror_mode": {
        "version": 2, 
        "name": "ipython"
      }
    }
  }
}