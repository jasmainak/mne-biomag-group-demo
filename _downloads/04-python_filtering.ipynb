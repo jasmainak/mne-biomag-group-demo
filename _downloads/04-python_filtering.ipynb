{
  "cells": [
    {
      "cell_type": "code",
      "execution_count": null,
      "metadata": {
        "collapsed": false
      },
      "outputs": [],
      "source": [
        "%matplotlib inline"
      ]
    },
    {
      "cell_type": "markdown",
      "metadata": {},
      "source": [
        "\n===========================\n04. Filter using MNE-python\n===========================\n\nThe data are bandpass filtered (1 - 40 Hz) using linear-phase fir filter with\ndelay compensation. For the lowpass filter the transition bandwidth is\nautomatically defined. See\n`Background information on filtering <http://mne-tools.github.io/dev/auto_tutorials/plot_background_filtering.html>`_\nfor more. The filtered data are saved to separate files to the subject's'MEG'\ndirectory.\n\n"
      ]
    },
    {
      "cell_type": "code",
      "execution_count": null,
      "metadata": {
        "collapsed": false
      },
      "outputs": [],
      "source": [
        "import os\nimport os.path as op\n\nimport mne\nfrom mne import pick_types\nfrom mne.parallel import parallel_func\n\nfrom library.config import study_path, meg_dir, l_freq, N_JOBS\n\n\nif not op.exists(meg_dir):\n    os.mkdir(meg_dir)\n\n\ndef run_filter(subject_id):\n    subject = \"sub%03d\" % subject_id\n    print(\"processing subject: %s\" % subject)\n    raw_fname_out = op.join(meg_dir, subject,\n                            'run_%02d_filt_sss_highpass-%sHz_raw.fif')\n    raw_fname_in = op.join(study_path, 'ds117', subject, 'MEG',\n                           'run_%02d_sss.fif')\n    for run in range(1, 7):\n        raw_in = raw_fname_in % run\n        raw = mne.io.read_raw_fif(raw_in, preload=True, verbose='error')\n        raw.set_channel_types({'EEG061': 'eog',\n                               'EEG062': 'eog',\n                               'EEG063': 'ecg',\n                               'EEG064': 'misc'})  # EEG064 free-floating el.\n        raw.rename_channels({'EEG061': 'EOG061',\n                             'EEG062': 'EOG062',\n                             'EEG063': 'ECG063'})\n\n        if not op.exists(op.join(meg_dir, subject)):\n            os.mkdir(op.join(meg_dir, subject))\n\n        # Band-pass the data channels (MEG and EEG)\n        raw.filter(\n            l_freq, 40, l_trans_bandwidth='auto', h_trans_bandwidth='auto',\n            filter_length='auto', phase='zero', fir_window='hamming',\n            fir_design='firwin')\n        # High-pass EOG to get reasonable thresholds in autoreject\n        picks_eog = pick_types(raw.info, meg=False, eog=True)\n        raw.filter(\n            l_freq, None, picks=picks_eog, l_trans_bandwidth='auto',\n            filter_length='auto', phase='zero', fir_window='hann',\n            fir_design='firwin')\n        raw_out = raw_fname_out % (run, l_freq)\n        raw.save(raw_out, overwrite=True)\n\n\nparallel, run_func, _ = parallel_func(run_filter, n_jobs=N_JOBS)\nparallel(run_func(subject_id) for subject_id in range(1, 20))"
      ]
    }
  ],
  "metadata": {
    "kernelspec": {
      "display_name": "Python 3",
      "language": "python",
      "name": "python3"
    },
    "language_info": {
      "codemirror_mode": {
        "name": "ipython",
        "version": 3
      },
      "file_extension": ".py",
      "mimetype": "text/x-python",
      "name": "python",
      "nbconvert_exporter": "python",
      "pygments_lexer": "ipython3",
      "version": "3.6.1"
    }
  },
  "nbformat": 4,
  "nbformat_minor": 0
}