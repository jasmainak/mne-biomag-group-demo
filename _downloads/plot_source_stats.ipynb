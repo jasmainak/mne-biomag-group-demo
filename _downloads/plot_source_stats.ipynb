{
  "cells": [
    {
      "cell_type": "code",
      "execution_count": null,
      "metadata": {
        "collapsed": false
      },
      "outputs": [],
      "source": [
        "%matplotlib inline"
      ]
    },
    {
      "cell_type": "markdown",
      "metadata": {},
      "source": [
        "\n=============================================\nSpatio-temporal source-space statistics (MEG)\n=============================================\n\nClustering in source space.\n\n"
      ]
    },
    {
      "cell_type": "code",
      "execution_count": null,
      "metadata": {
        "collapsed": false
      },
      "outputs": [],
      "source": [
        "from functools import partial\nimport os.path as op\nimport sys\n\nimport numpy as np\nfrom scipy import stats\n\nimport mne\nfrom mne import spatial_src_connectivity\nfrom mne.stats import (spatio_temporal_cluster_1samp_test,\n                       summarize_clusters_stc, ttest_1samp_no_p)\n\nsys.path.append(op.join('..', '..', 'processing'))\nfrom library.config import (meg_dir, subjects_dir, fsaverage_vertices,\n                            exclude_subjects, N_JOBS, l_freq, random_state)  # noqa: E402\n\nfaces = list()\nscrambled = list()\nfor subject_id in range(1, 20):\n    if subject_id in exclude_subjects:\n        continue\n    subject = \"sub%03d\" % subject_id\n    print(\"processing subject: %s\" % subject)\n    data_path = op.join(meg_dir, subject)\n    stc = mne.read_source_estimate(\n        op.join(data_path, 'mne_dSPM_inverse_morph_highpass-%sHz-faces_eq'\n                % (l_freq,)))\n    faces.append(stc.magnitude().crop(None, 0.8).data.T)\n    stc = mne.read_source_estimate(\n        op.join(data_path, 'mne_dSPM_inverse_morph_highpass-%sHz-scrambled_eq'\n                % (l_freq,)))\n    scrambled.append(stc.magnitude().crop(None, 0.8).data.T)\n    tstep = stc.tstep"
      ]
    },
    {
      "cell_type": "markdown",
      "metadata": {},
      "source": [
        "Set up our contrast and initial p-value threshold\n\n"
      ]
    },
    {
      "cell_type": "code",
      "execution_count": null,
      "metadata": {
        "collapsed": false
      },
      "outputs": [],
      "source": [
        "X = np.array(faces, float) - np.array(scrambled, float)\nfsaverage_src = mne.read_source_spaces(\n    op.join(subjects_dir, 'fsaverage', 'bem', 'fsaverage-5-src.fif'))\nconnectivity = spatial_src_connectivity(fsaverage_src)\n# something like 0.01 is a more typical value here (or use TFCE!), but\n# for speed here we'll use 0.001 (fewer clusters to handle)\np_threshold = 0.001\nt_threshold = -stats.distributions.t.ppf(p_threshold / 2., len(X) - 1)"
      ]
    },
    {
      "cell_type": "markdown",
      "metadata": {},
      "source": [
        "Here we could do an exact test with ``n_permutations=2**(len(X)-1)``,\ni.e. 32768 permutations, but this would take a long time. For speed and\nsimplicity we'll do 1024.\n\n"
      ]
    },
    {
      "cell_type": "code",
      "execution_count": null,
      "metadata": {
        "collapsed": false
      },
      "outputs": [],
      "source": [
        "stat_fun = partial(ttest_1samp_no_p, sigma=1e-3)\nT_obs, clusters, cluster_p_values, H0 = clu = \\\n    spatio_temporal_cluster_1samp_test(\n        X, connectivity=connectivity, n_jobs=N_JOBS, threshold=t_threshold,\n        stat_fun=stat_fun, buffer_size=None, seed=random_state,\n        step_down_p=0.05, verbose=True)\n\ngood_cluster_inds = np.where(cluster_p_values < 0.05)[0]\nfor ind in good_cluster_inds:\n    print('Found cluster with p=%g' % (cluster_p_values[ind],))"
      ]
    },
    {
      "cell_type": "markdown",
      "metadata": {},
      "source": [
        "Visualize the results:\n\n"
      ]
    },
    {
      "cell_type": "code",
      "execution_count": null,
      "metadata": {
        "collapsed": false
      },
      "outputs": [],
      "source": [
        "stc_all_cluster_vis = summarize_clusters_stc(\n    clu, tstep=tstep, vertices=fsaverage_vertices, subject='fsaverage')\npos_lims = [0, 0.1, 100 if l_freq is None else 30]\nbrain = stc_all_cluster_vis.plot(\n    hemi='both', subjects_dir=subjects_dir,\n    time_label='Duration significant (ms)', views='ven',\n    clim=dict(pos_lims=pos_lims, kind='value'), size=(1000, 1000),\n    background='white', foreground='black')\nbrain.save_image(op.join('..', 'figures', 'source_stats_highpass-%sHz.png'\n                         % (l_freq,)))"
      ]
    }
  ],
  "metadata": {
    "kernelspec": {
      "display_name": "Python 3",
      "language": "python",
      "name": "python3"
    },
    "language_info": {
      "codemirror_mode": {
        "name": "ipython",
        "version": 3
      },
      "file_extension": ".py",
      "mimetype": "text/x-python",
      "name": "python",
      "nbconvert_exporter": "python",
      "pygments_lexer": "ipython3",
      "version": "3.6.1"
    }
  },
  "nbformat": 4,
  "nbformat_minor": 0
}