{
  "nbformat_minor": 0, 
  "nbformat": 4, 
  "cells": [
    {
      "execution_count": null, 
      "cell_type": "code", 
      "source": [
        "%matplotlib inline"
      ], 
      "outputs": [], 
      "metadata": {
        "collapsed": false
      }
    }, 
    {
      "source": [
        "\n# Source space clusters\n\n\nClustering in source space.\n\n"
      ], 
      "cell_type": "markdown", 
      "metadata": {}
    }, 
    {
      "execution_count": null, 
      "cell_type": "code", 
      "source": [
        "import os.path as op\nimport numpy as np\nfrom scipy import stats\nfrom functools import partial\n\nimport mne\nfrom mne import spatial_tris_connectivity, grade_to_tris\nfrom mne.stats import (spatio_temporal_cluster_1samp_test,\n                       summarize_clusters_stc, ttest_1samp_no_p)\n\nfrom library.config import meg_dir, subjects_dir\n\nexclude = [1, 5, 16]  # Excluded subjects\ncontrasts = list()\nfor subject_id in range(1, 20):\n    if subject_id in exclude:\n        continue\n    subject = \"sub%03d\" % subject_id\n    print(\"processing subject: %s\" % subject)\n    data_path = op.join(meg_dir, subject)\n    contrast = mne.read_source_estimate(op.join(data_path, 'contrast-morphed'))\n    contrast.resample(100)\n    contrast.crop(0., None)\n    contrasts.append(contrast.data.T)\n\nX = np.abs(np.array(contrasts))\n\nconnectivity = spatial_tris_connectivity(grade_to_tris(4))\np_threshold = 0.001\nt_threshold = -stats.distributions.t.ppf(p_threshold / 2., 15)\n\nstat_fun = partial(ttest_1samp_no_p, sigma=0.5)\nT_obs, clusters, cluster_p_values, H0 = clu = \\\n    spatio_temporal_cluster_1samp_test(X, connectivity=connectivity, n_jobs=1,\n                                       threshold=t_threshold,\n                                       stat_fun=stat_fun, verbose=True)\n\ngood_cluster_inds = np.where(cluster_p_values < p_threshold)[0]\ntstep = contrast.tstep\nfsave_vertices = [np.arange(2562), np.arange(2562)]\nstc_all_cluster_vis = summarize_clusters_stc(clu, tstep=tstep,\n                                             vertices=fsave_vertices,\n                                             subject='fsaverage')\n\nbrain = stc_all_cluster_vis.plot(hemi='both', subjects_dir=subjects_dir,\n                                 time_label='Duration significant (ms)',\n                                 views='ven',\n                                 clim=dict(lims=[0, 15, 30], kind='value'))"
      ], 
      "outputs": [], 
      "metadata": {
        "collapsed": false
      }
    }
  ], 
  "metadata": {
    "kernelspec": {
      "display_name": "Python 2", 
      "name": "python2", 
      "language": "python"
    }, 
    "language_info": {
      "mimetype": "text/x-python", 
      "nbconvert_exporter": "python", 
      "name": "python", 
      "file_extension": ".py", 
      "version": "2.7.12", 
      "pygments_lexer": "ipython2", 
      "codemirror_mode": {
        "version": 2, 
        "name": "ipython"
      }
    }
  }
}