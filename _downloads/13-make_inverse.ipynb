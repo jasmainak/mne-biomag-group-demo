{
  "nbformat_minor": 0, 
  "nbformat": 4, 
  "cells": [
    {
      "execution_count": null, 
      "cell_type": "code", 
      "source": [
        "%matplotlib inline"
      ], 
      "outputs": [], 
      "metadata": {
        "collapsed": false
      }
    }, 
    {
      "source": [
        "\n====================\n13. Inverse solution\n====================\n\nCompute and apply a dSPM inverse solution for each evoked data set.\n\n"
      ], 
      "cell_type": "markdown", 
      "metadata": {}
    }, 
    {
      "execution_count": null, 
      "cell_type": "code", 
      "source": [
        "import os.path as op\n\nimport mne\nfrom mne.parallel import parallel_func\nfrom mne.minimum_norm import (make_inverse_operator, apply_inverse,\n                              write_inverse_operator)\n\nfrom library.config import meg_dir, spacing, N_JOBS, l_freq\n\n\ndef run_inverse(subject_id):\n    subject = \"sub%03d\" % subject_id\n    print(\"processing subject: %s\" % subject)\n    data_path = op.join(meg_dir, subject)\n\n    fname_ave = op.join(data_path,\n                        '%s_highpass-%sHz-ave.fif' % (subject, l_freq))\n    fname_cov = op.join(data_path,\n                        '%s_highpass-%sHz-cov.fif' % (subject, l_freq))\n    fname_fwd = op.join(data_path, '%s-meg-eeg-%s-fwd.fif'\n                        % (subject, spacing))\n    fname_inv = op.join(data_path, '%s_highpass-%sHz-meg-eeg-%s-inv.fif'\n                        % (subject, l_freq, spacing))\n\n    evokeds = mne.read_evokeds(\n        fname_ave, condition=['scrambled', 'unfamiliar', 'famous',\n                              'faces', 'contrast',\n                              'faces_eq', 'scrambled_eq'])\n    cov = mne.read_cov(fname_cov)\n    forward = mne.read_forward_solution(fname_fwd)\n\n    # This will be an MEG-only inverse because the 3-layer BEMs are not\n    # reliable, so our forward only has MEG channels.\n    info = evokeds[0].info\n    inverse_operator = make_inverse_operator(\n        info, forward, cov, loose=0.2, depth=0.8)\n    write_inverse_operator(fname_inv, inverse_operator)\n\n    # Apply inverse\n    snr = 3.0\n    lambda2 = 1.0 / snr ** 2\n\n    for evoked in evokeds:\n        stc = apply_inverse(evoked, inverse_operator, lambda2, \"dSPM\",\n                            pick_ori='vector')\n        stc.save(op.join(data_path, 'mne_dSPM_inverse_highpass-%sHz-%s'\n                         % (l_freq, evoked.comment)))\n\n\nparallel, run_func, _ = parallel_func(run_inverse, n_jobs=N_JOBS)\nparallel(run_func(subject_id) for subject_id in range(1, 20))"
      ], 
      "outputs": [], 
      "metadata": {
        "collapsed": false
      }
    }
  ], 
  "metadata": {
    "kernelspec": {
      "display_name": "Python 2", 
      "name": "python2", 
      "language": "python"
    }, 
    "language_info": {
      "mimetype": "text/x-python", 
      "nbconvert_exporter": "python", 
      "name": "python", 
      "file_extension": ".py", 
      "version": "2.7.12", 
      "pygments_lexer": "ipython2", 
      "codemirror_mode": {
        "version": 2, 
        "name": "ipython"
      }
    }
  }
}