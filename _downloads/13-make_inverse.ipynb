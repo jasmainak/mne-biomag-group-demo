{
  "cells": [
    {
      "cell_type": "code",
      "execution_count": null,
      "metadata": {
        "collapsed": false
      },
      "outputs": [],
      "source": [
        "%matplotlib inline"
      ]
    },
    {
      "cell_type": "markdown",
      "metadata": {},
      "source": [
        "\n====================\n13. Inverse solution\n====================\n\nCompute and apply a dSPM inverse solution for each evoked data set.\n\n"
      ]
    },
    {
      "cell_type": "code",
      "execution_count": null,
      "metadata": {
        "collapsed": false
      },
      "outputs": [],
      "source": [
        "import os.path as op\n\nimport mne\nfrom mne.parallel import parallel_func\nfrom mne.minimum_norm import (make_inverse_operator, apply_inverse,\n                              write_inverse_operator)\n\nfrom library.config import meg_dir, spacing, N_JOBS, l_freq\n\n\ndef run_inverse(subject_id):\n    subject = \"sub%03d\" % subject_id\n    print(\"processing subject: %s\" % subject)\n    data_path = op.join(meg_dir, subject)\n\n    fname_ave = op.join(data_path,\n                        '%s_highpass-%sHz-ave.fif' % (subject, l_freq))\n    fname_cov = op.join(data_path,\n                        '%s_highpass-%sHz-cov.fif' % (subject, l_freq))\n    fname_fwd = op.join(data_path, '%s-meg-eeg-%s-fwd.fif'\n                        % (subject, spacing))\n    fname_inv = op.join(data_path, '%s_highpass-%sHz-meg-eeg-%s-inv.fif'\n                        % (subject, l_freq, spacing))\n\n    evokeds = mne.read_evokeds(\n        fname_ave, condition=['scrambled', 'unfamiliar', 'famous',\n                              'faces', 'contrast',\n                              'faces_eq', 'scrambled_eq'])\n    cov = mne.read_cov(fname_cov)\n    forward = mne.read_forward_solution(fname_fwd)\n\n    # This will be an MEG-only inverse because the 3-layer BEMs are not\n    # reliable, so our forward only has MEG channels.\n    info = evokeds[0].info\n    inverse_operator = make_inverse_operator(\n        info, forward, cov, loose=0.2, depth=0.8)\n    write_inverse_operator(fname_inv, inverse_operator)\n\n    # Apply inverse\n    snr = 3.0\n    lambda2 = 1.0 / snr ** 2\n\n    for evoked in evokeds:\n        stc = apply_inverse(evoked, inverse_operator, lambda2, \"dSPM\",\n                            pick_ori='vector')\n        stc.save(op.join(data_path, 'mne_dSPM_inverse_highpass-%sHz-%s'\n                         % (l_freq, evoked.comment)))\n\n\nparallel, run_func, _ = parallel_func(run_inverse, n_jobs=N_JOBS)\nparallel(run_func(subject_id) for subject_id in range(1, 20))"
      ]
    }
  ],
  "metadata": {
    "kernelspec": {
      "display_name": "Python 3",
      "language": "python",
      "name": "python3"
    },
    "language_info": {
      "codemirror_mode": {
        "name": "ipython",
        "version": 3
      },
      "file_extension": ".py",
      "mimetype": "text/x-python",
      "name": "python",
      "nbconvert_exporter": "python",
      "pygments_lexer": "ipython3",
      "version": "3.6.1"
    }
  },
  "nbformat": 4,
  "nbformat_minor": 0
}