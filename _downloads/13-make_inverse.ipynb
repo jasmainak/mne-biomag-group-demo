{
  "nbformat_minor": 0, 
  "nbformat": 4, 
  "cells": [
    {
      "execution_count": null, 
      "cell_type": "code", 
      "source": [
        "%matplotlib inline"
      ], 
      "outputs": [], 
      "metadata": {
        "collapsed": false
      }
    }, 
    {
      "source": [
        "\nInverse solution\n================\n\nCompute inverse solution for each evoked data set.\n\n"
      ], 
      "cell_type": "markdown", 
      "metadata": {}
    }, 
    {
      "execution_count": null, 
      "cell_type": "code", 
      "source": [
        "import os.path as op\n\nimport mne\nfrom mne.parallel import parallel_func\nfrom mne.minimum_norm import (make_inverse_operator, apply_inverse,\n                              write_inverse_operator)\n\nfrom library.config import meg_dir, spacing, N_JOBS, l_freq\n\n\nexclude = [1, 5, 16]  # Excluded subjects\n\n\ndef run_inverse(subject_id):\n    if subject_id in exclude:\n        return\n    subject = \"sub%03d\" % subject_id\n    print(\"processing subject: %s\" % subject)\n    data_path = op.join(meg_dir, subject)\n\n    fname_ave = op.join(data_path, '%s_highpass-1Hz_ave.fif' % subject)\n    fname_cov = op.join(data_path, '%s_highpass-%sHz-cov.fif' % (subject,\n                                                                 l_freq))\n    fname_fwd = op.join(data_path, '%s-meg-%s-fwd.fif' % (subject, spacing))\n    fname_inv = op.join(data_path, '%s-meg-%s-inv.fif' % (subject, spacing))\n\n    evokeds = mne.read_evokeds(fname_ave, condition=[0, 1, 2, 3, 4])\n    cov = mne.read_cov(fname_cov)\n\n    forward = mne.read_forward_solution(fname_fwd, surf_ori=True)\n\n    # make an M/EEG, MEG-only, and EEG-only inverse operators\n    info = evokeds[0].info\n    inverse_operator = make_inverse_operator(info, forward, cov, loose=0.2,\n                                             depth=0.8)\n\n    write_inverse_operator(fname_inv, inverse_operator)\n\n    # Compute inverse solution\n    snr = 3.0\n    lambda2 = 1.0 / snr ** 2\n\n    for evoked in evokeds:\n        stc = apply_inverse(evoked, inverse_operator, lambda2, \"dSPM\",\n                            pick_ori=None)\n\n        stc.save(op.join(data_path, 'mne_dSPM_inverse-%s' % evoked.comment))\n\n\nparallel, run_func, _ = parallel_func(run_inverse, n_jobs=N_JOBS)\nparallel(run_func(subject_id) for subject_id in range(1, 20))"
      ], 
      "outputs": [], 
      "metadata": {
        "collapsed": false
      }
    }
  ], 
  "metadata": {
    "kernelspec": {
      "display_name": "Python 2", 
      "name": "python2", 
      "language": "python"
    }, 
    "language_info": {
      "mimetype": "text/x-python", 
      "nbconvert_exporter": "python", 
      "name": "python", 
      "file_extension": ".py", 
      "version": "2.7.12", 
      "pygments_lexer": "ipython2", 
      "codemirror_mode": {
        "version": 2, 
        "name": "ipython"
      }
    }
  }
}