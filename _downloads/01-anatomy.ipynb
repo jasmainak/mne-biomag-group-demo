{
  "cells": [
    {
      "cell_type": "code",
      "execution_count": null,
      "metadata": {
        "collapsed": false
      },
      "outputs": [],
      "source": [
        "%matplotlib inline"
      ]
    },
    {
      "cell_type": "markdown",
      "metadata": {},
      "source": [
        "\n==========================================\n01. Run Freesurfer/MNE anatomical pipeline\n==========================================\n\nThis runs Freesurfer recon-all on all subjects and computes the BEM surfaces\nlater used for forward modeling. BEM extraction is done using flash MRI data.\n\nMake sure that Freesurfer is properly configured before running this script.\nSee the `Setup & Configuration`_ section of the Freesurfer manual.\n\n<div class=\"alert alert-info\"><h4>Note</h4><p>Because of how long the reconstruction takes, this script is set\n          up to only regenerate data if necessary. If you want to re-run\n          specific steps, then you must delete the resulting files.</p></div>\n\n\n"
      ]
    },
    {
      "cell_type": "code",
      "execution_count": null,
      "metadata": {
        "collapsed": false
      },
      "outputs": [],
      "source": [
        "import os\nimport os.path as op\nimport glob\nimport shutil\nimport subprocess\nimport time\n\nimport numpy as np\n\nimport mne\nfrom mne.parallel import parallel_func\nimport nibabel as nib\n\nfrom library.config import study_path, subjects_dir, N_JOBS, spacing\n\n\ndef tee_output(command, log_file):\n    print('Running :\\n%s' % \" \".join(command))\n    with open(log_file, 'wb') as fid:\n        proc = subprocess.Popen(\n            command, stdout=subprocess.PIPE, stderr=subprocess.STDOUT)\n        for line in proc.stdout:\n            # print(line.decode('utf-8'))\n            fid.write(line)\n    if proc.wait() != 0:\n        raise RuntimeError('Command failed')\n\n\ndef process_subject_anat(subject_id, force_recon_all=False):\n    subject = \"sub%03d\" % subject_id\n    print(\"Processing %s\" % subject)\n\n    t1_fname = op.join(study_path, 'ds117', subject, 'anatomy',\n                       'highres001.nii.gz')\n    log_fname = op.join(study_path, 'ds117', subject, 'my-recon-all.txt')\n    subject_dir = op.join(subjects_dir, subject)\n    if op.isdir(subject_dir):\n        print('  Skipping reconstruction (folder exists)')\n    else:\n        print('  Running reconstruction (usually takes hours)')\n        t0 = time.time()\n        tee_output(\n            ['recon-all', '-all', '-s', subject, '-sd', subjects_dir,\n             '-i', t1_fname], log_fname)\n        print('  Recon for %s complete in %0.1f hours'\n              % (subject_id, (time.time() - t0) / 60. / 60.))\n\n    # Move flash data\n    fnames = glob.glob(op.join(study_path, 'ds117', subject, 'anatomy',\n                               'FLASH', 'meflash*'))\n    dst_flash = op.join(subjects_dir, subject, 'mri', 'flash')\n    if not op.isdir(dst_flash):\n        print('  Copying FLASH files')\n        os.makedirs(dst_flash)\n        for f_src in fnames:\n            f_dst = op.basename(f_src).replace(\"meflash_\", \"mef\")\n            f_dst = op.join(dst_flash, f_dst)\n            shutil.copy(f_src, f_dst)\n\n    # Fix the headers for subject 19\n    if subject_id == 19:\n        print('  Fixing FLASH files for %s' % (subject,))\n        fnames = (['mef05_%d.mgz' % x for x in range(7)] +\n                  ['mef30_%d.mgz' % x for x in range(7)])\n        for fname in fnames:\n            dest_fname = op.join(dst_flash, fname)\n            dest_img = nib.load(op.splitext(dest_fname)[0] + '.nii.gz')\n\n            # Copy the headers from subjects 1\n            src_img = nib.load(op.join(\n                subjects_dir, \"sub001\", \"mri\", \"flash\", fname))\n            hdr = src_img.header\n            fixed = nib.MGHImage(dest_img.get_data(), dest_img.affine, hdr)\n            nib.save(fixed, dest_fname)\n\n    # Make BEMs\n    if not op.isfile(\"%s/%s/mri/flash/parameter_maps/flash5.mgz\"\n                     % (subjects_dir, subject)):\n        print('  Converting flash MRIs')\n        mne.bem.convert_flash_mris(subject, convert=False,\n                                   subjects_dir=subjects_dir, verbose=False)\n    if not op.isfile(\"%s/%s/bem/flash/outer_skin.surf\"\n                     % (subjects_dir, subject)):\n        print('  Making BEM')\n        mne.bem.make_flash_bem(subject, subjects_dir=subjects_dir,\n                               show=False, verbose=False)\n    for n_layers in (1, 3):\n        extra = '-'.join(['5120'] * n_layers)\n        fname_bem_surfaces = op.join(subjects_dir, subject, 'bem',\n                                     '%s-%s-bem.fif' % (subject, extra))\n        if not op.isfile(fname_bem_surfaces):\n            print('  Setting up %d-layer BEM' % (n_layers,))\n            conductivity = (0.3, 0.006, 0.3)[:n_layers]\n            try:\n                bem_surfaces = mne.make_bem_model(\n                    subject, ico=4, conductivity=conductivity,\n                    subjects_dir=subjects_dir)\n            except RuntimeError as exp:\n                print('  FAILED to create %d-layer BEM for %s: %s'\n                      % (n_layers, subject, exp.args[0]))\n                continue\n            mne.write_bem_surfaces(fname_bem_surfaces, bem_surfaces)\n        fname_bem = op.join(subjects_dir, subject, 'bem',\n                            '%s-%s-bem-sol.fif' % (subject, extra))\n        if not op.isfile(fname_bem):\n            print('  Computing  %d-layer BEM solution' % (n_layers,))\n            bem_model = mne.read_bem_surfaces(fname_bem_surfaces)\n            bem = mne.make_bem_solution(bem_model)\n            mne.write_bem_solution(fname_bem, bem)\n\n    # Create the surface source space\n    fname_src = op.join(subjects_dir, subject, 'bem', '%s-%s-src.fif'\n                        % (subject, spacing))\n    if not op.isfile(fname_src):\n        print('  Setting up source space')\n        src = mne.setup_source_space(subject, spacing,\n                                     subjects_dir=subjects_dir)\n        mne.write_source_spaces(fname_src, src)\n\n\nparallel, run_func, _ = parallel_func(process_subject_anat, n_jobs=N_JOBS)\nparallel(run_func(subject_id) for subject_id in range(1, 20))\n\n# now we do something special for fsaverage\nfsaverage_src_dir = op.join(os.environ['FREESURFER_HOME'], 'subjects', 'fsaverage')\nfsaverage_dst_dir = op.join(subjects_dir, 'fsaverage')\n\nprint('Copying fsaverage into subjects directory')  # to allow writting in folder\nos.unlink(fsaverage_dst_dir)  # remove symlink\nshutil.copytree(fsaverage_src_dir, fsaverage_dst_dir)\n\nfsaverage_bem = op.join(fsaverage_dst_dir, 'bem')\nif not op.isdir(fsaverage_bem):\n    os.mkdir(fsaverage_bem)\n\nfsaverage_src = op.join(fsaverage_bem, 'fsaverage-5-src.fif')\nif not op.isfile(fsaverage_src):\n    print('Setting up source space for fsaverage')\n    src = mne.setup_source_space('fsaverage', 'ico5',\n                                 subjects_dir=subjects_dir)\n    for s in src:\n        assert np.array_equal(s['vertno'], np.arange(10242))\n    mne.write_source_spaces(fsaverage_src, src)"
      ]
    }
  ],
  "metadata": {
    "kernelspec": {
      "display_name": "Python 3",
      "language": "python",
      "name": "python3"
    },
    "language_info": {
      "codemirror_mode": {
        "name": "ipython",
        "version": 3
      },
      "file_extension": ".py",
      "mimetype": "text/x-python",
      "name": "python",
      "nbconvert_exporter": "python",
      "pygments_lexer": "ipython3",
      "version": "3.6.1"
    }
  },
  "nbformat": 4,
  "nbformat_minor": 0
}