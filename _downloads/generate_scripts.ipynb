{
  "cells": [
    {
      "cell_type": "code",
      "execution_count": null,
      "metadata": {
        "collapsed": false
      },
      "outputs": [],
      "source": [
        "%matplotlib inline"
      ]
    },
    {
      "cell_type": "markdown",
      "metadata": {},
      "source": [
        "\n# Plotting the analysis chain\n\n\nRun the analysis.\n\n"
      ]
    },
    {
      "cell_type": "code",
      "execution_count": null,
      "metadata": {
        "collapsed": false
      },
      "outputs": [],
      "source": [
        "import codecs\nimport os.path as op\n\nfrom mne.externals.tempita import Template\n\nwith codecs.open(op.join(op.dirname(__file__), 'template_analysis.py'),\n                 'r', 'utf-8') as f:\n    lines = f.readlines()\ntemplate = Template(u''.join(lines))\nfor subject in range(1, 20):\n    py_str = template.substitute(subject_id='%02d' % subject)\n    out_fname = op.join(op.dirname(__file__), '..', '..',\n                        'results', 'single_subject_analysis',\n                        'plot_analysis_%02d.py' % subject)\n    with codecs.open(out_fname, 'w', 'utf-8') as f:\n        f.write(py_str)"
      ]
    }
  ],
  "metadata": {
    "kernelspec": {
      "display_name": "Python 3",
      "language": "python",
      "name": "python3"
    },
    "language_info": {
      "codemirror_mode": {
        "name": "ipython",
        "version": 3
      },
      "file_extension": ".py",
      "mimetype": "text/x-python",
      "name": "python",
      "nbconvert_exporter": "python",
      "pygments_lexer": "ipython3",
      "version": "3.6.1"
    }
  },
  "nbformat": 4,
  "nbformat_minor": 0
}