{
  "nbformat_minor": 0, 
  "nbformat": 4, 
  "cells": [
    {
      "execution_count": null, 
      "cell_type": "code", 
      "source": [
        "%matplotlib inline"
      ], 
      "outputs": [], 
      "metadata": {
        "collapsed": false
      }
    }, 
    {
      "source": [
        "\n# Plotting the analysis chain\n\n\nRun the analysis.\n\n"
      ], 
      "cell_type": "markdown", 
      "metadata": {}
    }, 
    {
      "execution_count": null, 
      "cell_type": "code", 
      "source": [
        "import codecs\nimport os.path as op\n\nfrom mne.externals.tempita import Template\n\nwith codecs.open(op.join(op.dirname(__file__), 'template_analysis.py'),\n                 'r', 'utf-8') as f:\n    lines = f.readlines()\ntemplate = Template(u''.join(lines))\nfor subject in range(1, 20):\n    py_str = template.substitute(subject_id='%02d' % subject)\n    out_fname = op.join(op.dirname(__file__), '..', '..',\n                        'results', 'single_subject_analysis',\n                        'plot_analysis_%02d.py' % subject)\n    with codecs.open(out_fname, 'w', 'utf-8') as f:\n        f.write(py_str)"
      ], 
      "outputs": [], 
      "metadata": {
        "collapsed": false
      }
    }
  ], 
  "metadata": {
    "kernelspec": {
      "display_name": "Python 2", 
      "name": "python2", 
      "language": "python"
    }, 
    "language_info": {
      "mimetype": "text/x-python", 
      "nbconvert_exporter": "python", 
      "name": "python", 
      "file_extension": ".py", 
      "version": "2.7.12", 
      "pygments_lexer": "ipython2", 
      "codemirror_mode": {
        "version": 2, 
        "name": "ipython"
      }
    }
  }
}