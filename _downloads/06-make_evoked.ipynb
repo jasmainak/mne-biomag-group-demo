{
  "nbformat_minor": 0, 
  "nbformat": 4, 
  "cells": [
    {
      "execution_count": null, 
      "cell_type": "code", 
      "source": [
        "%matplotlib inline"
      ], 
      "outputs": [], 
      "metadata": {
        "collapsed": false
      }
    }, 
    {
      "source": [
        "\nEvoked data and covariance\n==========================\n\nThe evoked data sets are created by averaging different categories of epochs.\nThe evoked data is saved using categories 'famous', 'scrambled', 'unfamiliar',\n'contrast' and 'faces'. Covariance matrix is also computed and saved,\n\n"
      ], 
      "cell_type": "markdown", 
      "metadata": {}
    }, 
    {
      "execution_count": null, 
      "cell_type": "code", 
      "source": [
        "import os.path as op\n\nimport mne\nfrom mne.parallel import parallel_func\n\nfrom library.config import meg_dir, N_JOBS, l_freq\n\n\ndef run_evoked(subject_id, tsss=False):\n    subject = \"sub%03d\" % subject_id\n    print(\"processing subject: %s\" % subject)\n\n    data_path = op.join(meg_dir, subject)\n    if tsss:\n        epochs = mne.read_epochs(op.join(data_path,\n                                         '%s-tsss-epo.fif' % subject),\n                                 preload=False)\n    else:\n        epochs = mne.read_epochs(op.join(data_path, '%s_highpass-%sHz'\n                                 '-epo.fif' % (subject, l_freq)),\n                                 preload=False)\n\n    evoked_famous = epochs['face/famous'].average()\n    evoked_scrambled = epochs['scrambled'].average()\n    evoked_unfamiliar = epochs['face/unfamiliar'].average()\n\n    # Simplify comment\n    evoked_famous.comment = 'famous'\n    evoked_scrambled.comment = 'scrambled'\n    evoked_unfamiliar.comment = 'unfamiliar'\n\n    contrast = mne.combine_evoked([evoked_famous, evoked_unfamiliar,\n                                   evoked_scrambled], weights=[0.5, 0.5, -1.])\n    contrast.comment = 'contrast'\n    faces = mne.combine_evoked([evoked_famous, evoked_unfamiliar], 'nave')\n    faces.comment = 'faces'\n\n    if tsss:\n        mne.evoked.write_evokeds(op.join(data_path,\n                                         '%s-tsss-ave.fif' % subject),\n                                 [evoked_famous, evoked_scrambled,\n                                  evoked_unfamiliar, contrast, faces])\n\n    else:\n        mne.evoked.write_evokeds(op.join(data_path, '%s_highpass-%sHz'\n                                 '_ave.fif' % (subject, l_freq)),\n                                 [evoked_famous, evoked_scrambled,\n                                  evoked_unfamiliar, contrast, faces])\n\n    # take care of noise cov\n    cov = mne.compute_covariance(epochs, tmax=0, method='shrunk')\n    if tsss:\n        cov.save(op.join(data_path, '%s-tsss-cov.fif' % subject))\n    else:\n        cov.save(op.join(data_path, '%s_highpass-%sHz-cov.fif'\n                 % (subject, l_freq)))\n\n\nparallel, run_func, _ = parallel_func(run_evoked, n_jobs=N_JOBS)\nparallel(run_func(subject_id) for subject_id in range(1, 20))\nrun_evoked(1, True)  # run on maxwell filtered data"
      ], 
      "outputs": [], 
      "metadata": {
        "collapsed": false
      }
    }
  ], 
  "metadata": {
    "kernelspec": {
      "display_name": "Python 2", 
      "name": "python2", 
      "language": "python"
    }, 
    "language_info": {
      "mimetype": "text/x-python", 
      "nbconvert_exporter": "python", 
      "name": "python", 
      "file_extension": ".py", 
      "version": "2.7.12", 
      "pygments_lexer": "ipython2", 
      "codemirror_mode": {
        "version": 2, 
        "name": "ipython"
      }
    }
  }
}