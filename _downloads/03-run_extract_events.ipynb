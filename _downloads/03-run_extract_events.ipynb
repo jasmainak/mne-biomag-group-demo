{
  "nbformat_minor": 0, 
  "nbformat": 4, 
  "cells": [
    {
      "execution_count": null, 
      "cell_type": "code", 
      "source": [
        "%matplotlib inline"
      ], 
      "outputs": [], 
      "metadata": {
        "collapsed": false
      }
    }, 
    {
      "source": [
        "\nExtract events from the stimulus channel\n========================================\n\nThe events are extracted from stimulus channel 'STI101'. The events are saved\nto the subject's MEG directory.\n\n"
      ], 
      "cell_type": "markdown", 
      "metadata": {}
    }, 
    {
      "execution_count": null, 
      "cell_type": "code", 
      "source": [
        "import os\nimport os.path as op\n\nimport mne\nfrom mne.parallel import parallel_func\n\nfrom library.config import meg_dir, N_JOBS, l_freq\n\n\ndef run_events(subject_id):\n    subject = \"sub%03d\" % subject_id\n    print(\"processing subject: %s\" % subject)\n    data_path = op.join(meg_dir, subject)\n    for run in range(1, 7):\n        run_fname = op.join(\n            data_path, 'run_%02d_filt_sss_highpass-%sHz_raw.fif' % (run,\n                                                                    l_freq))\n        if not os.path.exists(run_fname):\n            continue\n\n        raw = mne.io.read_raw_fif(run_fname)\n        mask = 4096 + 256  # mask for excluding high order bits\n        events = mne.find_events(raw, stim_channel='STI101',\n                                 consecutive='increasing', mask=mask,\n                                 mask_type='not_and', min_duration=0.003,\n                                 verbose=True)\n\n        print(\"S %s - R %s\" % (subject, run))\n\n        fname_events = op.join(data_path, 'run_%02d_filt_sss-eve.fif' % run)\n        mne.write_events(fname_events, events)\n\nparallel, run_func, _ = parallel_func(run_events, n_jobs=N_JOBS)\nparallel(run_func(subject_id) for subject_id in range(1, 20))"
      ], 
      "outputs": [], 
      "metadata": {
        "collapsed": false
      }
    }
  ], 
  "metadata": {
    "kernelspec": {
      "display_name": "Python 2", 
      "name": "python2", 
      "language": "python"
    }, 
    "language_info": {
      "mimetype": "text/x-python", 
      "nbconvert_exporter": "python", 
      "name": "python", 
      "file_extension": ".py", 
      "version": "2.7.12", 
      "pygments_lexer": "ipython2", 
      "codemirror_mode": {
        "version": 2, 
        "name": "ipython"
      }
    }
  }
}