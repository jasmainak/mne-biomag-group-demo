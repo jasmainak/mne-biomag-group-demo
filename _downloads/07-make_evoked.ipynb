{
  "nbformat_minor": 0, 
  "nbformat": 4, 
  "cells": [
    {
      "execution_count": null, 
      "cell_type": "code", 
      "source": [
        "%matplotlib inline"
      ], 
      "outputs": [], 
      "metadata": {
        "collapsed": false
      }
    }, 
    {
      "source": [
        "\n===============\n07. Evoked data\n===============\n\nThe evoked data sets are created by averaging different categories of epochs.\nThe evoked data is saved using categories 'famous', 'scrambled', 'unfamiliar',\n'contrast' and 'faces'.\n\n"
      ], 
      "cell_type": "markdown", 
      "metadata": {}
    }, 
    {
      "execution_count": null, 
      "cell_type": "code", 
      "source": [
        "import os.path as op\n\nimport mne\nfrom mne.parallel import parallel_func\n\nfrom library.config import meg_dir, N_JOBS, l_freq\n\n\ndef run_evoked(subject_id, tsss=False):\n    subject = \"sub%03d\" % subject_id\n    print(\"Processing subject: %s%s\"\n          % (subject, (' (tSSS=%d)' % tsss) if tsss else ''))\n\n    data_path = op.join(meg_dir, subject)\n    if tsss:\n        fname_epo = op.join(data_path, '%s-tsss_%d-epo.fif' % (subject, tsss))\n        fname_evo = op.join(data_path, '%s-tsss_%d-ave.fif' % (subject, tsss))\n    else:\n        fname_epo = op.join(data_path, '%s_highpass-%sHz-epo.fif'\n                            % (subject, l_freq))\n        fname_evo = op.join(data_path, '%s_highpass-%sHz-ave.fif'\n                            % (subject, l_freq))\n    print('  Creating evoked datasets')\n    epochs = mne.read_epochs(fname_epo, preload=True)\n\n    evoked_famous = epochs['face/famous'].average()\n    evoked_scrambled = epochs['scrambled'].average()\n    evoked_unfamiliar = epochs['face/unfamiliar'].average()\n\n    # Simplify comment\n    evoked_famous.comment = 'famous'\n    evoked_scrambled.comment = 'scrambled'\n    evoked_unfamiliar.comment = 'unfamiliar'\n\n    contrast = mne.combine_evoked([evoked_famous, evoked_unfamiliar,\n                                   evoked_scrambled], weights=[0.5, 0.5, -1.])\n    contrast.comment = 'contrast'\n    faces = mne.combine_evoked([evoked_famous, evoked_unfamiliar], 'nave')\n    faces.comment = 'faces'\n\n    # let's make trial-count-normalized ones for group statistics\n    epochs_eq = epochs.copy().equalize_event_counts(['face', 'scrambled'])[0]\n    evoked_faces_eq = epochs_eq['face'].average()\n    evoked_scrambled_eq = epochs_eq['scrambled'].average()\n    assert evoked_faces_eq.nave == evoked_scrambled_eq.nave\n    evoked_faces_eq.comment = 'faces_eq'\n    evoked_scrambled_eq.comment = 'scrambled_eq'\n\n    mne.evoked.write_evokeds(fname_evo, [evoked_famous, evoked_scrambled,\n                                         evoked_unfamiliar, contrast, faces,\n                                         evoked_faces_eq, evoked_scrambled_eq])\n\n\nparallel, run_func, _ = parallel_func(run_evoked, n_jobs=N_JOBS)\nparallel(run_func(subject_id) for subject_id in range(1, 20))\nif l_freq is None:\n    parallel(run_func(3, tsss) for tsss in (10, 1))  # Maxwell filtered data"
      ], 
      "outputs": [], 
      "metadata": {
        "collapsed": false
      }
    }
  ], 
  "metadata": {
    "kernelspec": {
      "display_name": "Python 2", 
      "name": "python2", 
      "language": "python"
    }, 
    "language_info": {
      "mimetype": "text/x-python", 
      "nbconvert_exporter": "python", 
      "name": "python", 
      "file_extension": ".py", 
      "version": "2.7.12", 
      "pygments_lexer": "ipython2", 
      "codemirror_mode": {
        "version": 2, 
        "name": "ipython"
      }
    }
  }
}